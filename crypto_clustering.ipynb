{
 "cells": [
  {
   "cell_type": "markdown",
   "metadata": {},
   "source": [
    "# Clustering Crypto"
   ]
  },
  {
   "cell_type": "code",
   "execution_count": 35,
   "metadata": {},
   "outputs": [],
   "source": [
    "# Initial imports\n",
    "import pandas as pd\n",
    "import hvplot.pandas\n",
    "from path import Path\n",
    "import plotly.express as px\n",
    "from sklearn.preprocessing import StandardScaler, MinMaxScaler\n",
    "from sklearn.decomposition import PCA\n",
    "from sklearn.cluster import KMeans\n"
   ]
  },
  {
   "cell_type": "markdown",
   "metadata": {},
   "source": [
    "### Deliverable 1: Preprocessing the Data for PCA"
   ]
  },
  {
   "cell_type": "code",
   "execution_count": 36,
   "metadata": {},
   "outputs": [
    {
     "data": {
      "text/html": [
       "<div>\n",
       "<style scoped>\n",
       "    .dataframe tbody tr th:only-of-type {\n",
       "        vertical-align: middle;\n",
       "    }\n",
       "\n",
       "    .dataframe tbody tr th {\n",
       "        vertical-align: top;\n",
       "    }\n",
       "\n",
       "    .dataframe thead th {\n",
       "        text-align: right;\n",
       "    }\n",
       "</style>\n",
       "<table border=\"1\" class=\"dataframe\">\n",
       "  <thead>\n",
       "    <tr style=\"text-align: right;\">\n",
       "      <th></th>\n",
       "      <th>CoinName</th>\n",
       "      <th>Algorithm</th>\n",
       "      <th>IsTrading</th>\n",
       "      <th>ProofType</th>\n",
       "      <th>TotalCoinsMined</th>\n",
       "      <th>TotalCoinSupply</th>\n",
       "    </tr>\n",
       "  </thead>\n",
       "  <tbody>\n",
       "    <tr>\n",
       "      <th>42</th>\n",
       "      <td>42 Coin</td>\n",
       "      <td>Scrypt</td>\n",
       "      <td>True</td>\n",
       "      <td>PoW/PoS</td>\n",
       "      <td>4.199995e+01</td>\n",
       "      <td>42</td>\n",
       "    </tr>\n",
       "    <tr>\n",
       "      <th>365</th>\n",
       "      <td>365Coin</td>\n",
       "      <td>X11</td>\n",
       "      <td>True</td>\n",
       "      <td>PoW/PoS</td>\n",
       "      <td>NaN</td>\n",
       "      <td>2300000000</td>\n",
       "    </tr>\n",
       "    <tr>\n",
       "      <th>404</th>\n",
       "      <td>404Coin</td>\n",
       "      <td>Scrypt</td>\n",
       "      <td>True</td>\n",
       "      <td>PoW/PoS</td>\n",
       "      <td>1.055185e+09</td>\n",
       "      <td>532000000</td>\n",
       "    </tr>\n",
       "    <tr>\n",
       "      <th>611</th>\n",
       "      <td>SixEleven</td>\n",
       "      <td>SHA-256</td>\n",
       "      <td>True</td>\n",
       "      <td>PoW</td>\n",
       "      <td>NaN</td>\n",
       "      <td>611000</td>\n",
       "    </tr>\n",
       "    <tr>\n",
       "      <th>808</th>\n",
       "      <td>808</td>\n",
       "      <td>SHA-256</td>\n",
       "      <td>True</td>\n",
       "      <td>PoW/PoS</td>\n",
       "      <td>0.000000e+00</td>\n",
       "      <td>0</td>\n",
       "    </tr>\n",
       "  </tbody>\n",
       "</table>\n",
       "</div>"
      ],
      "text/plain": [
       "      CoinName Algorithm  IsTrading ProofType  TotalCoinsMined TotalCoinSupply\n",
       "42     42 Coin    Scrypt       True   PoW/PoS     4.199995e+01              42\n",
       "365    365Coin       X11       True   PoW/PoS              NaN      2300000000\n",
       "404    404Coin    Scrypt       True   PoW/PoS     1.055185e+09       532000000\n",
       "611  SixEleven   SHA-256       True       PoW              NaN          611000\n",
       "808        808   SHA-256       True   PoW/PoS     0.000000e+00               0"
      ]
     },
     "execution_count": 36,
     "metadata": {},
     "output_type": "execute_result"
    }
   ],
   "source": [
    "# Load the crypto_data.csv dataset.\n",
    "file_path = \"Resources/crypto_data.csv\"\n",
    "df_crypto = pd.read_csv(file_path,index_col = 0)\n",
    "df_crypto.head()"
   ]
  },
  {
   "cell_type": "code",
   "execution_count": 37,
   "metadata": {},
   "outputs": [
    {
     "data": {
      "text/plain": [
       "(1144, 6)"
      ]
     },
     "execution_count": 37,
     "metadata": {},
     "output_type": "execute_result"
    }
   ],
   "source": [
    "# Keep all the cryptocurrencies that are being traded.\n",
    "df_crypto = df_crypto[df_crypto.IsTrading.eq(True)]\n",
    "df_crypto.shape"
   ]
  },
  {
   "cell_type": "code",
   "execution_count": 38,
   "metadata": {},
   "outputs": [
    {
     "data": {
      "text/plain": [
       "42      False\n",
       "365     False\n",
       "404     False\n",
       "611     False\n",
       "808     False\n",
       "        ...  \n",
       "SERO    False\n",
       "UOS     False\n",
       "BDX     False\n",
       "ZEN     False\n",
       "XBC     False\n",
       "Name: Algorithm, Length: 1144, dtype: bool"
      ]
     },
     "execution_count": 38,
     "metadata": {},
     "output_type": "execute_result"
    }
   ],
   "source": [
    "# Keep all the cryptocurrencies that have a working algorithm.\n",
    "pd.isna(df_crypto['Algorithm'])"
   ]
  },
  {
   "cell_type": "code",
   "execution_count": 39,
   "metadata": {},
   "outputs": [],
   "source": [
    "# Remove the \"IsTrading\" column. \n",
    "df_crypto = df_crypto.drop([\"IsTrading\"],axis = 1)"
   ]
  },
  {
   "cell_type": "code",
   "execution_count": 40,
   "metadata": {},
   "outputs": [
    {
     "data": {
      "text/html": [
       "<div>\n",
       "<style scoped>\n",
       "    .dataframe tbody tr th:only-of-type {\n",
       "        vertical-align: middle;\n",
       "    }\n",
       "\n",
       "    .dataframe tbody tr th {\n",
       "        vertical-align: top;\n",
       "    }\n",
       "\n",
       "    .dataframe thead th {\n",
       "        text-align: right;\n",
       "    }\n",
       "</style>\n",
       "<table border=\"1\" class=\"dataframe\">\n",
       "  <thead>\n",
       "    <tr style=\"text-align: right;\">\n",
       "      <th></th>\n",
       "      <th>CoinName</th>\n",
       "      <th>Algorithm</th>\n",
       "      <th>ProofType</th>\n",
       "      <th>TotalCoinsMined</th>\n",
       "      <th>TotalCoinSupply</th>\n",
       "    </tr>\n",
       "  </thead>\n",
       "  <tbody>\n",
       "    <tr>\n",
       "      <th>42</th>\n",
       "      <td>42 Coin</td>\n",
       "      <td>Scrypt</td>\n",
       "      <td>PoW/PoS</td>\n",
       "      <td>4.199995e+01</td>\n",
       "      <td>42</td>\n",
       "    </tr>\n",
       "    <tr>\n",
       "      <th>404</th>\n",
       "      <td>404Coin</td>\n",
       "      <td>Scrypt</td>\n",
       "      <td>PoW/PoS</td>\n",
       "      <td>1.055185e+09</td>\n",
       "      <td>532000000</td>\n",
       "    </tr>\n",
       "    <tr>\n",
       "      <th>808</th>\n",
       "      <td>808</td>\n",
       "      <td>SHA-256</td>\n",
       "      <td>PoW/PoS</td>\n",
       "      <td>0.000000e+00</td>\n",
       "      <td>0</td>\n",
       "    </tr>\n",
       "    <tr>\n",
       "      <th>1337</th>\n",
       "      <td>EliteCoin</td>\n",
       "      <td>X13</td>\n",
       "      <td>PoW/PoS</td>\n",
       "      <td>2.927942e+10</td>\n",
       "      <td>314159265359</td>\n",
       "    </tr>\n",
       "    <tr>\n",
       "      <th>BTC</th>\n",
       "      <td>Bitcoin</td>\n",
       "      <td>SHA-256</td>\n",
       "      <td>PoW</td>\n",
       "      <td>1.792718e+07</td>\n",
       "      <td>21000000</td>\n",
       "    </tr>\n",
       "    <tr>\n",
       "      <th>...</th>\n",
       "      <td>...</td>\n",
       "      <td>...</td>\n",
       "      <td>...</td>\n",
       "      <td>...</td>\n",
       "      <td>...</td>\n",
       "    </tr>\n",
       "    <tr>\n",
       "      <th>ZEPH</th>\n",
       "      <td>ZEPHYR</td>\n",
       "      <td>SHA-256</td>\n",
       "      <td>DPoS</td>\n",
       "      <td>2.000000e+09</td>\n",
       "      <td>2000000000</td>\n",
       "    </tr>\n",
       "    <tr>\n",
       "      <th>GAP</th>\n",
       "      <td>Gapcoin</td>\n",
       "      <td>Scrypt</td>\n",
       "      <td>PoW/PoS</td>\n",
       "      <td>1.493105e+07</td>\n",
       "      <td>250000000</td>\n",
       "    </tr>\n",
       "    <tr>\n",
       "      <th>BDX</th>\n",
       "      <td>Beldex</td>\n",
       "      <td>CryptoNight</td>\n",
       "      <td>PoW</td>\n",
       "      <td>9.802226e+08</td>\n",
       "      <td>1400222610</td>\n",
       "    </tr>\n",
       "    <tr>\n",
       "      <th>ZEN</th>\n",
       "      <td>Horizen</td>\n",
       "      <td>Equihash</td>\n",
       "      <td>PoW</td>\n",
       "      <td>7.296538e+06</td>\n",
       "      <td>21000000</td>\n",
       "    </tr>\n",
       "    <tr>\n",
       "      <th>XBC</th>\n",
       "      <td>BitcoinPlus</td>\n",
       "      <td>Scrypt</td>\n",
       "      <td>PoS</td>\n",
       "      <td>1.283270e+05</td>\n",
       "      <td>1000000</td>\n",
       "    </tr>\n",
       "  </tbody>\n",
       "</table>\n",
       "<p>685 rows × 5 columns</p>\n",
       "</div>"
      ],
      "text/plain": [
       "         CoinName    Algorithm ProofType  TotalCoinsMined TotalCoinSupply\n",
       "42        42 Coin       Scrypt   PoW/PoS     4.199995e+01              42\n",
       "404       404Coin       Scrypt   PoW/PoS     1.055185e+09       532000000\n",
       "808           808      SHA-256   PoW/PoS     0.000000e+00               0\n",
       "1337    EliteCoin          X13   PoW/PoS     2.927942e+10    314159265359\n",
       "BTC       Bitcoin      SHA-256       PoW     1.792718e+07        21000000\n",
       "...           ...          ...       ...              ...             ...\n",
       "ZEPH       ZEPHYR      SHA-256      DPoS     2.000000e+09      2000000000\n",
       "GAP       Gapcoin       Scrypt   PoW/PoS     1.493105e+07       250000000\n",
       "BDX        Beldex  CryptoNight       PoW     9.802226e+08      1400222610\n",
       "ZEN       Horizen     Equihash       PoW     7.296538e+06        21000000\n",
       "XBC   BitcoinPlus       Scrypt       PoS     1.283270e+05         1000000\n",
       "\n",
       "[685 rows x 5 columns]"
      ]
     },
     "execution_count": 40,
     "metadata": {},
     "output_type": "execute_result"
    }
   ],
   "source": [
    "# Remove rows that have at least 1 null value.\n",
    "df_crypto = df_crypto.dropna(how='any',axis=0) \n",
    "df_crypto"
   ]
  },
  {
   "cell_type": "code",
   "execution_count": 41,
   "metadata": {},
   "outputs": [
    {
     "data": {
      "text/html": [
       "<div>\n",
       "<style scoped>\n",
       "    .dataframe tbody tr th:only-of-type {\n",
       "        vertical-align: middle;\n",
       "    }\n",
       "\n",
       "    .dataframe tbody tr th {\n",
       "        vertical-align: top;\n",
       "    }\n",
       "\n",
       "    .dataframe thead th {\n",
       "        text-align: right;\n",
       "    }\n",
       "</style>\n",
       "<table border=\"1\" class=\"dataframe\">\n",
       "  <thead>\n",
       "    <tr style=\"text-align: right;\">\n",
       "      <th></th>\n",
       "      <th>CoinName</th>\n",
       "      <th>Algorithm</th>\n",
       "      <th>ProofType</th>\n",
       "      <th>TotalCoinsMined</th>\n",
       "      <th>TotalCoinSupply</th>\n",
       "    </tr>\n",
       "  </thead>\n",
       "  <tbody>\n",
       "    <tr>\n",
       "      <th>42</th>\n",
       "      <td>42 Coin</td>\n",
       "      <td>Scrypt</td>\n",
       "      <td>PoW/PoS</td>\n",
       "      <td>4.199995e+01</td>\n",
       "      <td>42</td>\n",
       "    </tr>\n",
       "    <tr>\n",
       "      <th>404</th>\n",
       "      <td>404Coin</td>\n",
       "      <td>Scrypt</td>\n",
       "      <td>PoW/PoS</td>\n",
       "      <td>1.055185e+09</td>\n",
       "      <td>532000000</td>\n",
       "    </tr>\n",
       "    <tr>\n",
       "      <th>1337</th>\n",
       "      <td>EliteCoin</td>\n",
       "      <td>X13</td>\n",
       "      <td>PoW/PoS</td>\n",
       "      <td>2.927942e+10</td>\n",
       "      <td>314159265359</td>\n",
       "    </tr>\n",
       "    <tr>\n",
       "      <th>BTC</th>\n",
       "      <td>Bitcoin</td>\n",
       "      <td>SHA-256</td>\n",
       "      <td>PoW</td>\n",
       "      <td>1.792718e+07</td>\n",
       "      <td>21000000</td>\n",
       "    </tr>\n",
       "    <tr>\n",
       "      <th>ETH</th>\n",
       "      <td>Ethereum</td>\n",
       "      <td>Ethash</td>\n",
       "      <td>PoW</td>\n",
       "      <td>1.076842e+08</td>\n",
       "      <td>0</td>\n",
       "    </tr>\n",
       "    <tr>\n",
       "      <th>...</th>\n",
       "      <td>...</td>\n",
       "      <td>...</td>\n",
       "      <td>...</td>\n",
       "      <td>...</td>\n",
       "      <td>...</td>\n",
       "    </tr>\n",
       "    <tr>\n",
       "      <th>ZEPH</th>\n",
       "      <td>ZEPHYR</td>\n",
       "      <td>SHA-256</td>\n",
       "      <td>DPoS</td>\n",
       "      <td>2.000000e+09</td>\n",
       "      <td>2000000000</td>\n",
       "    </tr>\n",
       "    <tr>\n",
       "      <th>GAP</th>\n",
       "      <td>Gapcoin</td>\n",
       "      <td>Scrypt</td>\n",
       "      <td>PoW/PoS</td>\n",
       "      <td>1.493105e+07</td>\n",
       "      <td>250000000</td>\n",
       "    </tr>\n",
       "    <tr>\n",
       "      <th>BDX</th>\n",
       "      <td>Beldex</td>\n",
       "      <td>CryptoNight</td>\n",
       "      <td>PoW</td>\n",
       "      <td>9.802226e+08</td>\n",
       "      <td>1400222610</td>\n",
       "    </tr>\n",
       "    <tr>\n",
       "      <th>ZEN</th>\n",
       "      <td>Horizen</td>\n",
       "      <td>Equihash</td>\n",
       "      <td>PoW</td>\n",
       "      <td>7.296538e+06</td>\n",
       "      <td>21000000</td>\n",
       "    </tr>\n",
       "    <tr>\n",
       "      <th>XBC</th>\n",
       "      <td>BitcoinPlus</td>\n",
       "      <td>Scrypt</td>\n",
       "      <td>PoS</td>\n",
       "      <td>1.283270e+05</td>\n",
       "      <td>1000000</td>\n",
       "    </tr>\n",
       "  </tbody>\n",
       "</table>\n",
       "<p>532 rows × 5 columns</p>\n",
       "</div>"
      ],
      "text/plain": [
       "         CoinName    Algorithm ProofType  TotalCoinsMined TotalCoinSupply\n",
       "42        42 Coin       Scrypt   PoW/PoS     4.199995e+01              42\n",
       "404       404Coin       Scrypt   PoW/PoS     1.055185e+09       532000000\n",
       "1337    EliteCoin          X13   PoW/PoS     2.927942e+10    314159265359\n",
       "BTC       Bitcoin      SHA-256       PoW     1.792718e+07        21000000\n",
       "ETH      Ethereum       Ethash       PoW     1.076842e+08               0\n",
       "...           ...          ...       ...              ...             ...\n",
       "ZEPH       ZEPHYR      SHA-256      DPoS     2.000000e+09      2000000000\n",
       "GAP       Gapcoin       Scrypt   PoW/PoS     1.493105e+07       250000000\n",
       "BDX        Beldex  CryptoNight       PoW     9.802226e+08      1400222610\n",
       "ZEN       Horizen     Equihash       PoW     7.296538e+06        21000000\n",
       "XBC   BitcoinPlus       Scrypt       PoS     1.283270e+05         1000000\n",
       "\n",
       "[532 rows x 5 columns]"
      ]
     },
     "execution_count": 41,
     "metadata": {},
     "output_type": "execute_result"
    }
   ],
   "source": [
    "# Keep the rows where coins are mined.\n",
    "df_crypto = df_crypto[df_crypto.TotalCoinsMined > 0]\n",
    "df_crypto"
   ]
  },
  {
   "cell_type": "code",
   "execution_count": 42,
   "metadata": {},
   "outputs": [
    {
     "data": {
      "text/html": [
       "<div>\n",
       "<style scoped>\n",
       "    .dataframe tbody tr th:only-of-type {\n",
       "        vertical-align: middle;\n",
       "    }\n",
       "\n",
       "    .dataframe tbody tr th {\n",
       "        vertical-align: top;\n",
       "    }\n",
       "\n",
       "    .dataframe thead th {\n",
       "        text-align: right;\n",
       "    }\n",
       "</style>\n",
       "<table border=\"1\" class=\"dataframe\">\n",
       "  <thead>\n",
       "    <tr style=\"text-align: right;\">\n",
       "      <th></th>\n",
       "      <th>CoinName</th>\n",
       "    </tr>\n",
       "  </thead>\n",
       "  <tbody>\n",
       "    <tr>\n",
       "      <th>42</th>\n",
       "      <td>42 Coin</td>\n",
       "    </tr>\n",
       "    <tr>\n",
       "      <th>404</th>\n",
       "      <td>404Coin</td>\n",
       "    </tr>\n",
       "    <tr>\n",
       "      <th>1337</th>\n",
       "      <td>EliteCoin</td>\n",
       "    </tr>\n",
       "    <tr>\n",
       "      <th>BTC</th>\n",
       "      <td>Bitcoin</td>\n",
       "    </tr>\n",
       "    <tr>\n",
       "      <th>ETH</th>\n",
       "      <td>Ethereum</td>\n",
       "    </tr>\n",
       "    <tr>\n",
       "      <th>...</th>\n",
       "      <td>...</td>\n",
       "    </tr>\n",
       "    <tr>\n",
       "      <th>ZEPH</th>\n",
       "      <td>ZEPHYR</td>\n",
       "    </tr>\n",
       "    <tr>\n",
       "      <th>GAP</th>\n",
       "      <td>Gapcoin</td>\n",
       "    </tr>\n",
       "    <tr>\n",
       "      <th>BDX</th>\n",
       "      <td>Beldex</td>\n",
       "    </tr>\n",
       "    <tr>\n",
       "      <th>ZEN</th>\n",
       "      <td>Horizen</td>\n",
       "    </tr>\n",
       "    <tr>\n",
       "      <th>XBC</th>\n",
       "      <td>BitcoinPlus</td>\n",
       "    </tr>\n",
       "  </tbody>\n",
       "</table>\n",
       "<p>532 rows × 1 columns</p>\n",
       "</div>"
      ],
      "text/plain": [
       "         CoinName\n",
       "42        42 Coin\n",
       "404       404Coin\n",
       "1337    EliteCoin\n",
       "BTC       Bitcoin\n",
       "ETH      Ethereum\n",
       "...           ...\n",
       "ZEPH       ZEPHYR\n",
       "GAP       Gapcoin\n",
       "BDX        Beldex\n",
       "ZEN       Horizen\n",
       "XBC   BitcoinPlus\n",
       "\n",
       "[532 rows x 1 columns]"
      ]
     },
     "execution_count": 42,
     "metadata": {},
     "output_type": "execute_result"
    }
   ],
   "source": [
    "# Create a new DataFrame that holds only the cryptocurrencies names.\n",
    "names = df_crypto.filter(['CoinName'], axis=1)\n",
    "names"
   ]
  },
  {
   "cell_type": "code",
   "execution_count": 43,
   "metadata": {},
   "outputs": [
    {
     "data": {
      "text/html": [
       "<div>\n",
       "<style scoped>\n",
       "    .dataframe tbody tr th:only-of-type {\n",
       "        vertical-align: middle;\n",
       "    }\n",
       "\n",
       "    .dataframe tbody tr th {\n",
       "        vertical-align: top;\n",
       "    }\n",
       "\n",
       "    .dataframe thead th {\n",
       "        text-align: right;\n",
       "    }\n",
       "</style>\n",
       "<table border=\"1\" class=\"dataframe\">\n",
       "  <thead>\n",
       "    <tr style=\"text-align: right;\">\n",
       "      <th></th>\n",
       "      <th>Algorithm</th>\n",
       "      <th>ProofType</th>\n",
       "      <th>TotalCoinsMined</th>\n",
       "      <th>TotalCoinSupply</th>\n",
       "    </tr>\n",
       "  </thead>\n",
       "  <tbody>\n",
       "    <tr>\n",
       "      <th>42</th>\n",
       "      <td>Scrypt</td>\n",
       "      <td>PoW/PoS</td>\n",
       "      <td>4.199995e+01</td>\n",
       "      <td>42</td>\n",
       "    </tr>\n",
       "    <tr>\n",
       "      <th>404</th>\n",
       "      <td>Scrypt</td>\n",
       "      <td>PoW/PoS</td>\n",
       "      <td>1.055185e+09</td>\n",
       "      <td>532000000</td>\n",
       "    </tr>\n",
       "    <tr>\n",
       "      <th>1337</th>\n",
       "      <td>X13</td>\n",
       "      <td>PoW/PoS</td>\n",
       "      <td>2.927942e+10</td>\n",
       "      <td>314159265359</td>\n",
       "    </tr>\n",
       "    <tr>\n",
       "      <th>BTC</th>\n",
       "      <td>SHA-256</td>\n",
       "      <td>PoW</td>\n",
       "      <td>1.792718e+07</td>\n",
       "      <td>21000000</td>\n",
       "    </tr>\n",
       "    <tr>\n",
       "      <th>ETH</th>\n",
       "      <td>Ethash</td>\n",
       "      <td>PoW</td>\n",
       "      <td>1.076842e+08</td>\n",
       "      <td>0</td>\n",
       "    </tr>\n",
       "    <tr>\n",
       "      <th>...</th>\n",
       "      <td>...</td>\n",
       "      <td>...</td>\n",
       "      <td>...</td>\n",
       "      <td>...</td>\n",
       "    </tr>\n",
       "    <tr>\n",
       "      <th>ZEPH</th>\n",
       "      <td>SHA-256</td>\n",
       "      <td>DPoS</td>\n",
       "      <td>2.000000e+09</td>\n",
       "      <td>2000000000</td>\n",
       "    </tr>\n",
       "    <tr>\n",
       "      <th>GAP</th>\n",
       "      <td>Scrypt</td>\n",
       "      <td>PoW/PoS</td>\n",
       "      <td>1.493105e+07</td>\n",
       "      <td>250000000</td>\n",
       "    </tr>\n",
       "    <tr>\n",
       "      <th>BDX</th>\n",
       "      <td>CryptoNight</td>\n",
       "      <td>PoW</td>\n",
       "      <td>9.802226e+08</td>\n",
       "      <td>1400222610</td>\n",
       "    </tr>\n",
       "    <tr>\n",
       "      <th>ZEN</th>\n",
       "      <td>Equihash</td>\n",
       "      <td>PoW</td>\n",
       "      <td>7.296538e+06</td>\n",
       "      <td>21000000</td>\n",
       "    </tr>\n",
       "    <tr>\n",
       "      <th>XBC</th>\n",
       "      <td>Scrypt</td>\n",
       "      <td>PoS</td>\n",
       "      <td>1.283270e+05</td>\n",
       "      <td>1000000</td>\n",
       "    </tr>\n",
       "  </tbody>\n",
       "</table>\n",
       "<p>532 rows × 4 columns</p>\n",
       "</div>"
      ],
      "text/plain": [
       "        Algorithm ProofType  TotalCoinsMined TotalCoinSupply\n",
       "42         Scrypt   PoW/PoS     4.199995e+01              42\n",
       "404        Scrypt   PoW/PoS     1.055185e+09       532000000\n",
       "1337          X13   PoW/PoS     2.927942e+10    314159265359\n",
       "BTC       SHA-256       PoW     1.792718e+07        21000000\n",
       "ETH        Ethash       PoW     1.076842e+08               0\n",
       "...           ...       ...              ...             ...\n",
       "ZEPH      SHA-256      DPoS     2.000000e+09      2000000000\n",
       "GAP        Scrypt   PoW/PoS     1.493105e+07       250000000\n",
       "BDX   CryptoNight       PoW     9.802226e+08      1400222610\n",
       "ZEN      Equihash       PoW     7.296538e+06        21000000\n",
       "XBC        Scrypt       PoS     1.283270e+05         1000000\n",
       "\n",
       "[532 rows x 4 columns]"
      ]
     },
     "execution_count": 43,
     "metadata": {},
     "output_type": "execute_result"
    }
   ],
   "source": [
    "# Drop the 'CoinName' column since it's not going to be used on the clustering algorithm.\n",
    "df_crypto = df_crypto.drop(['CoinName'],axis = 1)\n",
    "df_crypto"
   ]
  },
  {
   "cell_type": "code",
   "execution_count": 44,
   "metadata": {},
   "outputs": [
    {
     "data": {
      "text/html": [
       "<div>\n",
       "<style scoped>\n",
       "    .dataframe tbody tr th:only-of-type {\n",
       "        vertical-align: middle;\n",
       "    }\n",
       "\n",
       "    .dataframe tbody tr th {\n",
       "        vertical-align: top;\n",
       "    }\n",
       "\n",
       "    .dataframe thead th {\n",
       "        text-align: right;\n",
       "    }\n",
       "</style>\n",
       "<table border=\"1\" class=\"dataframe\">\n",
       "  <thead>\n",
       "    <tr style=\"text-align: right;\">\n",
       "      <th></th>\n",
       "      <th>TotalCoinsMined</th>\n",
       "      <th>TotalCoinSupply</th>\n",
       "      <th>1GB AES Pattern Search</th>\n",
       "      <th>536</th>\n",
       "      <th>Argon2d</th>\n",
       "      <th>BLAKE256</th>\n",
       "      <th>Blake</th>\n",
       "      <th>Blake2S</th>\n",
       "      <th>Blake2b</th>\n",
       "      <th>C11</th>\n",
       "      <th>...</th>\n",
       "      <th>PoW/PoS</th>\n",
       "      <th>PoW/PoS</th>\n",
       "      <th>PoW/PoW</th>\n",
       "      <th>PoW/nPoS</th>\n",
       "      <th>Pos</th>\n",
       "      <th>Proof of Authority</th>\n",
       "      <th>Proof of Trust</th>\n",
       "      <th>TPoS</th>\n",
       "      <th>Zero-Knowledge Proof</th>\n",
       "      <th>dPoW/PoW</th>\n",
       "    </tr>\n",
       "  </thead>\n",
       "  <tbody>\n",
       "    <tr>\n",
       "      <th>42</th>\n",
       "      <td>4.199995e+01</td>\n",
       "      <td>42</td>\n",
       "      <td>0</td>\n",
       "      <td>0</td>\n",
       "      <td>0</td>\n",
       "      <td>0</td>\n",
       "      <td>0</td>\n",
       "      <td>0</td>\n",
       "      <td>0</td>\n",
       "      <td>0</td>\n",
       "      <td>...</td>\n",
       "      <td>1</td>\n",
       "      <td>0</td>\n",
       "      <td>0</td>\n",
       "      <td>0</td>\n",
       "      <td>0</td>\n",
       "      <td>0</td>\n",
       "      <td>0</td>\n",
       "      <td>0</td>\n",
       "      <td>0</td>\n",
       "      <td>0</td>\n",
       "    </tr>\n",
       "    <tr>\n",
       "      <th>404</th>\n",
       "      <td>1.055185e+09</td>\n",
       "      <td>532000000</td>\n",
       "      <td>0</td>\n",
       "      <td>0</td>\n",
       "      <td>0</td>\n",
       "      <td>0</td>\n",
       "      <td>0</td>\n",
       "      <td>0</td>\n",
       "      <td>0</td>\n",
       "      <td>0</td>\n",
       "      <td>...</td>\n",
       "      <td>1</td>\n",
       "      <td>0</td>\n",
       "      <td>0</td>\n",
       "      <td>0</td>\n",
       "      <td>0</td>\n",
       "      <td>0</td>\n",
       "      <td>0</td>\n",
       "      <td>0</td>\n",
       "      <td>0</td>\n",
       "      <td>0</td>\n",
       "    </tr>\n",
       "    <tr>\n",
       "      <th>1337</th>\n",
       "      <td>2.927942e+10</td>\n",
       "      <td>314159265359</td>\n",
       "      <td>0</td>\n",
       "      <td>0</td>\n",
       "      <td>0</td>\n",
       "      <td>0</td>\n",
       "      <td>0</td>\n",
       "      <td>0</td>\n",
       "      <td>0</td>\n",
       "      <td>0</td>\n",
       "      <td>...</td>\n",
       "      <td>1</td>\n",
       "      <td>0</td>\n",
       "      <td>0</td>\n",
       "      <td>0</td>\n",
       "      <td>0</td>\n",
       "      <td>0</td>\n",
       "      <td>0</td>\n",
       "      <td>0</td>\n",
       "      <td>0</td>\n",
       "      <td>0</td>\n",
       "    </tr>\n",
       "    <tr>\n",
       "      <th>BTC</th>\n",
       "      <td>1.792718e+07</td>\n",
       "      <td>21000000</td>\n",
       "      <td>0</td>\n",
       "      <td>0</td>\n",
       "      <td>0</td>\n",
       "      <td>0</td>\n",
       "      <td>0</td>\n",
       "      <td>0</td>\n",
       "      <td>0</td>\n",
       "      <td>0</td>\n",
       "      <td>...</td>\n",
       "      <td>0</td>\n",
       "      <td>0</td>\n",
       "      <td>0</td>\n",
       "      <td>0</td>\n",
       "      <td>0</td>\n",
       "      <td>0</td>\n",
       "      <td>0</td>\n",
       "      <td>0</td>\n",
       "      <td>0</td>\n",
       "      <td>0</td>\n",
       "    </tr>\n",
       "    <tr>\n",
       "      <th>ETH</th>\n",
       "      <td>1.076842e+08</td>\n",
       "      <td>0</td>\n",
       "      <td>0</td>\n",
       "      <td>0</td>\n",
       "      <td>0</td>\n",
       "      <td>0</td>\n",
       "      <td>0</td>\n",
       "      <td>0</td>\n",
       "      <td>0</td>\n",
       "      <td>0</td>\n",
       "      <td>...</td>\n",
       "      <td>0</td>\n",
       "      <td>0</td>\n",
       "      <td>0</td>\n",
       "      <td>0</td>\n",
       "      <td>0</td>\n",
       "      <td>0</td>\n",
       "      <td>0</td>\n",
       "      <td>0</td>\n",
       "      <td>0</td>\n",
       "      <td>0</td>\n",
       "    </tr>\n",
       "    <tr>\n",
       "      <th>...</th>\n",
       "      <td>...</td>\n",
       "      <td>...</td>\n",
       "      <td>...</td>\n",
       "      <td>...</td>\n",
       "      <td>...</td>\n",
       "      <td>...</td>\n",
       "      <td>...</td>\n",
       "      <td>...</td>\n",
       "      <td>...</td>\n",
       "      <td>...</td>\n",
       "      <td>...</td>\n",
       "      <td>...</td>\n",
       "      <td>...</td>\n",
       "      <td>...</td>\n",
       "      <td>...</td>\n",
       "      <td>...</td>\n",
       "      <td>...</td>\n",
       "      <td>...</td>\n",
       "      <td>...</td>\n",
       "      <td>...</td>\n",
       "      <td>...</td>\n",
       "    </tr>\n",
       "    <tr>\n",
       "      <th>ZEPH</th>\n",
       "      <td>2.000000e+09</td>\n",
       "      <td>2000000000</td>\n",
       "      <td>0</td>\n",
       "      <td>0</td>\n",
       "      <td>0</td>\n",
       "      <td>0</td>\n",
       "      <td>0</td>\n",
       "      <td>0</td>\n",
       "      <td>0</td>\n",
       "      <td>0</td>\n",
       "      <td>...</td>\n",
       "      <td>0</td>\n",
       "      <td>0</td>\n",
       "      <td>0</td>\n",
       "      <td>0</td>\n",
       "      <td>0</td>\n",
       "      <td>0</td>\n",
       "      <td>0</td>\n",
       "      <td>0</td>\n",
       "      <td>0</td>\n",
       "      <td>0</td>\n",
       "    </tr>\n",
       "    <tr>\n",
       "      <th>GAP</th>\n",
       "      <td>1.493105e+07</td>\n",
       "      <td>250000000</td>\n",
       "      <td>0</td>\n",
       "      <td>0</td>\n",
       "      <td>0</td>\n",
       "      <td>0</td>\n",
       "      <td>0</td>\n",
       "      <td>0</td>\n",
       "      <td>0</td>\n",
       "      <td>0</td>\n",
       "      <td>...</td>\n",
       "      <td>1</td>\n",
       "      <td>0</td>\n",
       "      <td>0</td>\n",
       "      <td>0</td>\n",
       "      <td>0</td>\n",
       "      <td>0</td>\n",
       "      <td>0</td>\n",
       "      <td>0</td>\n",
       "      <td>0</td>\n",
       "      <td>0</td>\n",
       "    </tr>\n",
       "    <tr>\n",
       "      <th>BDX</th>\n",
       "      <td>9.802226e+08</td>\n",
       "      <td>1400222610</td>\n",
       "      <td>0</td>\n",
       "      <td>0</td>\n",
       "      <td>0</td>\n",
       "      <td>0</td>\n",
       "      <td>0</td>\n",
       "      <td>0</td>\n",
       "      <td>0</td>\n",
       "      <td>0</td>\n",
       "      <td>...</td>\n",
       "      <td>0</td>\n",
       "      <td>0</td>\n",
       "      <td>0</td>\n",
       "      <td>0</td>\n",
       "      <td>0</td>\n",
       "      <td>0</td>\n",
       "      <td>0</td>\n",
       "      <td>0</td>\n",
       "      <td>0</td>\n",
       "      <td>0</td>\n",
       "    </tr>\n",
       "    <tr>\n",
       "      <th>ZEN</th>\n",
       "      <td>7.296538e+06</td>\n",
       "      <td>21000000</td>\n",
       "      <td>0</td>\n",
       "      <td>0</td>\n",
       "      <td>0</td>\n",
       "      <td>0</td>\n",
       "      <td>0</td>\n",
       "      <td>0</td>\n",
       "      <td>0</td>\n",
       "      <td>0</td>\n",
       "      <td>...</td>\n",
       "      <td>0</td>\n",
       "      <td>0</td>\n",
       "      <td>0</td>\n",
       "      <td>0</td>\n",
       "      <td>0</td>\n",
       "      <td>0</td>\n",
       "      <td>0</td>\n",
       "      <td>0</td>\n",
       "      <td>0</td>\n",
       "      <td>0</td>\n",
       "    </tr>\n",
       "    <tr>\n",
       "      <th>XBC</th>\n",
       "      <td>1.283270e+05</td>\n",
       "      <td>1000000</td>\n",
       "      <td>0</td>\n",
       "      <td>0</td>\n",
       "      <td>0</td>\n",
       "      <td>0</td>\n",
       "      <td>0</td>\n",
       "      <td>0</td>\n",
       "      <td>0</td>\n",
       "      <td>0</td>\n",
       "      <td>...</td>\n",
       "      <td>0</td>\n",
       "      <td>0</td>\n",
       "      <td>0</td>\n",
       "      <td>0</td>\n",
       "      <td>0</td>\n",
       "      <td>0</td>\n",
       "      <td>0</td>\n",
       "      <td>0</td>\n",
       "      <td>0</td>\n",
       "      <td>0</td>\n",
       "    </tr>\n",
       "  </tbody>\n",
       "</table>\n",
       "<p>532 rows × 98 columns</p>\n",
       "</div>"
      ],
      "text/plain": [
       "      TotalCoinsMined TotalCoinSupply  1GB AES Pattern Search  536  Argon2d  \\\n",
       "42       4.199995e+01              42                       0    0        0   \n",
       "404      1.055185e+09       532000000                       0    0        0   \n",
       "1337     2.927942e+10    314159265359                       0    0        0   \n",
       "BTC      1.792718e+07        21000000                       0    0        0   \n",
       "ETH      1.076842e+08               0                       0    0        0   \n",
       "...               ...             ...                     ...  ...      ...   \n",
       "ZEPH     2.000000e+09      2000000000                       0    0        0   \n",
       "GAP      1.493105e+07       250000000                       0    0        0   \n",
       "BDX      9.802226e+08      1400222610                       0    0        0   \n",
       "ZEN      7.296538e+06        21000000                       0    0        0   \n",
       "XBC      1.283270e+05         1000000                       0    0        0   \n",
       "\n",
       "      BLAKE256  Blake  Blake2S  Blake2b  C11  ...  PoW/PoS  PoW/PoS   PoW/PoW  \\\n",
       "42           0      0        0        0    0  ...        1         0        0   \n",
       "404          0      0        0        0    0  ...        1         0        0   \n",
       "1337         0      0        0        0    0  ...        1         0        0   \n",
       "BTC          0      0        0        0    0  ...        0         0        0   \n",
       "ETH          0      0        0        0    0  ...        0         0        0   \n",
       "...        ...    ...      ...      ...  ...  ...      ...       ...      ...   \n",
       "ZEPH         0      0        0        0    0  ...        0         0        0   \n",
       "GAP          0      0        0        0    0  ...        1         0        0   \n",
       "BDX          0      0        0        0    0  ...        0         0        0   \n",
       "ZEN          0      0        0        0    0  ...        0         0        0   \n",
       "XBC          0      0        0        0    0  ...        0         0        0   \n",
       "\n",
       "      PoW/nPoS  Pos  Proof of Authority  Proof of Trust  TPoS  \\\n",
       "42           0    0                   0               0     0   \n",
       "404          0    0                   0               0     0   \n",
       "1337         0    0                   0               0     0   \n",
       "BTC          0    0                   0               0     0   \n",
       "ETH          0    0                   0               0     0   \n",
       "...        ...  ...                 ...             ...   ...   \n",
       "ZEPH         0    0                   0               0     0   \n",
       "GAP          0    0                   0               0     0   \n",
       "BDX          0    0                   0               0     0   \n",
       "ZEN          0    0                   0               0     0   \n",
       "XBC          0    0                   0               0     0   \n",
       "\n",
       "      Zero-Knowledge Proof  dPoW/PoW  \n",
       "42                       0         0  \n",
       "404                      0         0  \n",
       "1337                     0         0  \n",
       "BTC                      0         0  \n",
       "ETH                      0         0  \n",
       "...                    ...       ...  \n",
       "ZEPH                     0         0  \n",
       "GAP                      0         0  \n",
       "BDX                      0         0  \n",
       "ZEN                      0         0  \n",
       "XBC                      0         0  \n",
       "\n",
       "[532 rows x 98 columns]"
      ]
     },
     "execution_count": 44,
     "metadata": {},
     "output_type": "execute_result"
    }
   ],
   "source": [
    "# Use get_dummies() to create variables for text features.\n",
    "crypto = pd.get_dummies(df_crypto['Algorithm'])\n",
    "dummy = pd.get_dummies(df_crypto['ProofType'])\n",
    "combined = pd.concat([crypto,dummy],axis =1)\n",
    "df = df_crypto.merge(combined,left_index = True,right_index = True)\n",
    "df = df.drop(['Algorithm','ProofType'],axis = 1)\n",
    "df"
   ]
  },
  {
   "cell_type": "code",
   "execution_count": 45,
   "metadata": {},
   "outputs": [
    {
     "name": "stdout",
     "output_type": "stream",
     "text": [
      "[[-0.11710817 -0.1528703  -0.0433963  ... -0.0433963  -0.0433963\n",
      "  -0.0433963 ]\n",
      " [-0.09396955 -0.145009   -0.0433963  ... -0.0433963  -0.0433963\n",
      "  -0.0433963 ]\n",
      " [ 0.52494561  4.48942416 -0.0433963  ... -0.0433963  -0.0433963\n",
      "  -0.0433963 ]\n",
      " ...\n",
      " [-0.09561336 -0.13217937 -0.0433963  ... -0.0433963  -0.0433963\n",
      "  -0.0433963 ]\n",
      " [-0.11694817 -0.15255998 -0.0433963  ... -0.0433963  -0.0433963\n",
      "  -0.0433963 ]\n",
      " [-0.11710536 -0.15285552 -0.0433963  ... -0.0433963  -0.0433963\n",
      "  -0.0433963 ]]\n"
     ]
    }
   ],
   "source": [
    "# Standardize the data with StandardScaler().\n",
    "df_scaled = StandardScaler().fit_transform(df)\n",
    "print(df_scaled)"
   ]
  },
  {
   "cell_type": "markdown",
   "metadata": {},
   "source": [
    "### Deliverable 2: Reducing Data Dimensions Using PCA"
   ]
  },
  {
   "cell_type": "code",
   "execution_count": 46,
   "metadata": {},
   "outputs": [
    {
     "data": {
      "text/plain": [
       "array([[-0.33893218,  0.91887911, -0.42787304],\n",
       "       [-0.32225835,  0.91881892, -0.4281424 ],\n",
       "       [ 2.31366809,  1.53669437, -0.46085554],\n",
       "       ...,\n",
       "       [ 0.33166193, -2.26139808,  0.33163237],\n",
       "       [-0.15805007, -2.03106139,  0.37676213],\n",
       "       [-0.29566439,  0.89354764, -0.24388655]])"
      ]
     },
     "execution_count": 46,
     "metadata": {},
     "output_type": "execute_result"
    }
   ],
   "source": [
    "# Using PCA to reduce dimension to three principal components.\n",
    "pca = PCA(n_components=3)\n",
    "df_pca = pca.fit_transform(df_scaled)\n",
    "df_pca"
   ]
  },
  {
   "cell_type": "code",
   "execution_count": 47,
   "metadata": {},
   "outputs": [
    {
     "data": {
      "text/html": [
       "<div>\n",
       "<style scoped>\n",
       "    .dataframe tbody tr th:only-of-type {\n",
       "        vertical-align: middle;\n",
       "    }\n",
       "\n",
       "    .dataframe tbody tr th {\n",
       "        vertical-align: top;\n",
       "    }\n",
       "\n",
       "    .dataframe thead th {\n",
       "        text-align: right;\n",
       "    }\n",
       "</style>\n",
       "<table border=\"1\" class=\"dataframe\">\n",
       "  <thead>\n",
       "    <tr style=\"text-align: right;\">\n",
       "      <th></th>\n",
       "      <th>PC1</th>\n",
       "      <th>PC2</th>\n",
       "      <th>PC3</th>\n",
       "    </tr>\n",
       "  </thead>\n",
       "  <tbody>\n",
       "    <tr>\n",
       "      <th>42</th>\n",
       "      <td>-0.338932</td>\n",
       "      <td>0.918879</td>\n",
       "      <td>-0.427873</td>\n",
       "    </tr>\n",
       "    <tr>\n",
       "      <th>404</th>\n",
       "      <td>-0.322258</td>\n",
       "      <td>0.918819</td>\n",
       "      <td>-0.428142</td>\n",
       "    </tr>\n",
       "    <tr>\n",
       "      <th>1337</th>\n",
       "      <td>2.313668</td>\n",
       "      <td>1.536694</td>\n",
       "      <td>-0.460856</td>\n",
       "    </tr>\n",
       "    <tr>\n",
       "      <th>BTC</th>\n",
       "      <td>-0.141157</td>\n",
       "      <td>-1.276223</td>\n",
       "      <td>0.122036</td>\n",
       "    </tr>\n",
       "    <tr>\n",
       "      <th>ETH</th>\n",
       "      <td>-0.150109</td>\n",
       "      <td>-1.957268</td>\n",
       "      <td>0.334043</td>\n",
       "    </tr>\n",
       "    <tr>\n",
       "      <th>...</th>\n",
       "      <td>...</td>\n",
       "      <td>...</td>\n",
       "      <td>...</td>\n",
       "    </tr>\n",
       "    <tr>\n",
       "      <th>ZEPH</th>\n",
       "      <td>2.466499</td>\n",
       "      <td>0.973141</td>\n",
       "      <td>-0.324343</td>\n",
       "    </tr>\n",
       "    <tr>\n",
       "      <th>GAP</th>\n",
       "      <td>-0.336975</td>\n",
       "      <td>0.918741</td>\n",
       "      <td>-0.427875</td>\n",
       "    </tr>\n",
       "    <tr>\n",
       "      <th>BDX</th>\n",
       "      <td>0.331662</td>\n",
       "      <td>-2.261398</td>\n",
       "      <td>0.331632</td>\n",
       "    </tr>\n",
       "    <tr>\n",
       "      <th>ZEN</th>\n",
       "      <td>-0.158050</td>\n",
       "      <td>-2.031061</td>\n",
       "      <td>0.376762</td>\n",
       "    </tr>\n",
       "    <tr>\n",
       "      <th>XBC</th>\n",
       "      <td>-0.295664</td>\n",
       "      <td>0.893548</td>\n",
       "      <td>-0.243887</td>\n",
       "    </tr>\n",
       "  </tbody>\n",
       "</table>\n",
       "<p>532 rows × 3 columns</p>\n",
       "</div>"
      ],
      "text/plain": [
       "           PC1       PC2       PC3\n",
       "42   -0.338932  0.918879 -0.427873\n",
       "404  -0.322258  0.918819 -0.428142\n",
       "1337  2.313668  1.536694 -0.460856\n",
       "BTC  -0.141157 -1.276223  0.122036\n",
       "ETH  -0.150109 -1.957268  0.334043\n",
       "...        ...       ...       ...\n",
       "ZEPH  2.466499  0.973141 -0.324343\n",
       "GAP  -0.336975  0.918741 -0.427875\n",
       "BDX   0.331662 -2.261398  0.331632\n",
       "ZEN  -0.158050 -2.031061  0.376762\n",
       "XBC  -0.295664  0.893548 -0.243887\n",
       "\n",
       "[532 rows x 3 columns]"
      ]
     },
     "execution_count": 47,
     "metadata": {},
     "output_type": "execute_result"
    }
   ],
   "source": [
    "# Create a DataFrame with the three principal components.\n",
    "pca_df = pd.DataFrame(\n",
    "    data = df_pca, columns = ['PC1','PC2','PC3'], index = df_crypto.index\n",
    ")\n",
    "pca_df"
   ]
  },
  {
   "cell_type": "markdown",
   "metadata": {},
   "source": [
    "### Deliverable 3: Clustering Crytocurrencies Using K-Means\n",
    "\n",
    "#### Finding the Best Value for `k` Using the Elbow Curve"
   ]
  },
  {
   "cell_type": "code",
   "execution_count": 48,
   "metadata": {},
   "outputs": [
    {
     "name": "stderr",
     "output_type": "stream",
     "text": [
      "F:\\Installation\\Users\\envs\\mlenv\\lib\\site-packages\\sklearn\\cluster\\_kmeans.py:882: UserWarning:\n",
      "\n",
      "KMeans is known to have a memory leak on Windows with MKL, when there are less chunks than available threads. You can avoid it by setting the environment variable OMP_NUM_THREADS=3.\n",
      "\n"
     ]
    },
    {
     "data": {},
     "metadata": {},
     "output_type": "display_data"
    },
    {
     "data": {
      "application/vnd.holoviews_exec.v0+json": "",
      "text/html": [
       "<div id='1551'>\n",
       "\n",
       "\n",
       "\n",
       "\n",
       "\n",
       "  <div class=\"bk-root\" id=\"a0e7e3d0-1928-4313-84b6-594700a0d308\" data-root-id=\"1551\"></div>\n",
       "</div>\n",
       "<script type=\"application/javascript\">(function(root) {\n",
       "  function embed_document(root) {\n",
       "    var docs_json = {\"26822056-6eb0-40fa-bb06-a7edcc4260c0\":{\"defs\":[{\"extends\":null,\"module\":null,\"name\":\"ReactiveHTML1\",\"overrides\":[],\"properties\":[]},{\"extends\":null,\"module\":null,\"name\":\"FlexBox1\",\"overrides\":[],\"properties\":[{\"default\":\"flex-start\",\"kind\":null,\"name\":\"align_content\"},{\"default\":\"flex-start\",\"kind\":null,\"name\":\"align_items\"},{\"default\":\"row\",\"kind\":null,\"name\":\"flex_direction\"},{\"default\":\"wrap\",\"kind\":null,\"name\":\"flex_wrap\"},{\"default\":\"flex-start\",\"kind\":null,\"name\":\"justify_content\"}]},{\"extends\":null,\"module\":null,\"name\":\"TemplateActions1\",\"overrides\":[],\"properties\":[{\"default\":0,\"kind\":null,\"name\":\"open_modal\"},{\"default\":0,\"kind\":null,\"name\":\"close_modal\"}]},{\"extends\":null,\"module\":null,\"name\":\"MaterialTemplateActions1\",\"overrides\":[],\"properties\":[{\"default\":0,\"kind\":null,\"name\":\"open_modal\"},{\"default\":0,\"kind\":null,\"name\":\"close_modal\"}]}],\"roots\":{\"references\":[{\"attributes\":{\"line_alpha\":0.1,\"line_color\":\"#30a2da\",\"line_width\":2,\"x\":{\"field\":\"k\"},\"y\":{\"field\":\"inertia\"}},\"id\":\"1590\",\"type\":\"Line\"},{\"attributes\":{},\"id\":\"1602\",\"type\":\"AllLabels\"},{\"attributes\":{\"axis_label\":\"inertia\",\"formatter\":{\"id\":\"1603\"},\"major_label_policy\":{\"id\":\"1602\"},\"ticker\":{\"id\":\"1570\"}},\"id\":\"1569\",\"type\":\"LinearAxis\"},{\"attributes\":{\"margin\":[5,5,5,5],\"name\":\"HSpacer02714\",\"sizing_mode\":\"stretch_width\"},\"id\":\"1552\",\"type\":\"Spacer\"},{\"attributes\":{\"axis\":{\"id\":\"1565\"},\"grid_line_color\":null,\"ticker\":null},\"id\":\"1568\",\"type\":\"Grid\"},{\"attributes\":{\"below\":[{\"id\":\"1565\"}],\"center\":[{\"id\":\"1568\"},{\"id\":\"1572\"}],\"height\":300,\"left\":[{\"id\":\"1569\"}],\"margin\":[5,5,5,5],\"min_border_bottom\":10,\"min_border_left\":10,\"min_border_right\":10,\"min_border_top\":10,\"renderers\":[{\"id\":\"1592\"}],\"sizing_mode\":\"fixed\",\"title\":{\"id\":\"1557\"},\"toolbar\":{\"id\":\"1579\"},\"width\":700,\"x_range\":{\"id\":\"1553\"},\"x_scale\":{\"id\":\"1561\"},\"y_range\":{\"id\":\"1554\"},\"y_scale\":{\"id\":\"1563\"}},\"id\":\"1556\",\"subtype\":\"Figure\",\"type\":\"Plot\"},{\"attributes\":{\"children\":[{\"id\":\"1552\"},{\"id\":\"1556\"},{\"id\":\"1622\"}],\"margin\":[0,0,0,0],\"name\":\"Row02710\",\"tags\":[\"embedded\"]},\"id\":\"1551\",\"type\":\"Row\"},{\"attributes\":{},\"id\":\"1603\",\"type\":\"BasicTickFormatter\"},{\"attributes\":{},\"id\":\"1611\",\"type\":\"UnionRenderers\"},{\"attributes\":{\"active_multi\":null,\"tools\":[{\"id\":\"1555\"},{\"id\":\"1573\"},{\"id\":\"1574\"},{\"id\":\"1575\"},{\"id\":\"1576\"},{\"id\":\"1577\"}]},\"id\":\"1579\",\"type\":\"Toolbar\"},{\"attributes\":{},\"id\":\"1570\",\"type\":\"BasicTicker\"},{\"attributes\":{\"axis\":{\"id\":\"1569\"},\"dimension\":1,\"grid_line_color\":null,\"ticker\":null},\"id\":\"1572\",\"type\":\"Grid\"},{\"attributes\":{\"data_source\":{\"id\":\"1586\"},\"glyph\":{\"id\":\"1589\"},\"hover_glyph\":null,\"muted_glyph\":{\"id\":\"1591\"},\"nonselection_glyph\":{\"id\":\"1590\"},\"selection_glyph\":{\"id\":\"1594\"},\"view\":{\"id\":\"1593\"}},\"id\":\"1592\",\"type\":\"GlyphRenderer\"},{\"attributes\":{\"end\":3989.1214760419757,\"reset_end\":3989.1214760419757,\"reset_start\":-225.31254123675026,\"start\":-225.31254123675026,\"tags\":[[[\"inertia\",\"inertia\",null]]]},\"id\":\"1554\",\"type\":\"Range1d\"},{\"attributes\":{\"bottom_units\":\"screen\",\"fill_alpha\":0.5,\"fill_color\":\"lightgrey\",\"left_units\":\"screen\",\"level\":\"overlay\",\"line_alpha\":1.0,\"line_color\":\"black\",\"line_dash\":[4,4],\"line_width\":2,\"right_units\":\"screen\",\"syncable\":false,\"top_units\":\"screen\"},\"id\":\"1578\",\"type\":\"BoxAnnotation\"},{\"attributes\":{},\"id\":\"1598\",\"type\":\"BasicTickFormatter\"},{\"attributes\":{},\"id\":\"1597\",\"type\":\"AllLabels\"},{\"attributes\":{\"end\":10.0,\"reset_end\":10.0,\"reset_start\":1.0,\"start\":1.0,\"tags\":[[[\"k\",\"k\",null]]]},\"id\":\"1553\",\"type\":\"Range1d\"},{\"attributes\":{\"source\":{\"id\":\"1586\"}},\"id\":\"1593\",\"type\":\"CDSView\"},{\"attributes\":{\"ticks\":[1,2,3,4,5,6,7,8,9,10]},\"id\":\"1595\",\"type\":\"FixedTicker\"},{\"attributes\":{\"margin\":[5,5,5,5],\"name\":\"HSpacer02715\",\"sizing_mode\":\"stretch_width\"},\"id\":\"1622\",\"type\":\"Spacer\"},{\"attributes\":{},\"id\":\"1573\",\"type\":\"SaveTool\"},{\"attributes\":{},\"id\":\"1574\",\"type\":\"PanTool\"},{\"attributes\":{\"line_color\":\"#30a2da\",\"line_width\":2,\"x\":{\"field\":\"k\"},\"y\":{\"field\":\"inertia\"}},\"id\":\"1589\",\"type\":\"Line\"},{\"attributes\":{\"line_color\":\"#30a2da\",\"line_width\":2,\"x\":{\"field\":\"k\"},\"y\":{\"field\":\"inertia\"}},\"id\":\"1594\",\"type\":\"Line\"},{\"attributes\":{\"callback\":null,\"renderers\":[{\"id\":\"1592\"}],\"tags\":[\"hv_created\"],\"tooltips\":[[\"k\",\"@{k}\"],[\"inertia\",\"@{inertia}\"]]},\"id\":\"1555\",\"type\":\"HoverTool\"},{\"attributes\":{},\"id\":\"1577\",\"type\":\"ResetTool\"},{\"attributes\":{},\"id\":\"1575\",\"type\":\"WheelZoomTool\"},{\"attributes\":{\"line_alpha\":0.2,\"line_color\":\"#30a2da\",\"line_width\":2,\"x\":{\"field\":\"k\"},\"y\":{\"field\":\"inertia\"}},\"id\":\"1591\",\"type\":\"Line\"},{\"attributes\":{\"overlay\":{\"id\":\"1578\"}},\"id\":\"1576\",\"type\":\"BoxZoomTool\"},{\"attributes\":{},\"id\":\"1587\",\"type\":\"Selection\"},{\"attributes\":{},\"id\":\"1563\",\"type\":\"LinearScale\"},{\"attributes\":{\"axis_label\":\"k\",\"formatter\":{\"id\":\"1598\"},\"major_label_policy\":{\"id\":\"1597\"},\"ticker\":{\"id\":\"1595\"}},\"id\":\"1565\",\"type\":\"LinearAxis\"},{\"attributes\":{\"data\":{\"inertia\":{\"__ndarray__\":\"EPwlWNZrrED6PT1fctukQGfZeqOWg5dAF25M/nu/gUD+rK8x2yp5QP+p3rGzVHNAMQ60aCrqb0ADYmBjKilpQKrdNaRbhGVAjsC9kfp4X0A=\",\"dtype\":\"float64\",\"order\":\"little\",\"shape\":[10]},\"k\":[1,2,3,4,5,6,7,8,9,10]},\"selected\":{\"id\":\"1587\"},\"selection_policy\":{\"id\":\"1611\"}},\"id\":\"1586\",\"type\":\"ColumnDataSource\"},{\"attributes\":{\"text\":\"Elbow Curve\",\"text_color\":\"black\",\"text_font_size\":\"12pt\"},\"id\":\"1557\",\"type\":\"Title\"},{\"attributes\":{},\"id\":\"1561\",\"type\":\"LinearScale\"}],\"root_ids\":[\"1551\"]},\"title\":\"Bokeh Application\",\"version\":\"2.3.2\"}};\n",
       "    var render_items = [{\"docid\":\"26822056-6eb0-40fa-bb06-a7edcc4260c0\",\"root_ids\":[\"1551\"],\"roots\":{\"1551\":\"a0e7e3d0-1928-4313-84b6-594700a0d308\"}}];\n",
       "    root.Bokeh.embed.embed_items_notebook(docs_json, render_items);\n",
       "  }\n",
       "  if (root.Bokeh !== undefined && root.Bokeh.Panel !== undefined) {\n",
       "    embed_document(root);\n",
       "  } else {\n",
       "    var attempts = 0;\n",
       "    var timer = setInterval(function(root) {\n",
       "      if (root.Bokeh !== undefined && root.Bokeh.Panel !== undefined) {\n",
       "        clearInterval(timer);\n",
       "        embed_document(root);\n",
       "      } else if (document.readyState == \"complete\") {\n",
       "        attempts++;\n",
       "        if (attempts > 200) {\n",
       "          clearInterval(timer);\n",
       "          console.log(\"Bokeh: ERROR: Unable to run BokehJS code because BokehJS library is missing\");\n",
       "        }\n",
       "      }\n",
       "    }, 25, root)\n",
       "  }\n",
       "})(window);</script>"
      ],
      "text/plain": [
       ":Curve   [k]   (inertia)"
      ]
     },
     "execution_count": 48,
     "metadata": {
      "application/vnd.holoviews_exec.v0+json": {
       "id": "1551"
      }
     },
     "output_type": "execute_result"
    }
   ],
   "source": [
    "# Create an elbow curve to find the best value for K.\n",
    "inertia = []\n",
    "k = list(range(1, 11))\n",
    "\n",
    "# Calculate the inertia for the range of K values\n",
    "for i in k:\n",
    "   km = KMeans(n_clusters=i, random_state=0)\n",
    "   km.fit(pca_df)\n",
    "   inertia.append(km.inertia_)\n",
    "\n",
    "elbow_data = {\"k\":k,\"inertia\":inertia}\n",
    "df_elbow = pd.DataFrame(elbow_data)\n",
    "df_elbow.hvplot.line(x=\"k\",y=\"inertia\",xticks=k,title=\"Elbow Curve\")"
   ]
  },
  {
   "cell_type": "markdown",
   "metadata": {},
   "source": [
    "Running K-Means with `k=4`"
   ]
  },
  {
   "cell_type": "code",
   "execution_count": 49,
   "metadata": {},
   "outputs": [],
   "source": [
    "# Initialize the K-Means model.\n",
    "model = KMeans(n_clusters=4, random_state=0)\n",
    "\n",
    "# Fit the model\n",
    "model.fit(pca_df)\n",
    "\n",
    "# Predict clusters\n",
    "predictions = model.predict(pca_df)"
   ]
  },
  {
   "cell_type": "code",
   "execution_count": 50,
   "metadata": {},
   "outputs": [
    {
     "name": "stdout",
     "output_type": "stream",
     "text": [
      "(532, 9)\n"
     ]
    },
    {
     "data": {
      "text/html": [
       "<div>\n",
       "<style scoped>\n",
       "    .dataframe tbody tr th:only-of-type {\n",
       "        vertical-align: middle;\n",
       "    }\n",
       "\n",
       "    .dataframe tbody tr th {\n",
       "        vertical-align: top;\n",
       "    }\n",
       "\n",
       "    .dataframe thead th {\n",
       "        text-align: right;\n",
       "    }\n",
       "</style>\n",
       "<table border=\"1\" class=\"dataframe\">\n",
       "  <thead>\n",
       "    <tr style=\"text-align: right;\">\n",
       "      <th></th>\n",
       "      <th>Algorithm</th>\n",
       "      <th>ProofType</th>\n",
       "      <th>TotalCoinsMined</th>\n",
       "      <th>TotalCoinSupply</th>\n",
       "      <th>PC1</th>\n",
       "      <th>PC2</th>\n",
       "      <th>PC3</th>\n",
       "      <th>CoinName</th>\n",
       "      <th>Class</th>\n",
       "    </tr>\n",
       "  </thead>\n",
       "  <tbody>\n",
       "    <tr>\n",
       "      <th>42</th>\n",
       "      <td>Scrypt</td>\n",
       "      <td>PoW/PoS</td>\n",
       "      <td>4.199995e+01</td>\n",
       "      <td>42</td>\n",
       "      <td>-0.338932</td>\n",
       "      <td>0.918879</td>\n",
       "      <td>-0.427873</td>\n",
       "      <td>42 Coin</td>\n",
       "      <td>0</td>\n",
       "    </tr>\n",
       "    <tr>\n",
       "      <th>404</th>\n",
       "      <td>Scrypt</td>\n",
       "      <td>PoW/PoS</td>\n",
       "      <td>1.055185e+09</td>\n",
       "      <td>532000000</td>\n",
       "      <td>-0.322258</td>\n",
       "      <td>0.918819</td>\n",
       "      <td>-0.428142</td>\n",
       "      <td>404Coin</td>\n",
       "      <td>0</td>\n",
       "    </tr>\n",
       "    <tr>\n",
       "      <th>1337</th>\n",
       "      <td>X13</td>\n",
       "      <td>PoW/PoS</td>\n",
       "      <td>2.927942e+10</td>\n",
       "      <td>314159265359</td>\n",
       "      <td>2.313668</td>\n",
       "      <td>1.536694</td>\n",
       "      <td>-0.460856</td>\n",
       "      <td>EliteCoin</td>\n",
       "      <td>0</td>\n",
       "    </tr>\n",
       "    <tr>\n",
       "      <th>BTC</th>\n",
       "      <td>SHA-256</td>\n",
       "      <td>PoW</td>\n",
       "      <td>1.792718e+07</td>\n",
       "      <td>21000000</td>\n",
       "      <td>-0.141157</td>\n",
       "      <td>-1.276223</td>\n",
       "      <td>0.122036</td>\n",
       "      <td>Bitcoin</td>\n",
       "      <td>3</td>\n",
       "    </tr>\n",
       "    <tr>\n",
       "      <th>ETH</th>\n",
       "      <td>Ethash</td>\n",
       "      <td>PoW</td>\n",
       "      <td>1.076842e+08</td>\n",
       "      <td>0</td>\n",
       "      <td>-0.150109</td>\n",
       "      <td>-1.957268</td>\n",
       "      <td>0.334043</td>\n",
       "      <td>Ethereum</td>\n",
       "      <td>3</td>\n",
       "    </tr>\n",
       "    <tr>\n",
       "      <th>LTC</th>\n",
       "      <td>Scrypt</td>\n",
       "      <td>PoW</td>\n",
       "      <td>6.303924e+07</td>\n",
       "      <td>84000000</td>\n",
       "      <td>-0.172569</td>\n",
       "      <td>-1.126549</td>\n",
       "      <td>0.007058</td>\n",
       "      <td>Litecoin</td>\n",
       "      <td>3</td>\n",
       "    </tr>\n",
       "    <tr>\n",
       "      <th>DASH</th>\n",
       "      <td>X11</td>\n",
       "      <td>PoW/PoS</td>\n",
       "      <td>9.031294e+06</td>\n",
       "      <td>22000000</td>\n",
       "      <td>-0.389031</td>\n",
       "      <td>1.100625</td>\n",
       "      <td>-0.350469</td>\n",
       "      <td>Dash</td>\n",
       "      <td>0</td>\n",
       "    </tr>\n",
       "    <tr>\n",
       "      <th>XMR</th>\n",
       "      <td>CryptoNight-V7</td>\n",
       "      <td>PoW</td>\n",
       "      <td>1.720114e+07</td>\n",
       "      <td>0</td>\n",
       "      <td>-0.161623</td>\n",
       "      <td>-2.135911</td>\n",
       "      <td>0.332872</td>\n",
       "      <td>Monero</td>\n",
       "      <td>3</td>\n",
       "    </tr>\n",
       "    <tr>\n",
       "      <th>ETC</th>\n",
       "      <td>Ethash</td>\n",
       "      <td>PoW</td>\n",
       "      <td>1.133597e+08</td>\n",
       "      <td>210000000</td>\n",
       "      <td>-0.148549</td>\n",
       "      <td>-1.957386</td>\n",
       "      <td>0.334043</td>\n",
       "      <td>Ethereum Classic</td>\n",
       "      <td>3</td>\n",
       "    </tr>\n",
       "    <tr>\n",
       "      <th>ZEC</th>\n",
       "      <td>Equihash</td>\n",
       "      <td>PoW</td>\n",
       "      <td>7.383056e+06</td>\n",
       "      <td>21000000</td>\n",
       "      <td>-0.158049</td>\n",
       "      <td>-2.031061</td>\n",
       "      <td>0.376762</td>\n",
       "      <td>ZCash</td>\n",
       "      <td>3</td>\n",
       "    </tr>\n",
       "  </tbody>\n",
       "</table>\n",
       "</div>"
      ],
      "text/plain": [
       "           Algorithm ProofType  TotalCoinsMined TotalCoinSupply       PC1  \\\n",
       "42            Scrypt   PoW/PoS     4.199995e+01              42 -0.338932   \n",
       "404           Scrypt   PoW/PoS     1.055185e+09       532000000 -0.322258   \n",
       "1337             X13   PoW/PoS     2.927942e+10    314159265359  2.313668   \n",
       "BTC          SHA-256       PoW     1.792718e+07        21000000 -0.141157   \n",
       "ETH           Ethash       PoW     1.076842e+08               0 -0.150109   \n",
       "LTC           Scrypt       PoW     6.303924e+07        84000000 -0.172569   \n",
       "DASH             X11   PoW/PoS     9.031294e+06        22000000 -0.389031   \n",
       "XMR   CryptoNight-V7       PoW     1.720114e+07               0 -0.161623   \n",
       "ETC           Ethash       PoW     1.133597e+08       210000000 -0.148549   \n",
       "ZEC         Equihash       PoW     7.383056e+06        21000000 -0.158049   \n",
       "\n",
       "           PC2       PC3          CoinName  Class  \n",
       "42    0.918879 -0.427873           42 Coin      0  \n",
       "404   0.918819 -0.428142           404Coin      0  \n",
       "1337  1.536694 -0.460856         EliteCoin      0  \n",
       "BTC  -1.276223  0.122036           Bitcoin      3  \n",
       "ETH  -1.957268  0.334043          Ethereum      3  \n",
       "LTC  -1.126549  0.007058          Litecoin      3  \n",
       "DASH  1.100625 -0.350469              Dash      0  \n",
       "XMR  -2.135911  0.332872            Monero      3  \n",
       "ETC  -1.957386  0.334043  Ethereum Classic      3  \n",
       "ZEC  -2.031061  0.376762             ZCash      3  "
      ]
     },
     "execution_count": 50,
     "metadata": {},
     "output_type": "execute_result"
    }
   ],
   "source": [
    "# Create a new DataFrame including predicted clusters and cryptocurrencies features.\n",
    "# Concatentate the crypto_df and pcs_df DataFrames on the same columns.\n",
    "clustered_df = pd.concat([df_crypto,pca_df],axis =1)\n",
    "\n",
    "#  Add a new column, \"CoinName\" to the clustered_df DataFrame that holds the names of the cryptocurrencies. \n",
    "clustered_df['CoinName'] = names['CoinName']\n",
    "\n",
    "#  Add a new column, \"Class\" to the clustered_df DataFrame that holds the predictions.\n",
    "clustered_df[\"Class\"]= model.labels_\n",
    "\n",
    "# Print the shape of the clustered_df\n",
    "print(clustered_df.shape)\n",
    "clustered_df.head(10)"
   ]
  },
  {
   "cell_type": "markdown",
   "metadata": {},
   "source": [
    "### Deliverable 4: Visualizing Cryptocurrencies Results\n",
    "\n",
    "#### 3D-Scatter with Clusters"
   ]
  },
  {
   "cell_type": "code",
   "execution_count": 51,
   "metadata": {},
   "outputs": [
    {
     "data": {
      "application/vnd.plotly.v1+json": {
       "config": {
        "plotlyServerURL": "https://plot.ly"
       },
       "data": [
        {
         "customdata": [
          [
           "Scrypt"
          ],
          [
           "Scrypt"
          ],
          [
           "X13"
          ],
          [
           "X11"
          ],
          [
           "SHA-512"
          ],
          [
           "SHA-256"
          ],
          [
           "SHA-256"
          ],
          [
           "X15"
          ],
          [
           "Scrypt"
          ],
          [
           "Scrypt"
          ],
          [
           "Scrypt"
          ],
          [
           "Scrypt"
          ],
          [
           "Scrypt"
          ],
          [
           "Scrypt"
          ],
          [
           "Groestl"
          ],
          [
           "PoS"
          ],
          [
           "Scrypt"
          ],
          [
           "Scrypt"
          ],
          [
           "X11"
          ],
          [
           "X11"
          ],
          [
           "SHA3"
          ],
          [
           "Scrypt"
          ],
          [
           "SHA-256"
          ],
          [
           "Scrypt"
          ],
          [
           "X13"
          ],
          [
           "X13"
          ],
          [
           "NeoScrypt"
          ],
          [
           "Scrypt"
          ],
          [
           "Scrypt"
          ],
          [
           "Scrypt"
          ],
          [
           "X11"
          ],
          [
           "X11"
          ],
          [
           "Multiple"
          ],
          [
           "PHI1612"
          ],
          [
           "X11"
          ],
          [
           "Scrypt"
          ],
          [
           "Scrypt"
          ],
          [
           "Scrypt"
          ],
          [
           "X11"
          ],
          [
           "Multiple"
          ],
          [
           "X13"
          ],
          [
           "Scrypt"
          ],
          [
           "Shabal256"
          ],
          [
           "Counterparty"
          ],
          [
           "SHA-256"
          ],
          [
           "Groestl"
          ],
          [
           "Scrypt"
          ],
          [
           "X13"
          ],
          [
           "Scrypt"
          ],
          [
           "Scrypt"
          ],
          [
           "X13"
          ],
          [
           "X11"
          ],
          [
           "Scrypt"
          ],
          [
           "X11"
          ],
          [
           "SHA3"
          ],
          [
           "QUAIT"
          ],
          [
           "X11"
          ],
          [
           "Scrypt"
          ],
          [
           "X13"
          ],
          [
           "SHA-256"
          ],
          [
           "X15"
          ],
          [
           "BLAKE256"
          ],
          [
           "SHA-256"
          ],
          [
           "X11"
          ],
          [
           "SHA-256"
          ],
          [
           "NIST5"
          ],
          [
           "Scrypt"
          ],
          [
           "Scrypt"
          ],
          [
           "X11"
          ],
          [
           "Scrypt"
          ],
          [
           "SHA-256"
          ],
          [
           "Scrypt"
          ],
          [
           "PoS"
          ],
          [
           "X11"
          ],
          [
           "SHA-256"
          ],
          [
           "SHA-256"
          ],
          [
           "NIST5"
          ],
          [
           "X11"
          ],
          [
           "POS 3.0"
          ],
          [
           "Scrypt"
          ],
          [
           "Scrypt"
          ],
          [
           "Scrypt"
          ],
          [
           "X13"
          ],
          [
           "X11"
          ],
          [
           "X11"
          ],
          [
           "Scrypt"
          ],
          [
           "SHA-256"
          ],
          [
           "X11"
          ],
          [
           "Scrypt"
          ],
          [
           "Scrypt"
          ],
          [
           "Scrypt"
          ],
          [
           "Scrypt"
          ],
          [
           "SHA-256D"
          ],
          [
           "PoS"
          ],
          [
           "Scrypt"
          ],
          [
           "X11"
          ],
          [
           "PoS"
          ],
          [
           "X13"
          ],
          [
           "X14"
          ],
          [
           "PoS"
          ],
          [
           "SHA-256D"
          ],
          [
           "DPoS"
          ],
          [
           "X11"
          ],
          [
           "X13"
          ],
          [
           "X11"
          ],
          [
           "PoS"
          ],
          [
           "Scrypt"
          ],
          [
           "Scrypt"
          ],
          [
           "PoS"
          ],
          [
           "X11"
          ],
          [
           "SHA-256"
          ],
          [
           "Scrypt"
          ],
          [
           "X11"
          ],
          [
           "Scrypt"
          ],
          [
           "Scrypt"
          ],
          [
           "X11"
          ],
          [
           "Scrypt"
          ],
          [
           "Scrypt"
          ],
          [
           "Scrypt"
          ],
          [
           "Scrypt"
          ],
          [
           "Quark"
          ],
          [
           "QuBit"
          ],
          [
           "Scrypt"
          ],
          [
           "SHA-256"
          ],
          [
           "X11"
          ],
          [
           "Scrypt"
          ],
          [
           "Scrypt"
          ],
          [
           "Scrypt"
          ],
          [
           "Scrypt"
          ],
          [
           "X13"
          ],
          [
           "Scrypt"
          ],
          [
           "Scrypt"
          ],
          [
           "X11"
          ],
          [
           "Blake2S"
          ],
          [
           "X11"
          ],
          [
           "PoS"
          ],
          [
           "X11"
          ],
          [
           "PoS"
          ],
          [
           "X11"
          ],
          [
           "Scrypt"
          ],
          [
           "Scrypt"
          ],
          [
           "Scrypt"
          ],
          [
           "SHA-256"
          ],
          [
           "X11"
          ],
          [
           "Scrypt"
          ],
          [
           "PoS"
          ],
          [
           "Scrypt"
          ],
          [
           "X15"
          ],
          [
           "SHA-256"
          ],
          [
           "POS 3.0"
          ],
          [
           "536"
          ],
          [
           "NIST5"
          ],
          [
           "NIST5"
          ],
          [
           "Skein"
          ],
          [
           "X13"
          ],
          [
           "Scrypt"
          ],
          [
           "X13"
          ],
          [
           "SkunkHash v2 Raptor"
          ],
          [
           "Skein"
          ],
          [
           "X11"
          ],
          [
           "Scrypt"
          ],
          [
           "PoS"
          ],
          [
           "Scrypt"
          ],
          [
           "Scrypt"
          ],
          [
           "SHA-512"
          ],
          [
           "Ouroboros"
          ],
          [
           "X11"
          ],
          [
           "NeoScrypt"
          ],
          [
           "Scrypt"
          ],
          [
           "Lyra2REv2"
          ],
          [
           "Scrypt"
          ],
          [
           "SHA-256"
          ],
          [
           "NIST5"
          ],
          [
           "PHI1612"
          ],
          [
           "Scrypt"
          ],
          [
           "Quark"
          ],
          [
           "POS 2.0"
          ],
          [
           "Scrypt"
          ],
          [
           "SHA-256"
          ],
          [
           "X11"
          ],
          [
           "DPoS"
          ],
          [
           "NIST5"
          ],
          [
           "X13"
          ],
          [
           "Scrypt"
          ],
          [
           "NIST5"
          ],
          [
           "Quark"
          ],
          [
           "Scrypt"
          ],
          [
           "Scrypt"
          ],
          [
           "X11"
          ],
          [
           "Quark"
          ],
          [
           "Scrypt"
          ],
          [
           "Scrypt"
          ],
          [
           "X11"
          ],
          [
           "POS 3.0"
          ],
          [
           "Ethash"
          ],
          [
           "Scrypt"
          ],
          [
           "Scrypt"
          ],
          [
           "X13"
          ],
          [
           "C11"
          ],
          [
           "Proof-of-Authority"
          ],
          [
           "X11"
          ],
          [
           "XEVAN"
          ],
          [
           "Scrypt"
          ],
          [
           "VBFT"
          ],
          [
           "NIST5"
          ],
          [
           "Scrypt"
          ],
          [
           "Scrypt"
          ],
          [
           "Scrypt"
          ],
          [
           "Green Protocol"
          ],
          [
           "PoS"
          ],
          [
           "Scrypt"
          ],
          [
           "Semux BFT consensus"
          ],
          [
           "Quark"
          ],
          [
           "PoS"
          ],
          [
           "X16R"
          ],
          [
           "Scrypt"
          ],
          [
           "XEVAN"
          ],
          [
           "Scrypt"
          ],
          [
           "Scrypt"
          ],
          [
           "Scrypt"
          ],
          [
           "SHA-256D"
          ],
          [
           "Scrypt"
          ],
          [
           "X15"
          ],
          [
           "Scrypt"
          ],
          [
           "Quark"
          ],
          [
           "SHA-256"
          ],
          [
           "DPoS"
          ],
          [
           "X16R"
          ],
          [
           "Quark"
          ],
          [
           "Quark"
          ],
          [
           "Scrypt"
          ],
          [
           "Lyra2REv2"
          ],
          [
           "Quark"
          ],
          [
           "Scrypt"
          ],
          [
           "X11"
          ],
          [
           "X11"
          ],
          [
           "Scrypt"
          ],
          [
           "PoS"
          ],
          [
           "Keccak"
          ],
          [
           "X11"
          ],
          [
           "Scrypt"
          ],
          [
           "SHA-512"
          ],
          [
           "XEVAN"
          ],
          [
           "XEVAN"
          ],
          [
           "X11"
          ],
          [
           "Quark"
          ],
          [
           "Equihash"
          ],
          [
           "Scrypt"
          ],
          [
           "Quark"
          ],
          [
           "Quark"
          ],
          [
           "Scrypt"
          ],
          [
           "X11"
          ],
          [
           "Scrypt"
          ],
          [
           "XEVAN"
          ],
          [
           "SHA-256D"
          ],
          [
           "X11"
          ],
          [
           "X11"
          ],
          [
           "DPoS"
          ],
          [
           "Scrypt"
          ],
          [
           "X11"
          ],
          [
           "Scrypt"
          ],
          [
           "Scrypt"
          ],
          [
           "SHA-256"
          ],
          [
           "Scrypt"
          ],
          [
           "X11"
          ],
          [
           "Scrypt"
          ],
          [
           "SHA-256"
          ],
          [
           "X11"
          ],
          [
           "Scrypt"
          ],
          [
           "Scrypt"
          ],
          [
           "X11"
          ],
          [
           "Scrypt"
          ],
          [
           "PoS"
          ],
          [
           "X11"
          ],
          [
           "SHA-256"
          ],
          [
           "DPoS"
          ],
          [
           "Scrypt"
          ],
          [
           "Scrypt"
          ],
          [
           "NeoScrypt"
          ],
          [
           "X13"
          ],
          [
           "DPoS"
          ],
          [
           "DPoS"
          ],
          [
           "SHA-256"
          ],
          [
           "Leased POS"
          ],
          [
           "PoS"
          ],
          [
           "PoS"
          ],
          [
           "SHA-256"
          ],
          [
           "Scrypt"
          ],
          [
           "Scrypt"
          ]
         ],
         "hovertemplate": "<b>%{hovertext}</b><br><br>Class=%{marker.color}<br>PC1=%{x}<br>PC2=%{y}<br>PC3=%{z}<br>Algorithm=%{customdata[0]}<extra></extra>",
         "hovertext": [
          "42 Coin",
          "404Coin",
          "EliteCoin",
          "Dash",
          "Bitshares",
          "BitcoinDark",
          "PayCoin",
          "KoboCoin",
          "Aurora Coin",
          "BlueCoin",
          "EnergyCoin",
          "BitBar",
          "CryptoBullion",
          "CasinoCoin",
          "Diamond",
          "Exclusive Coin",
          "FlutterCoin",
          "HoboNickels",
          "HyperStake",
          "IOCoin",
          "MaxCoin",
          "MintCoin",
          "MazaCoin",
          "Nautilus Coin",
          "NavCoin",
          "OpalCoin",
          "Orbitcoin",
          "PotCoin",
          "PhoenixCoin",
          "Reddcoin",
          "SuperCoin",
          "SyncCoin",
          "TeslaCoin",
          "TittieCoin",
          "TorCoin",
          "UnitaryStatus Dollar",
          "UltraCoin",
          "VeriCoin",
          "X11 Coin",
          "Crypti",
          "StealthCoin",
          "ZCC Coin",
          "BurstCoin",
          "StorjCoin",
          "Neutron",
          "FairCoin",
          "RubyCoin",
          "Kore",
          "Dnotes",
          "8BIT Coin",
          "Sativa Coin",
          "Ucoin",
          "Vtorrent",
          "IslaCoin",
          "Nexus",
          "Droidz",
          "Squall Coin",
          "Diggits",
          "Paycon",
          "Emercoin",
          "EverGreenCoin",
          "Decred",
          "EDRCoin",
          "Hitcoin",
          "DubaiCoin",
          "PWR Coin",
          "BillaryCoin",
          "GPU Coin",
          "EuropeCoin",
          "ZeitCoin",
          "SwingCoin",
          "SafeExchangeCoin",
          "Nebuchadnezzar",
          "Ratecoin",
          "Revenu",
          "Clockcoin",
          "VIP Tokens",
          "BitSend",
          "Let it Ride",
          "PutinCoin",
          "iBankCoin",
          "Frankywillcoin",
          "MudraCoin",
          "Lutetium Coin",
          "GoldBlocks",
          "CarterCoin",
          "BitTokens",
          "MustangCoin",
          "ZoneCoin",
          "RootCoin",
          "BitCurrency",
          "Swiscoin",
          "BuzzCoin",
          "Opair",
          "PesoBit",
          "Halloween Coin",
          "CoffeeCoin",
          "RoyalCoin",
          "GanjaCoin V2",
          "TeamUP",
          "LanaCoin",
          "ARK",
          "InsaneCoin",
          "EmberCoin",
          "XenixCoin",
          "FreeCoin",
          "PLNCoin",
          "AquariusCoin",
          "Creatio",
          "Eternity",
          "Eurocoin",
          "BitcoinFast",
          "Stakenet",
          "BitConnect Coin",
          "MoneyCoin",
          "Enigma",
          "Russiacoin",
          "PandaCoin",
          "GameUnits",
          "GAKHcoin",
          "Allsafe",
          "LiteCreed",
          "Klingon Empire Darsek",
          "Internet of People",
          "KushCoin",
          "Printerium",
          "Impeach",
          "Zilbercoin",
          "FirstCoin",
          "FindCoin",
          "OpenChat",
          "RenosCoin",
          "VirtacoinPlus",
          "TajCoin",
          "Impact",
          "Atmos",
          "HappyCoin",
          "MacronCoin",
          "Condensate",
          "Independent Money System",
          "ArgusCoin",
          "LomoCoin",
          "ProCurrency",
          "GoldReserve",
          "GrowthCoin",
          "Phreak",
          "Degas Coin",
          "HTML5 Coin",
          "Ultimate Secure Cash",
          "QTUM",
          "Espers",
          "Denarius",
          "Virta Unique Coin",
          "Bitcoin Planet",
          "BritCoin",
          "Linda",
          "DeepOnion",
          "Signatum",
          "Cream",
          "Monoeci",
          "Draftcoin",
          "Stakecoin",
          "CoinonatX",
          "Ethereum Dark",
          "Obsidian",
          "Cardano",
          "Regalcoin",
          "TrezarCoin",
          "TerraNovaCoin",
          "Rupee",
          "WomenCoin",
          "Theresa May Coin",
          "NamoCoin",
          "LUXCoin",
          "Xios",
          "Bitcloud 2.0",
          "KekCoin",
          "BlackholeCoin",
          "Infinity Economics",
          "Magnet",
          "Lamden Tau",
          "Electra",
          "Bitcoin Diamond",
          "Cash & Back Coin",
          "Bulwark",
          "Kalkulus",
          "GermanCoin",
          "LiteCoin Ultra",
          "PhantomX",
          "Digiwage",
          "Trollcoin",
          "Litecoin Plus",
          "Monkey Project",
          "TokenPay",
          "1717 Masonic Commemorative Token",
          "My Big Coin",
          "Unified Society USDEX",
          "Tokyo Coin",
          "Stipend",
          "Poa Network",
          "Pushi",
          "Ellerium",
          "Velox",
          "Ontology",
          "Bitspace",
          "Briacoin",
          "Ignition",
          "MedicCoin",
          "Bitcoin Green",
          "Deviant Coin",
          "Abjcoin",
          "Semux",
          "Carebit",
          "Zealium",
          "Proton",
          "iDealCash",
          "Bitcoin Incognito",
          "HollyWoodCoin",
          "Swisscoin",
          "Xt3ch",
          "TheVig",
          "EmaratCoin",
          "Dekado",
          "Lynx",
          "Poseidon Quark",
          "BitcoinWSpectrum",
          "Muse",
          "Trivechain",
          "Dystem",
          "Giant",
          "Peony Coin",
          "Absolute Coin",
          "Vitae",
          "TPCash",
          "ARENON",
          "EUNO",
          "MMOCoin",
          "Ketan",
          "XDNA",
          "PAXEX",
          "ThunderStake",
          "Kcash",
          "Bettex coin",
          "BitMoney",
          "Junson Ming Chan Coin",
          "HerbCoin",
          "PirateCash",
          "Oduwa",
          "Galilel",
          "Crypto Sports",
          "Credit",
          "Dash Platinum",
          "Nasdacoin",
          "Beetle Coin",
          "Titan Coin",
          "Award",
          "Insane Coin",
          "ALAX",
          "LiteDoge",
          "TruckCoin",
          "OrangeCoin",
          "BitstarCoin",
          "NeosCoin",
          "HyperCoin",
          "PinkCoin",
          "AudioCoin",
          "IncaKoin",
          "Piggy Coin",
          "Genstake",
          "XiaoMiCoin",
          "CapriCoin",
          " ClubCoin",
          "Radium",
          "Creditbit ",
          "OKCash",
          "Lisk",
          "HiCoin",
          "WhiteCoin",
          "FriendshipCoin",
          "Triangles Coin",
          "EOS",
          "Oxycoin",
          "TigerCash",
          "Waves",
          "Particl",
          "Nxt",
          "ZEPHYR",
          "Gapcoin",
          "BitcoinPlus"
         ],
         "legendgroup": "0",
         "marker": {
          "color": [
           0,
           0,
           0,
           0,
           0,
           0,
           0,
           0,
           0,
           0,
           0,
           0,
           0,
           0,
           0,
           0,
           0,
           0,
           0,
           0,
           0,
           0,
           0,
           0,
           0,
           0,
           0,
           0,
           0,
           0,
           0,
           0,
           0,
           0,
           0,
           0,
           0,
           0,
           0,
           0,
           0,
           0,
           0,
           0,
           0,
           0,
           0,
           0,
           0,
           0,
           0,
           0,
           0,
           0,
           0,
           0,
           0,
           0,
           0,
           0,
           0,
           0,
           0,
           0,
           0,
           0,
           0,
           0,
           0,
           0,
           0,
           0,
           0,
           0,
           0,
           0,
           0,
           0,
           0,
           0,
           0,
           0,
           0,
           0,
           0,
           0,
           0,
           0,
           0,
           0,
           0,
           0,
           0,
           0,
           0,
           0,
           0,
           0,
           0,
           0,
           0,
           0,
           0,
           0,
           0,
           0,
           0,
           0,
           0,
           0,
           0,
           0,
           0,
           0,
           0,
           0,
           0,
           0,
           0,
           0,
           0,
           0,
           0,
           0,
           0,
           0,
           0,
           0,
           0,
           0,
           0,
           0,
           0,
           0,
           0,
           0,
           0,
           0,
           0,
           0,
           0,
           0,
           0,
           0,
           0,
           0,
           0,
           0,
           0,
           0,
           0,
           0,
           0,
           0,
           0,
           0,
           0,
           0,
           0,
           0,
           0,
           0,
           0,
           0,
           0,
           0,
           0,
           0,
           0,
           0,
           0,
           0,
           0,
           0,
           0,
           0,
           0,
           0,
           0,
           0,
           0,
           0,
           0,
           0,
           0,
           0,
           0,
           0,
           0,
           0,
           0,
           0,
           0,
           0,
           0,
           0,
           0,
           0,
           0,
           0,
           0,
           0,
           0,
           0,
           0,
           0,
           0,
           0,
           0,
           0,
           0,
           0,
           0,
           0,
           0,
           0,
           0,
           0,
           0,
           0,
           0,
           0,
           0,
           0,
           0,
           0,
           0,
           0,
           0,
           0,
           0,
           0,
           0,
           0,
           0,
           0,
           0,
           0,
           0,
           0,
           0,
           0,
           0,
           0,
           0,
           0,
           0,
           0,
           0,
           0,
           0,
           0,
           0,
           0,
           0,
           0,
           0,
           0,
           0,
           0,
           0,
           0,
           0,
           0,
           0,
           0,
           0,
           0,
           0,
           0,
           0,
           0,
           0,
           0,
           0,
           0,
           0,
           0,
           0,
           0,
           0,
           0,
           0,
           0,
           0,
           0,
           0,
           0,
           0
          ],
          "coloraxis": "coloraxis",
          "symbol": "circle"
         },
         "mode": "markers",
         "name": "0",
         "scene": "scene",
         "showlegend": true,
         "type": "scatter3d",
         "x": [
          -0.3389321805430422,
          -0.322258346608471,
          2.3136680883144405,
          -0.389031058706932,
          -0.28645173233174165,
          -0.3063494710286392,
          -0.2630269031927742,
          -0.2380616595205335,
          -0.33859149472079014,
          -0.33116507667185213,
          -0.3374279230807685,
          -0.3389281122178488,
          -0.3389123823783075,
          0.673888406906181,
          -0.3654571703828335,
          -0.364910090974612,
          -0.3034968341681227,
          -0.33698934696864796,
          -0.3255210801258445,
          -0.3889256967780717,
          -0.4255560564414972,
          -0.035386740275369574,
          -0.26962477213164826,
          -0.2953604483490004,
          -0.27311402017317504,
          -0.2737365720256525,
          -0.33404638379534973,
          -0.3332294062959851,
          -0.3373326014754577,
          0.019406683510064394,
          -0.3454186469941133,
          -0.38929757257930103,
          -0.23798060726794132,
          -0.3037066529469993,
          -0.38920911850389156,
          -0.31414340080470465,
          -0.33760839792384356,
          -0.30383814012873045,
          -0.3891735952425547,
          -0.23844905430306715,
          -0.27351731467437546,
          -0.33002588976532343,
          0.05319228222060456,
          -0.3390537363639798,
          -0.3055605440612874,
          -0.36487843426277194,
          -0.29534076979374807,
          -0.2738119462655601,
          -0.2899896061066307,
          -0.3389142391985664,
          -0.2737641143751201,
          -0.345863646573645,
          -0.33864838436811756,
          -0.38927909130132343,
          -0.44750552544586786,
          -0.3897241360597913,
          -0.3556544459176292,
          -0.2937409760620003,
          -0.27328530792880046,
          -0.29889769254424525,
          -0.24050590877104625,
          -0.07591002486433951,
          -0.3063203689526277,
          -0.06644990375115478,
          -0.30638415025360194,
          -0.22601087434560066,
          -0.33852409723125343,
          -0.2936094041876591,
          -0.386445005008808,
          0.858880825505675,
          -0.30618397018333915,
          -0.05745373650119434,
          -0.3645931001789141,
          -0.3871205616473477,
          -0.30492599981410384,
          -0.3025915890562352,
          -0.3474359787110951,
          -0.3880129614341839,
          -0.3174005935861609,
          -0.31479868080175644,
          -0.33856220541160503,
          -0.3370000979770349,
          -0.22918212988706577,
          -0.33334468435864456,
          -0.38875248240807986,
          -0.3377657878727786,
          -0.3063650445403802,
          -0.38926826344686416,
          -0.33875157665352557,
          -0.33890846911936223,
          -0.2935999705857108,
          -0.256274315387358,
          0.0484189954459038,
          -0.3635493619176848,
          -0.3385224134558034,
          -0.3754162975128469,
          -0.36287778411729865,
          -0.23061440946508308,
          -0.4165485919932394,
          -0.36262541301242884,
          -0.26633636637518254,
          3.7048695667337657,
          -0.38886046068750596,
          0.8590299585484195,
          -0.38922314457755475,
          -0.3640134751656714,
          -0.33844975540687045,
          -0.33860415096633256,
          -0.3645931001789141,
          -0.3887975637774428,
          -0.3062276463397837,
          -0.33845051652983915,
          -0.3803518333911841,
          -0.33859801081591057,
          -0.33418081960282714,
          -0.3892521492680743,
          -0.33780775849714434,
          0.3484111232599328,
          -0.3387974640173489,
          -0.3388681175464094,
          -0.3432885386861013,
          -0.3357515366690107,
          -0.33509057422270866,
          -0.30634144524457185,
          -0.38916203163563534,
          -0.33864573179505764,
          -0.3387727461652254,
          -0.2952469815626074,
          -0.3264217193496632,
          -0.23038208170420305,
          -0.3196113475797538,
          -0.2949880619865582,
          -0.38842696591036896,
          -0.3958059033373961,
          -0.3871645968019451,
          -0.36283828279640545,
          -0.38832479488579913,
          -0.35723380884794903,
          -0.3842617499098069,
          -0.33871600470293645,
          -0.33871516109783156,
          -0.33182873683803826,
          0.2702667336226221,
          -0.38880380634785644,
          -0.27787080523673624,
          -0.3646273684327431,
          -0.33792588254078354,
          0.8948975757253338,
          -0.2617157516396111,
          -0.31617797342150067,
          0.6029231160742025,
          -0.3489728325255417,
          -0.3474737422961126,
          -0.4028315503993533,
          -0.2734489453333419,
          0.12649517945303798,
          -0.27351980644187823,
          -0.3233080458226945,
          -0.40233616318979387,
          -0.38907647740442364,
          -0.2953213932035895,
          -0.364493427400397,
          -0.3383508786802577,
          -0.33885103385265664,
          -0.3445635577063166,
          0.6807661420238225,
          -0.3890171941003189,
          -0.3290410941731847,
          -0.33880657288028543,
          -0.3137939741658845,
          0.4308455482215348,
          -0.30468645043219095,
          -0.33372595034096497,
          -0.38259278409759023,
          -0.3387568606529887,
          -0.38498781537624166,
          -0.3467195422612325,
          -0.33862721645355137,
          -0.08937474098983639,
          -0.3878086575829047,
          3.7097299335804608,
          0.21096222944998763,
          -0.270187967641097,
          -0.33608521427975946,
          -0.30547703539212084,
          -0.3431743572185736,
          0.07597018544168832,
          -0.33776466686685125,
          -0.3883905403736774,
          -0.3423381850853424,
          -0.3253202147087443,
          -0.3388731784335157,
          -0.34583555611130656,
          -0.31768270347073563,
          -0.27313041206603184,
          -0.29902466795438315,
          -0.3344149565861076,
          -0.22216978859046832,
          -0.37006024488286104,
          -0.3804572900846887,
          -0.3890936623078015,
          -0.3047663579704736,
          -0.29448043509514793,
          -0.3023204732865176,
          -0.34857139225203654,
          -0.33890055270154656,
          -0.33888224463618083,
          -0.28885707964043916,
          -0.33988860514024316,
          -0.36408754308953717,
          -0.3385984870408226,
          3.866414769617426,
          -0.3836551109462519,
          -0.3642763518535535,
          -0.3143564167668186,
          -0.28541626815725896,
          -0.27127585796468395,
          -0.2950153960629996,
          -0.14185967685199066,
          -0.295267511484888,
          -0.33172074193483614,
          -0.33807198585188963,
          -0.19658988442931138,
          2.198521066254166,
          -0.3388770941180055,
          -0.2618439977786249,
          1.011890585658892,
          -0.3569515582745155,
          -0.3432879470664115,
          -0.386673769348083,
          -0.17585734530967492,
          -0.356981214852444,
          -0.3420064197668904,
          -0.33176879520328245,
          -0.34541257797234115,
          -0.3885665965359858,
          -0.29251050117212163,
          -0.36337506677106984,
          -0.35554948113758095,
          -0.3452736764127025,
          -0.1982238417956273,
          -0.36248103919740604,
          -0.26150036854206254,
          0.5494513524080864,
          -0.13567295209428012,
          -0.38596779009088955,
          -0.2791152555320452,
          -0.3386025039764994,
          -0.3864243173954543,
          -0.3434050225163181,
          0.5687464068218896,
          -0.34588990682925447,
          -0.3380848548939162,
          -0.29921693595816545,
          -0.2863934267125692,
          -0.3861282250495454,
          -0.38879404860574973,
          3.72198062562985,
          0.09672489714267346,
          -0.38633248924378466,
          -0.33746947844472375,
          -0.3382955903637183,
          -0.26305951207922107,
          -0.3388144543716792,
          -0.38041515871156445,
          -0.25242220225451095,
          -0.08588662634087862,
          -0.3761589100179418,
          -0.33809231130249384,
          -0.3311510854014235,
          -0.385359971788929,
          -0.336529986004095,
          -0.36486893185833935,
          -0.38739514328636143,
          -0.30486334385978625,
          3.705261754469652,
          -0.10239902143199857,
          -0.33372259125659187,
          -0.3336717795720004,
          -0.27391926338339573,
          3.7151344188623803,
          3.7163792328281122,
          -0.24394141106565628,
          -0.4638947469653379,
          -0.36480476504840237,
          -0.42860126025810236,
          2.4664993672606625,
          -0.33697533850528494,
          -0.29566439350154083
         ],
         "y": [
          0.9188791103025317,
          0.9188189214605778,
          1.5366943706639553,
          1.1006253536971902,
          1.3576480732960754,
          0.769166813494528,
          0.7438437279201762,
          1.7888086533057854,
          0.9188737482317267,
          0.9190246851123164,
          0.9189073038456916,
          0.9188788363025192,
          0.9188787808387691,
          0.253170585801113,
          0.7829631885904259,
          1.8829384187889877,
          0.40504121709171076,
          0.9188314566645648,
          1.0756893872410211,
          1.1006273284409178,
          2.0035444589185687,
          0.8984265911326577,
          0.7681757432630528,
          0.8935427043378134,
          1.7082990363528712,
          1.7082873681879158,
          0.4119023640935035,
          0.918691759311631,
          0.9188404355414023,
          0.9255952689277506,
          1.075316457513985,
          1.1006357701831886,
          0.26264826874863484,
          1.6430246600303102,
          1.1006304231336688,
          0.9182228177176215,
          0.9188338653125454,
          0.32150154943334386,
          1.1006342414470693,
          0.26270954487717596,
          1.7082914776141942,
          0.9183454764267752,
          0.40412128586493845,
          1.876886441953501,
          0.7691493741874447,
          0.7829771039921799,
          0.89355440822145,
          1.708277548769351,
          0.8933044223578595,
          0.9188794465972265,
          1.7082798463772921,
          1.075294105921317,
          0.9188704181783331,
          1.1006361172687111,
          2.433702974150268,
          1.674700624849534,
          0.898113598165757,
          0.8935143363344905,
          1.7082607980021227,
          0.7686213307405763,
          1.7889896146475168,
          0.7894946842191584,
          0.7691673589395731,
          1.0880868718981584,
          0.769174219958415,
          1.3791556025604756,
          0.918857335310186,
          0.8934319977011774,
          1.1004202200803443,
          0.8458319547713284,
          0.7691573053129298,
          0.2659813751298591,
          1.8829303487848434,
          1.1006240314747822,
          0.7690528729933945,
          0.7688848639024134,
          1.376816744716426,
          1.1005624698588001,
          1.7184597320241906,
          0.917930312197272,
          0.9188549864289524,
          0.9188452663614588,
          1.6828406036984784,
          1.0750824856678627,
          1.1006109592311728,
          0.9188379210334706,
          0.7691672221681848,
          1.1006342185299283,
          0.9188677835392296,
          0.9188795547428145,
          0.8935870351138622,
          0.30619889017126023,
          1.6895394561466472,
          1.8829120807940802,
          0.91888679038294,
          1.0998451005805423,
          1.8829484869339372,
          1.6829521197165882,
          1.7818552729030406,
          1.8827703707959704,
          1.692392955463394,
          2.169990665059664,
          1.100622946647992,
          1.72892274508579,
          1.1006344663628862,
          1.8829201955982569,
          0.9188611525974179,
          0.9188558349047462,
          1.8829303487848434,
          1.1006031086958377,
          0.7691704979109315,
          0.9188650194337782,
          0.6697804921511784,
          0.9188657578245949,
          0.9185123364447066,
          1.10063311942984,
          0.9187993041668367,
          0.8828412684657495,
          0.9188725279752585,
          0.9188779881226007,
          1.5994063492003225,
          0.485255877440724,
          0.9186008316212818,
          0.7691676644774883,
          1.1006317582199805,
          0.9188704678941274,
          0.9188667329144562,
          0.8935176352524276,
          0.2811239820346584,
          1.6829480500731953,
          0.9185406707638609,
          0.8935369010695878,
          1.1005820322236557,
          1.6233251807206137,
          1.1005986865513038,
          1.882899984840727,
          1.1005839471619268,
          1.8828020673958814,
          1.1003798747477913,
          0.9188683016423022,
          0.9188631418019856,
          0.9183116866035688,
          0.7013057392431371,
          1.1006170028920355,
          0.8924807189192263,
          1.8829227009140985,
          0.9188244120644536,
          1.7472379253252126,
          0.7437368881873274,
          1.7184360597253263,
          1.6721533634845325,
          1.3768439850560155,
          1.3767950201370682,
          1.7645639817651058,
          1.7082717422289633,
          0.8925743791980113,
          1.7082781916003922,
          1.7280949904132232,
          1.7645732665494247,
          1.1006332543428412,
          0.8935425775178714,
          1.8829030736336314,
          0.9188562019549017,
          0.9188776888706254,
          1.3590173054176171,
          1.6422215417960226,
          1.1006221107549263,
          0.41171859279047757,
          0.9188704423891704,
          0.8215430114683975,
          0.915792656362786,
          0.7691433389529313,
          1.3762960831757445,
          1.669257105702171,
          0.9188676845039813,
          1.6246369110171575,
          1.6432585882812771,
          0.9188744660422298,
          0.7408021180544421,
          1.1005627962200595,
          2.1698190504306627,
          1.36632876557212,
          1.7082067602575517,
          0.9187853519639138,
          1.3515050797058696,
          1.599404986444707,
          0.8916274155642214,
          0.9187959084515754,
          1.1006177429221127,
          1.5993506023960558,
          0.9185037284294056,
          0.9188774139382608,
          1.0752939318463426,
          1.7184603993445466,
          0.0627700235374883,
          0.27914069445341033,
          0.9188012444162955,
          1.682551696433961,
          0.8637680031633035,
          5.0402736206674374,
          1.100622078670906,
          1.539931264924351,
          0.8934836636022395,
          1.7454053559874603,
          1.3768234866469844,
          0.9188776014364916,
          0.9188765434552764,
          0.8933256487112471,
          1.6523816579159725,
          1.8828921861066181,
          0.9188643477792157,
          2.311616947905549,
          1.6246618892018065,
          1.88289425184132,
          0.8208494868998004,
          0.9162938976987073,
          1.3374335534394952,
          0.8935422919750562,
          0.9154270268773029,
          0.8935249566293855,
          1.69635583659729,
          0.9188363854835434,
          1.763626369535443,
          0.3473670551104741,
          1.5990441750882467,
          0.7438044158208231,
          1.9400610531468498,
          0.8461665579494652,
          1.5994021569295098,
          1.6247418154509439,
          0.8839683731419206,
          0.846855322771419,
          1.599370831697976,
          0.918312810058393,
          1.0752780404695328,
          1.1006144431932072,
          0.8934253089046067,
          1.8828200713745826,
          0.908670012344039,
          1.0752491186348383,
          0.9089062557032557,
          0.8206935910926815,
          1.5146074692103275,
          1.6296158392828934,
          1.0792476117733891,
          1.6247208256030785,
          -0.011044166527436798,
          0.918870577530732,
          1.6247367635257774,
          1.5994053079171853,
          0.8834893786641914,
          1.0752938239069927,
          0.9188361442857943,
          1.5397270285055604,
          1.69377263947284,
          1.100400937166649,
          1.100624191375032,
          2.169698378831768,
          0.9025248083915589,
          1.1006913438955783,
          0.9187664130207418,
          0.9188530319501687,
          0.7438371619898971,
          0.9188813168122385,
          1.1004519694021313,
          0.9131446431170434,
          0.7731811396491058,
          1.1001814621173864,
          0.9188843431653883,
          0.9187447233945706,
          1.1005638548300536,
          0.9188120438328634,
          1.882932885174007,
          0.5372485269860993,
          0.7691365207322376,
          2.1699735532001876,
          0.8901588262553207,
          0.9187665829875681,
          0.41186987482800497,
          1.7082838600318155,
          2.1702706238180296,
          2.1702939547175064,
          0.7435096344798273,
          4.198618737168939,
          1.8829343441259225,
          2.3938908819480744,
          0.9731408664832706,
          0.9187406464345218,
          0.8935476421510656
         ],
         "z": [
          -0.42787304125525033,
          -0.42814239524742237,
          -0.4608555406588366,
          -0.3504685139790202,
          -0.1568198004863627,
          -0.31290616640475855,
          -0.1289224713172554,
          -0.47711646390162993,
          -0.4278776265562159,
          -0.42803709195755,
          -0.4279048130119005,
          -0.4278730493535889,
          -0.42787330375077876,
          -0.011272169599147272,
          -0.3971362488374145,
          -0.15246946972491368,
          -0.04550368224918446,
          -0.42789539558959755,
          -0.16691314750365102,
          -0.3504707393513102,
          -0.3951077588710602,
          -0.24938409135994893,
          -0.3133086589852507,
          -0.24389061116267435,
          -0.4551254678052898,
          -0.4551123187517634,
          -0.2682382293696545,
          -0.4279281084068427,
          -0.42789157042833575,
          -0.435441594604351,
          -0.16649288665187956,
          -0.3504663095177708,
          -0.03820609906003459,
          -0.27296269003433077,
          -0.3504666212075992,
          -0.4281475347003118,
          -0.42788543392663175,
          -0.07362850856342144,
          -0.3504680720278064,
          -0.038211772124709394,
          -0.4551169497341253,
          -0.4279054806055328,
          0.4502785725231943,
          -0.053974623239692224,
          -0.3129156685744981,
          -0.39714915429426373,
          -0.24389354557663606,
          -0.4551088586875876,
          -0.24392873248894664,
          -0.42787342020484015,
          -0.4551101803001177,
          -0.16648037427130966,
          -0.42787592193538226,
          -0.3504667000205482,
          -0.13672752951085926,
          -0.6579875189602742,
          -0.07987110805401397,
          -0.2439117679324173,
          -0.45511406638086266,
          -0.3129113094690393,
          -0.47711522983646415,
          -0.43808599061424236,
          -0.312906781076057,
          -0.35315214438626064,
          -0.3129072241695044,
          -0.4476251016881155,
          -0.4278751222390418,
          -0.24389570234090005,
          -0.35046678118654545,
          -0.2528605474008586,
          -0.3129068598816167,
          -0.0017179234257804446,
          -0.15247305150933602,
          -0.350500615368849,
          -0.31290498451498605,
          -0.3129072342491935,
          -0.4450464450489858,
          -0.3504718037667116,
          -0.2673836646992987,
          -0.4280714254415991,
          -0.42787395411237694,
          -0.4278982819625485,
          -0.27112202898928095,
          -0.1666456267061344,
          -0.35047003902353346,
          -0.42788366638284814,
          -0.31290599314558637,
          -0.35046646170092327,
          -0.42787358671623676,
          -0.4278735420759421,
          -0.24393031337657742,
          -0.16034761621867885,
          -0.6369505076318853,
          -0.1524866902250791,
          -0.4278816960418551,
          -0.350525990562337,
          -0.15250616764271502,
          -0.2711225227729988,
          -0.6958415242292444,
          -0.15247086752415903,
          -0.6322474615070535,
          -0.6067633643890028,
          -0.3504708718380764,
          -0.47890540631844064,
          -0.3504672818270081,
          -0.15248062372470605,
          -0.42787723105532777,
          -0.42787343140663414,
          -0.15247305150933602,
          -0.3504675301264212,
          -0.3129090508353306,
          -0.4278780774043979,
          0.11262885730463004,
          -0.42787574050723276,
          -0.42787210603654197,
          -0.3504664907072752,
          -0.4278743736043005,
          -0.25242869570141313,
          -0.42787386289815027,
          -0.4278738781735968,
          -0.31731251111362047,
          -0.33499567592693846,
          -0.42787634448354706,
          -0.31290649159146283,
          -0.3504677163039681,
          -0.4278759779609567,
          -0.4278729942962032,
          -0.24388696451813274,
          -0.19904016776658473,
          -0.2711255579005407,
          -0.42812544842364275,
          -0.24389563595243322,
          -0.35046913071015134,
          -0.7526286115975165,
          -0.35049423675988556,
          -0.1524960597274892,
          -0.3504712886866564,
          -0.15256933320788685,
          -0.3504948361993087,
          -0.4278743050177893,
          -0.4278731727471439,
          -0.42786740227910164,
          -0.1285128009533475,
          -0.35047051172307425,
          -0.24395118777573693,
          -0.15247077099839643,
          -0.4278779499029213,
          -0.4870899154132555,
          -0.12892096275884835,
          -0.2673991357141677,
          -0.6128784411554828,
          -0.445026438613587,
          -0.4450409772650482,
          -0.5894710471735778,
          -0.45511372360687824,
          -0.4299198157325929,
          -0.4551139551793558,
          -0.10067997215507825,
          -0.589481510354932,
          -0.35046949945349526,
          -0.24389124521753797,
          -0.15246868075481182,
          -0.427877807562216,
          -0.4278741013548009,
          -0.15613869054171614,
          -0.33710832194987367,
          -0.35046802845456454,
          -0.26828226512191483,
          -0.42787324500345003,
          -0.13197783028897173,
          -0.4402398754665928,
          -0.31292914898102636,
          -0.44516322122226865,
          -0.4565454243307086,
          -0.42787347511173124,
          -0.5013031715871855,
          -0.19426905235636746,
          -0.42787718034893907,
          -0.13119111112791346,
          -0.3504753405511004,
          -0.606807644120055,
          -0.45218433494971766,
          -0.4551545784022039,
          -0.42790048146036175,
          -0.26104216554189447,
          -0.31731414440347566,
          -0.4288526663087702,
          -0.4278743497178234,
          -0.3504776836802232,
          -0.3173162381408414,
          -0.42802043743197715,
          -0.4278736647687497,
          -0.16648081190372724,
          -0.26737902940998776,
          0.08311036108813308,
          -0.3276553930084896,
          -0.42793233454550456,
          -0.27117673475964943,
          -0.207332396424275,
          -1.414040390505617,
          -0.35046672469760237,
          -0.3052503076883525,
          -0.24389241352000302,
          -0.15092090187533014,
          -0.4450286906265139,
          -0.4278732422632283,
          -0.42787331760713776,
          -0.2439526528275733,
          -0.34946308194715286,
          -0.15247314376996748,
          -0.4278754191040478,
          -0.4422304750888938,
          -0.5013313199282672,
          -0.15247040127779984,
          -0.15253259284361517,
          -0.4282060162538651,
          -0.034657953630342464,
          -0.24389637038465597,
          -0.4304475944703857,
          -0.24388824329720424,
          -0.6320193733949198,
          -0.4278781331427178,
          -0.29313267374469415,
          -0.31207311750841993,
          -0.31730683424377765,
          -0.12893379357042706,
          -0.41182219699678957,
          -0.33652728598631976,
          -0.3173115895751453,
          -0.5012978947905334,
          -0.24378943149892504,
          -0.31596142587574805,
          -0.3173263588758734,
          -0.4278686683194495,
          -0.16648445285681363,
          -0.3504739651596011,
          -0.24391284948231337,
          -0.15246920010895718,
          -0.3490008550053323,
          -0.16648038137043886,
          -0.42804287017849835,
          -0.06150969584056217,
          -0.12126549543214242,
          0.12870766925972804,
          -0.1709229712435054,
          -0.5013052014930115,
          0.1258005989593616,
          -0.42787673531277826,
          -0.5013010020089956,
          -0.3173103045791824,
          -0.4354000257036906,
          -0.16647986632443076,
          -0.42787786133287303,
          -0.30529902240004814,
          -0.632213946911265,
          -0.35046786775996996,
          -0.3504722745421472,
          -0.6069885574764853,
          -0.43162611661245925,
          -0.35052893584559813,
          -0.4278728008385388,
          -0.42787804064339635,
          -0.1289204593627274,
          -0.42787552778194315,
          -0.3505760808913903,
          -0.4280656775347859,
          -0.3175364572979983,
          -0.3505881418651966,
          -0.4278884452377812,
          -0.4279751185233227,
          -0.3505170967465904,
          -0.42789887095807894,
          -0.15246893800428427,
          0.17141364528685224,
          -0.31292463441450513,
          -0.6067662120417646,
          -0.24641061120976546,
          -0.42793637242374033,
          -0.26823736183445906,
          -0.4551084414070465,
          -0.6069996296166624,
          -0.6070259216040701,
          -0.1291718536985451,
          2.322831227567785,
          -0.15247035023977143,
          0.09716043150606331,
          -0.3243428073620368,
          -0.4278754540576655,
          -0.2438865545773168
         ]
        },
        {
         "customdata": [
          [
           "SHA-256"
          ],
          [
           "Ethash"
          ],
          [
           "Scrypt"
          ],
          [
           "CryptoNight-V7"
          ],
          [
           "Ethash"
          ],
          [
           "Equihash"
          ],
          [
           "Multiple"
          ],
          [
           "Scrypt"
          ],
          [
           "X11"
          ],
          [
           "Scrypt"
          ],
          [
           "Multiple"
          ],
          [
           "Scrypt"
          ],
          [
           "SHA-256"
          ],
          [
           "Scrypt"
          ],
          [
           "Scrypt"
          ],
          [
           "Quark"
          ],
          [
           "Groestl"
          ],
          [
           "Scrypt"
          ],
          [
           "Scrypt"
          ],
          [
           "Scrypt"
          ],
          [
           "X11"
          ],
          [
           "Multiple"
          ],
          [
           "SHA-256"
          ],
          [
           "Scrypt"
          ],
          [
           "Scrypt"
          ],
          [
           "Scrypt"
          ],
          [
           "Scrypt"
          ],
          [
           "Scrypt"
          ],
          [
           "NeoScrypt"
          ],
          [
           "Scrypt"
          ],
          [
           "Scrypt"
          ],
          [
           "Scrypt"
          ],
          [
           "Scrypt"
          ],
          [
           "SHA-256"
          ],
          [
           "Scrypt"
          ],
          [
           "Scrypt"
          ],
          [
           "Scrypt"
          ],
          [
           "Scrypt"
          ],
          [
           "HybridScryptHash256"
          ],
          [
           "Scrypt"
          ],
          [
           "Scrypt"
          ],
          [
           "SHA-256"
          ],
          [
           "Scrypt"
          ],
          [
           "Scrypt"
          ],
          [
           "Scrypt"
          ],
          [
           "Scrypt"
          ],
          [
           "SHA-256"
          ],
          [
           "SHA-256"
          ],
          [
           "SHA-256"
          ],
          [
           "SHA-256"
          ],
          [
           "SHA-256"
          ],
          [
           "X11"
          ],
          [
           "Scrypt"
          ],
          [
           "Lyra2REv2"
          ],
          [
           "Scrypt"
          ],
          [
           "SHA-256"
          ],
          [
           "CryptoNight"
          ],
          [
           "CryptoNight"
          ],
          [
           "Scrypt"
          ],
          [
           "Scrypt"
          ],
          [
           "Scrypt"
          ],
          [
           "Scrypt"
          ],
          [
           "Scrypt"
          ],
          [
           "Scrypt"
          ],
          [
           "Stanford Folding"
          ],
          [
           "Multiple"
          ],
          [
           "QuBit"
          ],
          [
           "Scrypt"
          ],
          [
           "Scrypt"
          ],
          [
           "M7 POW"
          ],
          [
           "Scrypt"
          ],
          [
           "SHA-256"
          ],
          [
           "Scrypt"
          ],
          [
           "X11"
          ],
          [
           "Lyra2RE"
          ],
          [
           "SHA-256"
          ],
          [
           "X11"
          ],
          [
           "Scrypt"
          ],
          [
           "Scrypt"
          ],
          [
           "Ethash"
          ],
          [
           "Blake2b"
          ],
          [
           "X11"
          ],
          [
           "SHA-256"
          ],
          [
           "Scrypt"
          ],
          [
           "1GB AES Pattern Search"
          ],
          [
           "Scrypt"
          ],
          [
           "SHA-256"
          ],
          [
           "X11"
          ],
          [
           "Dagger"
          ],
          [
           "Scrypt"
          ],
          [
           "X11GOST"
          ],
          [
           "Scrypt"
          ],
          [
           "X11"
          ],
          [
           "Scrypt"
          ],
          [
           "X11"
          ],
          [
           "Equihash"
          ],
          [
           "CryptoNight"
          ],
          [
           "SHA-256"
          ],
          [
           "Multiple"
          ],
          [
           "Scrypt"
          ],
          [
           "SHA-256"
          ],
          [
           "Scrypt"
          ],
          [
           "Lyra2Z"
          ],
          [
           "Ethash"
          ],
          [
           "Equihash"
          ],
          [
           "Scrypt"
          ],
          [
           "X11"
          ],
          [
           "X11"
          ],
          [
           "CryptoNight"
          ],
          [
           "Scrypt"
          ],
          [
           "CryptoNight"
          ],
          [
           "Lyra2RE"
          ],
          [
           "X11"
          ],
          [
           "CryptoNight-V7"
          ],
          [
           "Scrypt"
          ],
          [
           "X11"
          ],
          [
           "Equihash"
          ],
          [
           "Scrypt"
          ],
          [
           "Lyra2RE"
          ],
          [
           "Dagger-Hashimoto"
          ],
          [
           "Scrypt"
          ],
          [
           "NIST5"
          ],
          [
           "Scrypt"
          ],
          [
           "SHA-256"
          ],
          [
           "Scrypt"
          ],
          [
           "CryptoNight-V7"
          ],
          [
           "Argon2d"
          ],
          [
           "Blake2b"
          ],
          [
           "Cloverhash"
          ],
          [
           "CryptoNight"
          ],
          [
           "X11"
          ],
          [
           "Scrypt"
          ],
          [
           "Scrypt"
          ],
          [
           "X11"
          ],
          [
           "X11"
          ],
          [
           "CryptoNight"
          ],
          [
           "Time Travel"
          ],
          [
           "Scrypt"
          ],
          [
           "Keccak"
          ],
          [
           "X11"
          ],
          [
           "SHA-256"
          ],
          [
           "Scrypt"
          ],
          [
           "Scrypt"
          ],
          [
           "Scrypt"
          ],
          [
           "Scrypt"
          ],
          [
           "Scrypt"
          ],
          [
           "Scrypt"
          ],
          [
           "CryptoNight"
          ],
          [
           "Equihash"
          ],
          [
           "X11"
          ],
          [
           "NeoScrypt"
          ],
          [
           "Equihash"
          ],
          [
           "Dagger"
          ],
          [
           "Scrypt"
          ],
          [
           "X11"
          ],
          [
           "NeoScrypt"
          ],
          [
           "Ethash"
          ],
          [
           "NeoScrypt"
          ],
          [
           "Multiple"
          ],
          [
           "CryptoNight"
          ],
          [
           "CryptoNight"
          ],
          [
           "Ethash"
          ],
          [
           "X11"
          ],
          [
           "CryptoNight-V7"
          ],
          [
           "Scrypt"
          ],
          [
           "BLAKE256"
          ],
          [
           "X11"
          ],
          [
           "NeoScrypt"
          ],
          [
           "NeoScrypt"
          ],
          [
           "Scrypt"
          ],
          [
           "X11"
          ],
          [
           "SHA-256"
          ],
          [
           "C11"
          ],
          [
           "CryptoNight"
          ],
          [
           "SkunkHash"
          ],
          [
           "CryptoNight"
          ],
          [
           "Scrypt"
          ],
          [
           "Dagger"
          ],
          [
           "Lyra2REv2"
          ],
          [
           "Scrypt"
          ],
          [
           "Scrypt"
          ],
          [
           "X11"
          ],
          [
           "Ethash"
          ],
          [
           "CryptoNight"
          ],
          [
           "Scrypt"
          ],
          [
           "IMesh"
          ],
          [
           "Equihash"
          ],
          [
           "Lyra2Z"
          ],
          [
           "X11"
          ],
          [
           "CryptoNight"
          ],
          [
           "NIST5"
          ],
          [
           "Lyra2RE"
          ],
          [
           "Tribus"
          ],
          [
           "Lyra2Z"
          ],
          [
           "CryptoNight"
          ],
          [
           "CryptoNight Heavy"
          ],
          [
           "CryptoNight"
          ],
          [
           "Jump Consistent Hash"
          ],
          [
           "CryptoNight"
          ],
          [
           "X16R"
          ],
          [
           "HMQ1725"
          ],
          [
           "X11"
          ],
          [
           "Scrypt"
          ],
          [
           "CryptoNight-V7"
          ],
          [
           "Cryptonight-GPU"
          ],
          [
           "XEVAN"
          ],
          [
           "CryptoNight Heavy"
          ],
          [
           "SHA-256"
          ],
          [
           "X11"
          ],
          [
           "X16R"
          ],
          [
           "Equihash"
          ],
          [
           "Lyra2Z"
          ],
          [
           "SHA-256"
          ],
          [
           "CryptoNight"
          ],
          [
           "Blake"
          ],
          [
           "Blake"
          ],
          [
           "Exosis"
          ],
          [
           "Scrypt"
          ],
          [
           "Equihash"
          ],
          [
           "Equihash"
          ],
          [
           "QuBit"
          ],
          [
           "SHA-256"
          ],
          [
           "X13"
          ],
          [
           "SHA-256"
          ],
          [
           "Scrypt"
          ],
          [
           "NeoScrypt"
          ],
          [
           "Blake"
          ],
          [
           "Scrypt"
          ],
          [
           "SHA-256"
          ],
          [
           "Scrypt"
          ],
          [
           "Groestl"
          ],
          [
           "Scrypt"
          ],
          [
           "Scrypt"
          ],
          [
           "Multiple"
          ],
          [
           "Equihash+Scrypt"
          ],
          [
           "Ethash"
          ],
          [
           "CryptoNight"
          ],
          [
           "Equihash"
          ]
         ],
         "hovertemplate": "<b>%{hovertext}</b><br><br>Class=%{marker.color}<br>PC1=%{x}<br>PC2=%{y}<br>PC3=%{z}<br>Algorithm=%{customdata[0]}<extra></extra>",
         "hovertext": [
          "Bitcoin",
          "Ethereum",
          "Litecoin",
          "Monero",
          "Ethereum Classic",
          "ZCash",
          "DigiByte",
          "ProsperCoin",
          "Spreadcoin",
          "Argentum",
          "MyriadCoin",
          "MoonCoin",
          "ZetaCoin",
          "SexCoin",
          "Quatloo",
          "QuarkCoin",
          "Riecoin",
          "Digitalcoin ",
          "Catcoin",
          "CannaCoin",
          "CryptCoin",
          "Verge",
          "DevCoin",
          "EarthCoin",
          "E-Gulden",
          "Einsteinium",
          "Emerald",
          "Franko",
          "FeatherCoin",
          "GrandCoin",
          "GlobalCoin",
          "GoldCoin",
          "Infinite Coin",
          "IXcoin",
          "KrugerCoin",
          "LuckyCoin",
          "Litebar ",
          "MegaCoin",
          "MediterraneanCoin",
          "MinCoin",
          "NobleCoin",
          "Namecoin",
          "NyanCoin",
          "RonPaulCoin",
          "StableCoin",
          "SmartCoin",
          "SysCoin",
          "TigerCoin",
          "TerraCoin",
          "UnbreakableCoin",
          "Unobtanium",
          "UroCoin",
          "ViaCoin",
          "Vertcoin",
          "WorldCoin",
          "JouleCoin",
          "ByteCoin",
          "DigitalNote ",
          "MonaCoin",
          "Gulden",
          "PesetaCoin",
          "Wild Beast Coin",
          "Flo",
          "ArtByte",
          "Folding Coin",
          "Unitus",
          "CypherPunkCoin",
          "OmniCron",
          "GreenCoin",
          "Cryptonite",
          "MasterCoin",
          "SoonCoin",
          "1Credit",
          "MarsCoin ",
          "Crypto",
          "Anarchists Prime",
          "BowsCoin",
          "Song Coin",
          "BitZeny",
          "Expanse",
          "Siacoin",
          "MindCoin",
          "I0coin",
          "Revolution VR",
          "HOdlcoin",
          "Gamecredits",
          "CarpeDiemCoin",
          "Adzcoin",
          "SoilCoin",
          "YoCoin",
          "SibCoin",
          "Francs",
          "BolivarCoin",
          "Omni",
          "PizzaCoin",
          "Komodo",
          "Karbo",
          "ZayedCoin",
          "Circuits of Value",
          "DopeCoin",
          "DollarCoin",
          "Shilling",
          "ZCoin",
          "Elementrem",
          "ZClassic",
          "KiloCoin",
          "ArtexCoin",
          "Kurrent",
          "Cannabis Industry Coin",
          "OsmiumCoin",
          "Bikercoins",
          "HexxCoin",
          "PacCoin",
          "Citadel",
          "BeaverCoin",
          "VaultCoin",
          "Zero",
          "Canada eCoin",
          "Zoin",
          "DubaiCoin",
          "EB3coin",
          "Coinonat",
          "BenjiRolls",
          "ILCoin",
          "EquiTrader",
          "Quantum Resistant Ledger",
          "Dynamic",
          "Nano",
          "ChanCoin",
          "Dinastycoin",
          "DigitalPrice",
          "Unify",
          "SocialCoin",
          "ArcticCoin",
          "DAS",
          "LeviarCoin",
          "Bitcore",
          "gCn Coin",
          "SmartCash",
          "Onix",
          "Bitcoin Cash",
          "Sojourn Coin",
          "NewYorkCoin",
          "FrazCoin",
          "Kronecoin",
          "AdCoin",
          "Linx",
          "Sumokoin",
          "BitcoinZ",
          "Elements",
          "VIVO Coin",
          "Bitcoin Gold",
          "Pirl",
          "eBoost",
          "Pura",
          "Innova",
          "Ellaism",
          "GoByte",
          "SHIELD",
          "UltraNote",
          "BitCoal",
          "DaxxCoin",
          "AC3",
          "Lethean",
          "PopularCoin",
          "Photon",
          "Sucre",
          "SparksPay",
          "GunCoin",
          "IrishCoin",
          "Pioneer Coin",
          "UnitedBitcoin",
          "Interzone",
          "TurtleCoin",
          "MUNcoin",
          "Niobio Cash",
          "ShareChain",
          "Travelflex",
          "KREDS",
          "BitFlip",
          "LottoCoin",
          "Crypto Improvement Fund",
          "Callisto Network",
          "BitTube",
          "Poseidon",
          "Aidos Kuneen",
          "Bitrolium",
          "Alpenschillling",
          "FuturoCoin",
          "Monero Classic",
          "Jumpcoin",
          "Infinex",
          "KEYCO",
          "GINcoin",
          "PlatinCoin",
          "Loki",
          "Newton Coin",
          "MassGrid",
          "PluraCoin",
          "Motion",
          "PlusOneCoin",
          "Axe",
          "HexCoin",
          "Webchain",
          "Ryo",
          "Urals Coin",
          "Qwertycoin",
          "Project Pai",
          "Azart",
          "Xchange",
          "CrypticCoin",
          "Actinium",
          "Bitcoin SV",
          "FREDEnergy",
          "Universal Molecule",
          "Lithium",
          "Exosis",
          "Block-Logic",
          "Beam",
          "Bithereum",
          "SLICE",
          "BLAST",
          "Bitcoin Rhodium",
          "GlobalToken",
          "SolarCoin",
          "UFO Coin",
          "BlakeCoin",
          "Crypto Escudo",
          "Crown Coin",
          "SmileyCoin",
          "Groestlcoin",
          "Bata",
          "Pakcoin",
          "JoinCoin",
          "Vollar",
          "Reality Clash",
          "Beldex",
          "Horizen"
         ],
         "legendgroup": "3",
         "marker": {
          "color": [
           3,
           3,
           3,
           3,
           3,
           3,
           3,
           3,
           3,
           3,
           3,
           3,
           3,
           3,
           3,
           3,
           3,
           3,
           3,
           3,
           3,
           3,
           3,
           3,
           3,
           3,
           3,
           3,
           3,
           3,
           3,
           3,
           3,
           3,
           3,
           3,
           3,
           3,
           3,
           3,
           3,
           3,
           3,
           3,
           3,
           3,
           3,
           3,
           3,
           3,
           3,
           3,
           3,
           3,
           3,
           3,
           3,
           3,
           3,
           3,
           3,
           3,
           3,
           3,
           3,
           3,
           3,
           3,
           3,
           3,
           3,
           3,
           3,
           3,
           3,
           3,
           3,
           3,
           3,
           3,
           3,
           3,
           3,
           3,
           3,
           3,
           3,
           3,
           3,
           3,
           3,
           3,
           3,
           3,
           3,
           3,
           3,
           3,
           3,
           3,
           3,
           3,
           3,
           3,
           3,
           3,
           3,
           3,
           3,
           3,
           3,
           3,
           3,
           3,
           3,
           3,
           3,
           3,
           3,
           3,
           3,
           3,
           3,
           3,
           3,
           3,
           3,
           3,
           3,
           3,
           3,
           3,
           3,
           3,
           3,
           3,
           3,
           3,
           3,
           3,
           3,
           3,
           3,
           3,
           3,
           3,
           3,
           3,
           3,
           3,
           3,
           3,
           3,
           3,
           3,
           3,
           3,
           3,
           3,
           3,
           3,
           3,
           3,
           3,
           3,
           3,
           3,
           3,
           3,
           3,
           3,
           3,
           3,
           3,
           3,
           3,
           3,
           3,
           3,
           3,
           3,
           3,
           3,
           3,
           3,
           3,
           3,
           3,
           3,
           3,
           3,
           3,
           3,
           3,
           3,
           3,
           3,
           3,
           3,
           3,
           3,
           3,
           3,
           3,
           3,
           3,
           3,
           3,
           3,
           3,
           3,
           3,
           3,
           3,
           3,
           3,
           3,
           3,
           3,
           3,
           3,
           3,
           3,
           3,
           3,
           3,
           3,
           3,
           3,
           3,
           3,
           3,
           3,
           3,
           3,
           3,
           3,
           3
          ],
          "coloraxis": "coloraxis",
          "symbol": "diamond"
         },
         "mode": "markers",
         "name": "3",
         "scene": "scene",
         "showlegend": true,
         "type": "scatter3d",
         "x": [
          -0.1411571733887297,
          -0.15010850098612694,
          -0.17256942861116265,
          -0.1616229253085731,
          -0.14854868686593622,
          -0.15804901298868018,
          0.17053340947976273,
          -0.1737166118863857,
          -0.224023342086672,
          -0.17333273796761867,
          -0.08310346672214217,
          2.5514396183897943,
          -0.1382397608984143,
          -0.17058572177922288,
          -0.17313649352890972,
          -0.21686092960100922,
          -0.19933079943992624,
          -0.1731855242858093,
          -0.1736988676821408,
          -0.1737854079889938,
          -0.2241127448710447,
          0.19427646836208362,
          0.23700090395692383,
          0.07514849230833022,
          -0.17353152157070734,
          -0.1691330571347584,
          -0.17347073118193257,
          -0.17384245232624032,
          -0.16418112073103183,
          -0.1530465130238405,
          -0.17263660095903163,
          -0.17291419851791234,
          1.5764794621943528,
          -0.1411185205516629,
          -0.17020116457685658,
          -0.17355798288070598,
          -0.1739130844655391,
          -0.17317172583100146,
          -0.13757918940751093,
          -0.17379424378561228,
          -0.038554559452677835,
          -0.141196175830161,
          -0.16745304514454684,
          -0.1737736241601317,
          -0.17186583732783953,
          -0.17325993630826306,
          -0.12833697394146495,
          -0.14065951851891373,
          -0.14094691140619856,
          -0.14092971662841164,
          -0.14152112003983447,
          -0.22428681997175606,
          -0.1734899412101883,
          -0.19129908153754058,
          -0.17059036951299406,
          -0.14072686108441093,
          3.868910208740256,
          0.46513833794747234,
          -0.17235651552013476,
          -0.15693949656619888,
          -0.17107432082052135,
          -0.1739152893370086,
          -0.1709393109494871,
          -0.1571512521767295,
          -0.14316696289055614,
          -0.11713859726936257,
          -0.17160672264514654,
          -0.1737882904735413,
          -0.04660833368311608,
          -0.10658355389646958,
          -0.17392419598611003,
          -0.14122396938228474,
          0.4790195279231734,
          -0.22367350509315284,
          -0.1508314698285497,
          -0.14096353519493454,
          -0.2239586219049892,
          -0.17204595959945646,
          -0.17123755770905397,
          -0.15117649982416295,
          0.3685666102400437,
          -0.22399406141666384,
          -0.14111964355078527,
          -0.16987878972487616,
          -0.14994758782902448,
          -0.17248634722643394,
          0.27770212423665896,
          -0.2231539954834969,
          -0.14778648822889925,
          -0.17273353981914963,
          -0.14779574328894104,
          -0.17371389988823455,
          -0.22395724351641164,
          -0.1739242545282363,
          -0.22410730123777026,
          -0.2933231327370704,
          0.30990892050694585,
          -0.14137992900216403,
          -0.09719420945409472,
          -0.17108844050205138,
          -0.14133853074977692,
          -0.17358732928217918,
          -0.15227337303802965,
          -0.15091846632776904,
          -0.15807064255011213,
          -0.10056338871135366,
          -0.21068074631253306,
          -0.22193329280250867,
          0.3099033300094679,
          -0.17390597249889822,
          0.3100341393587449,
          -0.1513724749369216,
          0.49199549999327963,
          -0.16038609346142207,
          -0.17387423842017585,
          -0.21683282708194845,
          -0.1580830422718371,
          -0.17200599553870863,
          -0.1510906432618345,
          -0.15459929577882278,
          -0.1447633555974219,
          -0.1836325767623153,
          -0.17343621980042292,
          -0.10767453040801339,
          -0.1732580199611038,
          -0.16024410173731723,
          -0.14129035805218776,
          -0.031966592897815414,
          -0.13858854421250713,
          0.3460550186447551,
          -0.22316232295380195,
          -0.17357769982593702,
          -0.1733406965572018,
          -0.22355740869360952,
          -0.22413537708781522,
          0.3102986924476074,
          -0.17368811444227109,
          3.2386345371554386,
          -0.13032856144461247,
          -0.2149974303947852,
          -0.1411563371222242,
          -0.0994082397610929,
          1.5741060070334743,
          -0.17367560079507938,
          -0.17312664294178368,
          -0.17282737419089564,
          -0.17281429755140443,
          0.31048256310429195,
          0.05445911081974691,
          -0.17848801955318283,
          -0.16887394071574333,
          -0.15792898670607525,
          -0.14654430642143867,
          -0.17200420365685407,
          -0.21967575982942783,
          -0.16871918344950484,
          -0.14928159855140194,
          -0.16881950501835224,
          -0.10736183609012023,
          1.1487069782713781,
          0.30988605207910247,
          -0.07408433033278655,
          -0.21941629926819003,
          -0.149345907913859,
          -0.0899930830302128,
          1.0953713297675174,
          -0.22410935665712683,
          -0.1688715245075016,
          -0.1619032444453677,
          -0.17292597342106503,
          -0.22403470675619272,
          -0.14113572628461046,
          -0.20503012468980486,
          8.056629924975358,
          -0.14001538186001455,
          0.3137641571292999,
          0.019272172929993402,
          -0.1460474834272025,
          -0.17684427353784862,
          -0.1735001365909969,
          0.13383522571683654,
          -0.21817011424640972,
          -0.10226542514294006,
          0.31781814247660706,
          -0.1737373685871768,
          -0.17928101701647084,
          -0.15691927673357547,
          -0.15005437037340222,
          -0.2232031190572646,
          0.31006870274114373,
          -0.18369219304509654,
          -0.15121755181501806,
          -0.13779207761176537,
          -0.15235784659483417,
          0.3140017634421225,
          0.5825869911449956,
          2.120415165688349,
          -0.15536147804257808,
          0.3236858736351829,
          -0.19273672686490603,
          -0.15920930832428878,
          -0.22409150122290752,
          -0.17376195982776851,
          -0.14922240657674551,
          -0.16304656574976373,
          -0.13853061691442503,
          3.107420789105022,
          -0.10095159929152293,
          -0.22406283257658505,
          -0.1921637736793778,
          -0.05258068500945165,
          -0.15175492529763918,
          -0.14115637470948955,
          0.38991072554106054,
          -0.14150290595489098,
          -0.14189551010664603,
          -0.14077620461150514,
          -0.17265318210968833,
          -0.1559868982846679,
          -0.15776166487609763,
          -0.17081679702389735,
          -0.140431907156717,
          -0.10889660985303955,
          -0.13929873000062287,
          0.5229913792911457,
          -0.09397611924292655,
          -0.09230143859896722,
          -0.15730192577308919,
          -0.1409462814914769,
          0.5425503968135519,
          -0.19889145196313993,
          -0.17383891823136238,
          -0.17179266224281706,
          -0.11787389726875945,
          -0.13712518991881248,
          -0.15095165169408517,
          0.33166192735341066,
          -0.15805007055070808
         ],
         "y": [
          -1.2762232203102635,
          -1.9572682416718044,
          -1.126548533847103,
          -2.1359106961065417,
          -1.9573861244617217,
          -2.0310613723127315,
          -1.766682001551967,
          -1.1265258996334826,
          -0.9447674390535957,
          -1.126548828959163,
          -1.7581251477807507,
          -1.3444499956350724,
          -1.2762727809863428,
          -1.1266276472024437,
          -1.1265703710073074,
          -0.42073174820531256,
          -1.26246581750209,
          -1.126534977144824,
          -1.126525567063109,
          -1.126521682642389,
          -0.9447677135636504,
          -1.763123009140582,
          -1.2838326460842733,
          -1.1313043971870071,
          -1.126522430582148,
          -1.1266353032640153,
          -1.1265289973781618,
          -1.1265214177976748,
          -1.6336335343216353,
          -1.1271190010740118,
          -1.1265399849852054,
          -1.1265467610988984,
          -1.157178899311836,
          -1.2762224958602824,
          -1.126631242840871,
          -1.12652222597282,
          -1.1265158160151636,
          -1.1265303988754052,
          -2.157291682386458,
          -1.126519648489122,
          -1.1344863140427612,
          -1.2762239513127003,
          -1.126629881785614,
          -1.1265269681848196,
          -1.1266516397410933,
          -1.126538497309236,
          -1.2765903234018328,
          -1.2762321159653467,
          -1.2762339912368097,
          -1.2762602902391895,
          -1.2762155049553454,
          -0.9447583660848533,
          -1.1265230523828629,
          -1.1985482984944176,
          -1.1266385375061716,
          -1.2762319686279142,
          -2.3233508231629183,
          -2.26492105763997,
          -1.1265593391524868,
          -1.1273736837315198,
          -1.126578228146517,
          -1.1265167526554374,
          -1.1265712239515158,
          -1.126901271843559,
          -2.0947542715067256,
          -1.757361930752446,
          -1.5600992605858763,
          -1.1265148931339932,
          -1.1311344623758224,
          -2.208147709105014,
          -1.1265155124982047,
          -1.2762244722327643,
          -1.1787288027859502,
          -0.944769989519466,
          -2.163865189160251,
          -1.2762425413919152,
          -0.9447669265968288,
          -1.1266271614184533,
          -1.1266398642235997,
          -1.9573001025608046,
          -2.1777496293511596,
          -0.9447640880217677,
          -1.2762225169080699,
          -1.1265863751484535,
          -2.230331260512034,
          -1.1265469766960035,
          -1.283508550958984,
          -0.9447959811750495,
          -2.184286708505294,
          -1.126610702833893,
          -2.183733078736766,
          -1.1265251482440424,
          -0.9447697030018982,
          -1.1265155114727328,
          -0.9447725154555734,
          -1.5561647622485317,
          -2.260831848597619,
          -1.2762195041962487,
          -1.757828795331308,
          -1.1266020414038904,
          -1.2762193604041487,
          -1.126529781595851,
          -2.1351829811014382,
          -1.9573017809791748,
          -2.031061777704332,
          -1.1321457138558206,
          -0.9448536344725347,
          -0.9448739828023984,
          -2.2608396595359923,
          -1.1265166384833047,
          -2.2608400100840127,
          -2.163836245331615,
          -1.0013894470311158,
          -2.1360171183880894,
          -1.1265164960693215,
          -0.9453192196525445,
          -2.031059207866366,
          -1.1265491826725886,
          -2.1638386692666876,
          -2.168672438565492,
          -1.1287707715696749,
          -0.6685707740228739,
          -1.1265308168002968,
          -1.2773323605038553,
          -1.1265530330374798,
          -2.1359584123214295,
          -2.303087244180464,
          -2.185495002628123,
          -2.1332226510198136,
          -2.2615484952616947,
          -0.9448073462104393,
          -1.1265220888723502,
          -1.1265566842814532,
          -0.9447867287016947,
          -0.9447687682513806,
          -2.26085536793962,
          -2.0858122972573203,
          -1.2026672429104708,
          -1.1388420312861351,
          -0.9453548757560856,
          -1.276223204636558,
          -1.1324743434370481,
          -1.0937526593336366,
          -1.1265244304240978,
          -1.126558977424933,
          -1.12656457734464,
          -1.1265643322560002,
          -2.260876363502632,
          -2.041775488844418,
          -0.9451609908044812,
          -1.6335050164006681,
          -2.0310591227226644,
          -2.1843519123674993,
          -1.1265491490882806,
          -0.9449171393426966,
          -1.6335147259435696,
          -1.9574489002345625,
          -1.6335073588281441,
          -1.757641059527989,
          -2.3046512772341172,
          -2.260834028608324,
          -1.9628489589789444,
          -0.9450523883830229,
          -2.1363807910101675,
          -1.1284448007635508,
          -1.30007512396198,
          -0.9447689110678925,
          -1.6335007677557034,
          -1.6337057330924554,
          -1.1265412051832346,
          -0.9447697537352905,
          -1.276222234071436,
          -1.1816283344417355,
          -2.816191960179474,
          -2.16220172878582,
          -2.2609879744249,
          -1.1298996983712142,
          -2.184303154435551,
          -1.198989148390636,
          -1.126535152987398,
          -1.1336420954939064,
          -0.9449940037929517,
          -1.9609251830012664,
          -2.2613771644451686,
          -1.1265262886655087,
          -2.025004841353755,
          -2.0310745256885503,
          -2.1353365674711986,
          -0.9448081108305472,
          -2.260834738585393,
          -0.6685527997221614,
          -2.163844746803692,
          -2.159997711799305,
          -2.135176928242687,
          -2.26116846926272,
          -2.1580158230952824,
          -2.355794484379031,
          -2.1717645365553,
          -2.2612671886177833,
          -1.1992001330946398,
          -2.1788859928146307,
          -0.9447694170846398,
          -1.1265275238692225,
          -2.136904259422116,
          -2.1188551322899056,
          -0.5055449967049259,
          -2.2398213745543676,
          -1.2769261321604743,
          -0.9447716820026297,
          -1.1992439851692949,
          -2.034394177672358,
          -2.1352171191535994,
          -1.2762232053410363,
          -2.2649859346231986,
          -2.1504556129392425,
          -2.150407002744407,
          -2.20194402900759,
          -1.1265753237506761,
          -2.031192118548492,
          -2.0310629124316937,
          -1.5601545114088022,
          -1.2762397510977201,
          -0.33711144099253926,
          -1.2762913707754884,
          -1.1821780765095875,
          -1.6348845699344554,
          -2.1543637317257307,
          -1.1269040958402579,
          -1.276233979430646,
          -1.1481145621889386,
          -1.2624722947985938,
          -1.1265169829996184,
          -1.1266026301873047,
          -1.7573776736648055,
          -2.0170411685269802,
          -1.957301199677069,
          -2.261398077499795,
          -2.031061392134067
         ],
         "z": [
          0.12203646617101503,
          0.3340433880061043,
          0.0070581020446944835,
          0.33287234471785826,
          0.33404313402882146,
          0.3767621073834305,
          0.20995079115419404,
          0.007072524593844056,
          0.08447786150038344,
          0.0070711106208308045,
          0.21235013598591787,
          0.009288825091561193,
          0.12199801022660696,
          0.007042045352785516,
          0.007072569904438494,
          -0.06641504881415874,
          0.03779920527854796,
          0.007065536372269944,
          0.0070721498146340475,
          0.007072754066532861,
          0.08447943845136656,
          0.20875734515398994,
          0.11731515749235058,
          0.003914498260326548,
          0.007068615260897081,
          0.007019114615645043,
          0.007069043689870146,
          0.007073662483129756,
          0.16665757918662227,
          0.00685382746709146,
          0.007057341393368433,
          0.007063554185420642,
          -0.015793101251935875,
          0.12203564977601009,
          0.007036323628639299,
          0.007069018483632537,
          0.007073615372045019,
          0.007064285056278304,
          0.2740441893146105,
          0.007072451878088153,
          0.006549553779162903,
          0.1220372899500929,
          0.0069894229019391435,
          0.007073728762518729,
          0.007069082952628268,
          0.007067580354796146,
          0.12190065588334405,
          0.12203000443855092,
          0.12203529430151357,
          0.12204084667681554,
          0.12204092296603235,
          0.0844803130269439,
          0.007068048377763624,
          0.11897592012578222,
          0.007044544111025788,
          0.12203111358775053,
          0.2854198832831312,
          0.33015193221145794,
          0.007056892861232762,
          0.006976431937429328,
          0.007039348770440612,
          0.00707386089090173,
          0.007035503073756007,
          0.006875047264152513,
          0.33649311951539124,
          0.21275765467066482,
          0.09995696398902809,
          0.007071294237223855,
          0.005941297465850017,
          0.2808017367088184,
          0.007073736338806538,
          0.12203787698377228,
          0.00760453081613011,
          0.08447249625767808,
          0.32989511885688355,
          0.12203747612322201,
          0.0844766502036704,
          0.007066697821110276,
          0.0070558129216999515,
          0.3340685773014596,
          0.1986523210626721,
          0.08447662036749366,
          0.12203567349511966,
          0.007020887191912271,
          0.18925577485453934,
          0.007056347264636309,
          0.11655299262737381,
          0.08446946287257782,
          0.28332255491810454,
          0.007074699439880343,
          0.26599067922640096,
          0.007072311640771963,
          0.0844772437798936,
          0.007073737103600309,
          0.08448041318177107,
          0.6909209600531364,
          0.33187539966169544,
          0.12203941754739159,
          0.21252321174416414,
          0.007044879766268114,
          0.12203868362873488,
          0.007071195039054386,
          0.3618982260235077,
          0.334064574939124,
          0.3767625642261148,
          0.007080893956900865,
          0.08427077235976761,
          0.0844660969657622,
          0.33187723013585224,
          0.0070736775402767986,
          0.33187508997251086,
          0.32989786072241306,
          0.08491879456921309,
          0.3328750207104625,
          0.00707310779770222,
          0.08447854798380332,
          0.3767622034338742,
          0.0070486924096959305,
          0.32989362049029924,
          0.4495565545723167,
          0.007080416899049351,
          -0.010080820641861239,
          0.007068862796452114,
          0.12171518376063917,
          0.007070777864448692,
          0.3328595678828923,
          0.1315826526556931,
          0.20716504281008627,
          0.4094765768632394,
          0.3314217380461506,
          0.08447212951677138,
          0.007069322347279365,
          0.007072991111977834,
          0.08447424731420522,
          0.08448005657648623,
          0.331874016787642,
          0.3098386518455348,
          -0.033869284319292106,
          0.08539544136715672,
          0.08445534940658844,
          0.12203644850804918,
          0.007134331987480555,
          -0.02984688746109894,
          0.007071502717268107,
          0.007069871090162304,
          0.007066040927446077,
          0.0070657647328897675,
          0.3318755644511647,
          0.3755395275207181,
          0.08379319683038394,
          0.16670859450008024,
          0.3767595722821216,
          0.28331598099316774,
          0.007048654562968472,
          0.08443740714801572,
          0.16670812794070028,
          0.3340695110821711,
          0.16670819197919967,
          0.21265390132675258,
          0.32738955733860126,
          0.3318762718516682,
          0.33399438858070163,
          0.08446306149833513,
          0.33276863080806235,
          0.006079274387567167,
          -0.010385784949026968,
          0.08447964709842208,
          0.16670760943261506,
          0.1666349979327563,
          0.007062519258080972,
          0.08447856855314996,
          0.12203588335129599,
          0.22761438687750685,
          0.3239260254099215,
          0.305657673552809,
          0.3318447215594504,
          0.004549820909563159,
          0.28329672208391876,
          0.11882878009689923,
          0.007070910146869859,
          0.0034388441254612026,
          0.08442895693419103,
          0.33404475434832154,
          0.33186246290214894,
          0.007072963000650794,
          0.3076934669137459,
          0.376745873923454,
          0.3618947283055263,
          0.08447299118017498,
          0.3318733325141448,
          -0.01008380385669582,
          0.3298971229036434,
          0.24509950287949392,
          0.3618983133791313,
          0.3318808006102622,
          0.28775525863515444,
          0.3222774610294177,
          0.2107875145060233,
          0.33173852927192193,
          0.0984267338968216,
          0.40016870651515046,
          0.08447945677674033,
          0.007073654456517206,
          0.3328828572984461,
          0.46519673807927825,
          0.12969379261879152,
          0.2631212237648839,
          0.12151091831858064,
          0.08447947394947447,
          0.09842676308781109,
          0.37571432868485805,
          0.36189702086584014,
          0.12203644930193795,
          0.33144194008374905,
          0.23127894184706557,
          0.23127479727257544,
          0.18321370665889558,
          0.007065475225832606,
          0.37675619458718324,
          0.37675757721826103,
          0.09995584703433373,
          0.12202784157645835,
          -0.02016176183735986,
          0.12202009742066304,
          0.007625393188343317,
          0.16574514758404296,
          0.23131308920987817,
          0.0068782296740604945,
          0.12203528099694724,
          -0.00027555795390831167,
          0.037793194844330906,
          0.00707261709496909,
          0.007056951684716076,
          0.21277362098503377,
          0.36060725526524695,
          0.33406500847240805,
          0.3316323689019737,
          0.37676212972042644
         ]
        },
        {
         "customdata": [
          [
           "VeChainThor Authority"
          ],
          [
           "Proof-of-BibleHash"
          ],
          [
           "SHA-256 + Hive"
          ],
          [
           "ECC 256K1"
          ]
         ],
         "hovertemplate": "<b>%{hovertext}</b><br><br>Class=%{marker.color}<br>PC1=%{x}<br>PC2=%{y}<br>PC3=%{z}<br>Algorithm=%{customdata[0]}<extra></extra>",
         "hovertext": [
          "Vechain",
          "BiblePay",
          "LitecoinCash",
          "Acute Angle Cloud"
         ],
         "legendgroup": "1",
         "marker": {
          "color": [
           1,
           1,
           1,
           1
          ],
          "coloraxis": "coloraxis",
          "symbol": "square"
         },
         "mode": "markers",
         "name": "1",
         "scene": "scene",
         "showlegend": true,
         "type": "scatter3d",
         "x": [
          4.430180196382595,
          -0.17620883628107994,
          -0.3506276125865373,
          -0.3678625516766557
         ],
         "y": [
          2.1492360622705995,
          3.7707649341976692,
          0.4312202367844371,
          4.141870130263026
         ],
         "z": [
          9.351379388661723,
          15.684840513068423,
          11.882759021952161,
          23.151950898528295
         ]
        },
        {
         "customdata": [
          [
           "TRC10"
          ]
         ],
         "hovertemplate": "<b>%{hovertext}</b><br><br>Class=%{marker.color}<br>PC1=%{x}<br>PC2=%{y}<br>PC3=%{z}<br>Algorithm=%{customdata[0]}<extra></extra>",
         "hovertext": [
          "BitTorrent"
         ],
         "legendgroup": "2",
         "marker": {
          "color": [
           2
          ],
          "coloraxis": "coloraxis",
          "symbol": "x"
         },
         "mode": "markers",
         "name": "2",
         "scene": "scene",
         "showlegend": true,
         "type": "scatter3d",
         "x": [
          34.07240865672981
         ],
         "y": [
          1.4542932601337903
         ],
         "z": [
          -1.04410678505899
         ]
        }
       ],
       "layout": {
        "coloraxis": {
         "colorbar": {
          "title": {
           "text": "Class"
          }
         },
         "colorscale": [
          [
           0,
           "#0d0887"
          ],
          [
           0.1111111111111111,
           "#46039f"
          ],
          [
           0.2222222222222222,
           "#7201a8"
          ],
          [
           0.3333333333333333,
           "#9c179e"
          ],
          [
           0.4444444444444444,
           "#bd3786"
          ],
          [
           0.5555555555555556,
           "#d8576b"
          ],
          [
           0.6666666666666666,
           "#ed7953"
          ],
          [
           0.7777777777777778,
           "#fb9f3a"
          ],
          [
           0.8888888888888888,
           "#fdca26"
          ],
          [
           1,
           "#f0f921"
          ]
         ]
        },
        "legend": {
         "title": {
          "text": "Class"
         },
         "tracegroupgap": 0,
         "x": 0,
         "y": 1
        },
        "margin": {
         "t": 60
        },
        "scene": {
         "domain": {
          "x": [
           0,
           1
          ],
          "y": [
           0,
           1
          ]
         },
         "xaxis": {
          "title": {
           "text": "PC1"
          }
         },
         "yaxis": {
          "title": {
           "text": "PC2"
          }
         },
         "zaxis": {
          "title": {
           "text": "PC3"
          }
         }
        },
        "template": {
         "data": {
          "bar": [
           {
            "error_x": {
             "color": "#2a3f5f"
            },
            "error_y": {
             "color": "#2a3f5f"
            },
            "marker": {
             "line": {
              "color": "#E5ECF6",
              "width": 0.5
             },
             "pattern": {
              "fillmode": "overlay",
              "size": 10,
              "solidity": 0.2
             }
            },
            "type": "bar"
           }
          ],
          "barpolar": [
           {
            "marker": {
             "line": {
              "color": "#E5ECF6",
              "width": 0.5
             },
             "pattern": {
              "fillmode": "overlay",
              "size": 10,
              "solidity": 0.2
             }
            },
            "type": "barpolar"
           }
          ],
          "carpet": [
           {
            "aaxis": {
             "endlinecolor": "#2a3f5f",
             "gridcolor": "white",
             "linecolor": "white",
             "minorgridcolor": "white",
             "startlinecolor": "#2a3f5f"
            },
            "baxis": {
             "endlinecolor": "#2a3f5f",
             "gridcolor": "white",
             "linecolor": "white",
             "minorgridcolor": "white",
             "startlinecolor": "#2a3f5f"
            },
            "type": "carpet"
           }
          ],
          "choropleth": [
           {
            "colorbar": {
             "outlinewidth": 0,
             "ticks": ""
            },
            "type": "choropleth"
           }
          ],
          "contour": [
           {
            "colorbar": {
             "outlinewidth": 0,
             "ticks": ""
            },
            "colorscale": [
             [
              0,
              "#0d0887"
             ],
             [
              0.1111111111111111,
              "#46039f"
             ],
             [
              0.2222222222222222,
              "#7201a8"
             ],
             [
              0.3333333333333333,
              "#9c179e"
             ],
             [
              0.4444444444444444,
              "#bd3786"
             ],
             [
              0.5555555555555556,
              "#d8576b"
             ],
             [
              0.6666666666666666,
              "#ed7953"
             ],
             [
              0.7777777777777778,
              "#fb9f3a"
             ],
             [
              0.8888888888888888,
              "#fdca26"
             ],
             [
              1,
              "#f0f921"
             ]
            ],
            "type": "contour"
           }
          ],
          "contourcarpet": [
           {
            "colorbar": {
             "outlinewidth": 0,
             "ticks": ""
            },
            "type": "contourcarpet"
           }
          ],
          "heatmap": [
           {
            "colorbar": {
             "outlinewidth": 0,
             "ticks": ""
            },
            "colorscale": [
             [
              0,
              "#0d0887"
             ],
             [
              0.1111111111111111,
              "#46039f"
             ],
             [
              0.2222222222222222,
              "#7201a8"
             ],
             [
              0.3333333333333333,
              "#9c179e"
             ],
             [
              0.4444444444444444,
              "#bd3786"
             ],
             [
              0.5555555555555556,
              "#d8576b"
             ],
             [
              0.6666666666666666,
              "#ed7953"
             ],
             [
              0.7777777777777778,
              "#fb9f3a"
             ],
             [
              0.8888888888888888,
              "#fdca26"
             ],
             [
              1,
              "#f0f921"
             ]
            ],
            "type": "heatmap"
           }
          ],
          "heatmapgl": [
           {
            "colorbar": {
             "outlinewidth": 0,
             "ticks": ""
            },
            "colorscale": [
             [
              0,
              "#0d0887"
             ],
             [
              0.1111111111111111,
              "#46039f"
             ],
             [
              0.2222222222222222,
              "#7201a8"
             ],
             [
              0.3333333333333333,
              "#9c179e"
             ],
             [
              0.4444444444444444,
              "#bd3786"
             ],
             [
              0.5555555555555556,
              "#d8576b"
             ],
             [
              0.6666666666666666,
              "#ed7953"
             ],
             [
              0.7777777777777778,
              "#fb9f3a"
             ],
             [
              0.8888888888888888,
              "#fdca26"
             ],
             [
              1,
              "#f0f921"
             ]
            ],
            "type": "heatmapgl"
           }
          ],
          "histogram": [
           {
            "marker": {
             "pattern": {
              "fillmode": "overlay",
              "size": 10,
              "solidity": 0.2
             }
            },
            "type": "histogram"
           }
          ],
          "histogram2d": [
           {
            "colorbar": {
             "outlinewidth": 0,
             "ticks": ""
            },
            "colorscale": [
             [
              0,
              "#0d0887"
             ],
             [
              0.1111111111111111,
              "#46039f"
             ],
             [
              0.2222222222222222,
              "#7201a8"
             ],
             [
              0.3333333333333333,
              "#9c179e"
             ],
             [
              0.4444444444444444,
              "#bd3786"
             ],
             [
              0.5555555555555556,
              "#d8576b"
             ],
             [
              0.6666666666666666,
              "#ed7953"
             ],
             [
              0.7777777777777778,
              "#fb9f3a"
             ],
             [
              0.8888888888888888,
              "#fdca26"
             ],
             [
              1,
              "#f0f921"
             ]
            ],
            "type": "histogram2d"
           }
          ],
          "histogram2dcontour": [
           {
            "colorbar": {
             "outlinewidth": 0,
             "ticks": ""
            },
            "colorscale": [
             [
              0,
              "#0d0887"
             ],
             [
              0.1111111111111111,
              "#46039f"
             ],
             [
              0.2222222222222222,
              "#7201a8"
             ],
             [
              0.3333333333333333,
              "#9c179e"
             ],
             [
              0.4444444444444444,
              "#bd3786"
             ],
             [
              0.5555555555555556,
              "#d8576b"
             ],
             [
              0.6666666666666666,
              "#ed7953"
             ],
             [
              0.7777777777777778,
              "#fb9f3a"
             ],
             [
              0.8888888888888888,
              "#fdca26"
             ],
             [
              1,
              "#f0f921"
             ]
            ],
            "type": "histogram2dcontour"
           }
          ],
          "mesh3d": [
           {
            "colorbar": {
             "outlinewidth": 0,
             "ticks": ""
            },
            "type": "mesh3d"
           }
          ],
          "parcoords": [
           {
            "line": {
             "colorbar": {
              "outlinewidth": 0,
              "ticks": ""
             }
            },
            "type": "parcoords"
           }
          ],
          "pie": [
           {
            "automargin": true,
            "type": "pie"
           }
          ],
          "scatter": [
           {
            "marker": {
             "colorbar": {
              "outlinewidth": 0,
              "ticks": ""
             }
            },
            "type": "scatter"
           }
          ],
          "scatter3d": [
           {
            "line": {
             "colorbar": {
              "outlinewidth": 0,
              "ticks": ""
             }
            },
            "marker": {
             "colorbar": {
              "outlinewidth": 0,
              "ticks": ""
             }
            },
            "type": "scatter3d"
           }
          ],
          "scattercarpet": [
           {
            "marker": {
             "colorbar": {
              "outlinewidth": 0,
              "ticks": ""
             }
            },
            "type": "scattercarpet"
           }
          ],
          "scattergeo": [
           {
            "marker": {
             "colorbar": {
              "outlinewidth": 0,
              "ticks": ""
             }
            },
            "type": "scattergeo"
           }
          ],
          "scattergl": [
           {
            "marker": {
             "colorbar": {
              "outlinewidth": 0,
              "ticks": ""
             }
            },
            "type": "scattergl"
           }
          ],
          "scattermapbox": [
           {
            "marker": {
             "colorbar": {
              "outlinewidth": 0,
              "ticks": ""
             }
            },
            "type": "scattermapbox"
           }
          ],
          "scatterpolar": [
           {
            "marker": {
             "colorbar": {
              "outlinewidth": 0,
              "ticks": ""
             }
            },
            "type": "scatterpolar"
           }
          ],
          "scatterpolargl": [
           {
            "marker": {
             "colorbar": {
              "outlinewidth": 0,
              "ticks": ""
             }
            },
            "type": "scatterpolargl"
           }
          ],
          "scatterternary": [
           {
            "marker": {
             "colorbar": {
              "outlinewidth": 0,
              "ticks": ""
             }
            },
            "type": "scatterternary"
           }
          ],
          "surface": [
           {
            "colorbar": {
             "outlinewidth": 0,
             "ticks": ""
            },
            "colorscale": [
             [
              0,
              "#0d0887"
             ],
             [
              0.1111111111111111,
              "#46039f"
             ],
             [
              0.2222222222222222,
              "#7201a8"
             ],
             [
              0.3333333333333333,
              "#9c179e"
             ],
             [
              0.4444444444444444,
              "#bd3786"
             ],
             [
              0.5555555555555556,
              "#d8576b"
             ],
             [
              0.6666666666666666,
              "#ed7953"
             ],
             [
              0.7777777777777778,
              "#fb9f3a"
             ],
             [
              0.8888888888888888,
              "#fdca26"
             ],
             [
              1,
              "#f0f921"
             ]
            ],
            "type": "surface"
           }
          ],
          "table": [
           {
            "cells": {
             "fill": {
              "color": "#EBF0F8"
             },
             "line": {
              "color": "white"
             }
            },
            "header": {
             "fill": {
              "color": "#C8D4E3"
             },
             "line": {
              "color": "white"
             }
            },
            "type": "table"
           }
          ]
         },
         "layout": {
          "annotationdefaults": {
           "arrowcolor": "#2a3f5f",
           "arrowhead": 0,
           "arrowwidth": 1
          },
          "autotypenumbers": "strict",
          "coloraxis": {
           "colorbar": {
            "outlinewidth": 0,
            "ticks": ""
           }
          },
          "colorscale": {
           "diverging": [
            [
             0,
             "#8e0152"
            ],
            [
             0.1,
             "#c51b7d"
            ],
            [
             0.2,
             "#de77ae"
            ],
            [
             0.3,
             "#f1b6da"
            ],
            [
             0.4,
             "#fde0ef"
            ],
            [
             0.5,
             "#f7f7f7"
            ],
            [
             0.6,
             "#e6f5d0"
            ],
            [
             0.7,
             "#b8e186"
            ],
            [
             0.8,
             "#7fbc41"
            ],
            [
             0.9,
             "#4d9221"
            ],
            [
             1,
             "#276419"
            ]
           ],
           "sequential": [
            [
             0,
             "#0d0887"
            ],
            [
             0.1111111111111111,
             "#46039f"
            ],
            [
             0.2222222222222222,
             "#7201a8"
            ],
            [
             0.3333333333333333,
             "#9c179e"
            ],
            [
             0.4444444444444444,
             "#bd3786"
            ],
            [
             0.5555555555555556,
             "#d8576b"
            ],
            [
             0.6666666666666666,
             "#ed7953"
            ],
            [
             0.7777777777777778,
             "#fb9f3a"
            ],
            [
             0.8888888888888888,
             "#fdca26"
            ],
            [
             1,
             "#f0f921"
            ]
           ],
           "sequentialminus": [
            [
             0,
             "#0d0887"
            ],
            [
             0.1111111111111111,
             "#46039f"
            ],
            [
             0.2222222222222222,
             "#7201a8"
            ],
            [
             0.3333333333333333,
             "#9c179e"
            ],
            [
             0.4444444444444444,
             "#bd3786"
            ],
            [
             0.5555555555555556,
             "#d8576b"
            ],
            [
             0.6666666666666666,
             "#ed7953"
            ],
            [
             0.7777777777777778,
             "#fb9f3a"
            ],
            [
             0.8888888888888888,
             "#fdca26"
            ],
            [
             1,
             "#f0f921"
            ]
           ]
          },
          "colorway": [
           "#636efa",
           "#EF553B",
           "#00cc96",
           "#ab63fa",
           "#FFA15A",
           "#19d3f3",
           "#FF6692",
           "#B6E880",
           "#FF97FF",
           "#FECB52"
          ],
          "font": {
           "color": "#2a3f5f"
          },
          "geo": {
           "bgcolor": "white",
           "lakecolor": "white",
           "landcolor": "#E5ECF6",
           "showlakes": true,
           "showland": true,
           "subunitcolor": "white"
          },
          "hoverlabel": {
           "align": "left"
          },
          "hovermode": "closest",
          "mapbox": {
           "style": "light"
          },
          "paper_bgcolor": "white",
          "plot_bgcolor": "#E5ECF6",
          "polar": {
           "angularaxis": {
            "gridcolor": "white",
            "linecolor": "white",
            "ticks": ""
           },
           "bgcolor": "#E5ECF6",
           "radialaxis": {
            "gridcolor": "white",
            "linecolor": "white",
            "ticks": ""
           }
          },
          "scene": {
           "xaxis": {
            "backgroundcolor": "#E5ECF6",
            "gridcolor": "white",
            "gridwidth": 2,
            "linecolor": "white",
            "showbackground": true,
            "ticks": "",
            "zerolinecolor": "white"
           },
           "yaxis": {
            "backgroundcolor": "#E5ECF6",
            "gridcolor": "white",
            "gridwidth": 2,
            "linecolor": "white",
            "showbackground": true,
            "ticks": "",
            "zerolinecolor": "white"
           },
           "zaxis": {
            "backgroundcolor": "#E5ECF6",
            "gridcolor": "white",
            "gridwidth": 2,
            "linecolor": "white",
            "showbackground": true,
            "ticks": "",
            "zerolinecolor": "white"
           }
          },
          "shapedefaults": {
           "line": {
            "color": "#2a3f5f"
           }
          },
          "ternary": {
           "aaxis": {
            "gridcolor": "white",
            "linecolor": "white",
            "ticks": ""
           },
           "baxis": {
            "gridcolor": "white",
            "linecolor": "white",
            "ticks": ""
           },
           "bgcolor": "#E5ECF6",
           "caxis": {
            "gridcolor": "white",
            "linecolor": "white",
            "ticks": ""
           }
          },
          "title": {
           "x": 0.05
          },
          "xaxis": {
           "automargin": true,
           "gridcolor": "white",
           "linecolor": "white",
           "ticks": "",
           "title": {
            "standoff": 15
           },
           "zerolinecolor": "white",
           "zerolinewidth": 2
          },
          "yaxis": {
           "automargin": true,
           "gridcolor": "white",
           "linecolor": "white",
           "ticks": "",
           "title": {
            "standoff": 15
           },
           "zerolinecolor": "white",
           "zerolinewidth": 2
          }
         }
        },
        "width": 800
       }
      },
      "text/html": [
       "<div>                            <div id=\"c9b49b6c-7d11-4e79-abf6-c9f855e19046\" class=\"plotly-graph-div\" style=\"height:525px; width:800px;\"></div>            <script type=\"text/javascript\">                require([\"plotly\"], function(Plotly) {                    window.PLOTLYENV=window.PLOTLYENV || {};                                    if (document.getElementById(\"c9b49b6c-7d11-4e79-abf6-c9f855e19046\")) {                    Plotly.newPlot(                        \"c9b49b6c-7d11-4e79-abf6-c9f855e19046\",                        [{\"customdata\":[[\"Scrypt\"],[\"Scrypt\"],[\"X13\"],[\"X11\"],[\"SHA-512\"],[\"SHA-256\"],[\"SHA-256\"],[\"X15\"],[\"Scrypt\"],[\"Scrypt\"],[\"Scrypt\"],[\"Scrypt\"],[\"Scrypt\"],[\"Scrypt\"],[\"Groestl\"],[\"PoS\"],[\"Scrypt\"],[\"Scrypt\"],[\"X11\"],[\"X11\"],[\"SHA3\"],[\"Scrypt\"],[\"SHA-256\"],[\"Scrypt\"],[\"X13\"],[\"X13\"],[\"NeoScrypt\"],[\"Scrypt\"],[\"Scrypt\"],[\"Scrypt\"],[\"X11\"],[\"X11\"],[\"Multiple\"],[\"PHI1612\"],[\"X11\"],[\"Scrypt\"],[\"Scrypt\"],[\"Scrypt\"],[\"X11\"],[\"Multiple\"],[\"X13\"],[\"Scrypt\"],[\"Shabal256\"],[\"Counterparty\"],[\"SHA-256\"],[\"Groestl\"],[\"Scrypt\"],[\"X13\"],[\"Scrypt\"],[\"Scrypt\"],[\"X13\"],[\"X11\"],[\"Scrypt\"],[\"X11\"],[\"SHA3\"],[\"QUAIT\"],[\"X11\"],[\"Scrypt\"],[\"X13\"],[\"SHA-256\"],[\"X15\"],[\"BLAKE256\"],[\"SHA-256\"],[\"X11\"],[\"SHA-256\"],[\"NIST5\"],[\"Scrypt\"],[\"Scrypt\"],[\"X11\"],[\"Scrypt\"],[\"SHA-256\"],[\"Scrypt\"],[\"PoS\"],[\"X11\"],[\"SHA-256\"],[\"SHA-256\"],[\"NIST5\"],[\"X11\"],[\"POS 3.0\"],[\"Scrypt\"],[\"Scrypt\"],[\"Scrypt\"],[\"X13\"],[\"X11\"],[\"X11\"],[\"Scrypt\"],[\"SHA-256\"],[\"X11\"],[\"Scrypt\"],[\"Scrypt\"],[\"Scrypt\"],[\"Scrypt\"],[\"SHA-256D\"],[\"PoS\"],[\"Scrypt\"],[\"X11\"],[\"PoS\"],[\"X13\"],[\"X14\"],[\"PoS\"],[\"SHA-256D\"],[\"DPoS\"],[\"X11\"],[\"X13\"],[\"X11\"],[\"PoS\"],[\"Scrypt\"],[\"Scrypt\"],[\"PoS\"],[\"X11\"],[\"SHA-256\"],[\"Scrypt\"],[\"X11\"],[\"Scrypt\"],[\"Scrypt\"],[\"X11\"],[\"Scrypt\"],[\"Scrypt\"],[\"Scrypt\"],[\"Scrypt\"],[\"Quark\"],[\"QuBit\"],[\"Scrypt\"],[\"SHA-256\"],[\"X11\"],[\"Scrypt\"],[\"Scrypt\"],[\"Scrypt\"],[\"Scrypt\"],[\"X13\"],[\"Scrypt\"],[\"Scrypt\"],[\"X11\"],[\"Blake2S\"],[\"X11\"],[\"PoS\"],[\"X11\"],[\"PoS\"],[\"X11\"],[\"Scrypt\"],[\"Scrypt\"],[\"Scrypt\"],[\"SHA-256\"],[\"X11\"],[\"Scrypt\"],[\"PoS\"],[\"Scrypt\"],[\"X15\"],[\"SHA-256\"],[\"POS 3.0\"],[\"536\"],[\"NIST5\"],[\"NIST5\"],[\"Skein\"],[\"X13\"],[\"Scrypt\"],[\"X13\"],[\"SkunkHash v2 Raptor\"],[\"Skein\"],[\"X11\"],[\"Scrypt\"],[\"PoS\"],[\"Scrypt\"],[\"Scrypt\"],[\"SHA-512\"],[\"Ouroboros\"],[\"X11\"],[\"NeoScrypt\"],[\"Scrypt\"],[\"Lyra2REv2\"],[\"Scrypt\"],[\"SHA-256\"],[\"NIST5\"],[\"PHI1612\"],[\"Scrypt\"],[\"Quark\"],[\"POS 2.0\"],[\"Scrypt\"],[\"SHA-256\"],[\"X11\"],[\"DPoS\"],[\"NIST5\"],[\"X13\"],[\"Scrypt\"],[\"NIST5\"],[\"Quark\"],[\"Scrypt\"],[\"Scrypt\"],[\"X11\"],[\"Quark\"],[\"Scrypt\"],[\"Scrypt\"],[\"X11\"],[\"POS 3.0\"],[\"Ethash\"],[\"Scrypt\"],[\"Scrypt\"],[\"X13\"],[\"C11\"],[\"Proof-of-Authority\"],[\"X11\"],[\"XEVAN\"],[\"Scrypt\"],[\"VBFT\"],[\"NIST5\"],[\"Scrypt\"],[\"Scrypt\"],[\"Scrypt\"],[\"Green Protocol\"],[\"PoS\"],[\"Scrypt\"],[\"Semux BFT consensus\"],[\"Quark\"],[\"PoS\"],[\"X16R\"],[\"Scrypt\"],[\"XEVAN\"],[\"Scrypt\"],[\"Scrypt\"],[\"Scrypt\"],[\"SHA-256D\"],[\"Scrypt\"],[\"X15\"],[\"Scrypt\"],[\"Quark\"],[\"SHA-256\"],[\"DPoS\"],[\"X16R\"],[\"Quark\"],[\"Quark\"],[\"Scrypt\"],[\"Lyra2REv2\"],[\"Quark\"],[\"Scrypt\"],[\"X11\"],[\"X11\"],[\"Scrypt\"],[\"PoS\"],[\"Keccak\"],[\"X11\"],[\"Scrypt\"],[\"SHA-512\"],[\"XEVAN\"],[\"XEVAN\"],[\"X11\"],[\"Quark\"],[\"Equihash\"],[\"Scrypt\"],[\"Quark\"],[\"Quark\"],[\"Scrypt\"],[\"X11\"],[\"Scrypt\"],[\"XEVAN\"],[\"SHA-256D\"],[\"X11\"],[\"X11\"],[\"DPoS\"],[\"Scrypt\"],[\"X11\"],[\"Scrypt\"],[\"Scrypt\"],[\"SHA-256\"],[\"Scrypt\"],[\"X11\"],[\"Scrypt\"],[\"SHA-256\"],[\"X11\"],[\"Scrypt\"],[\"Scrypt\"],[\"X11\"],[\"Scrypt\"],[\"PoS\"],[\"X11\"],[\"SHA-256\"],[\"DPoS\"],[\"Scrypt\"],[\"Scrypt\"],[\"NeoScrypt\"],[\"X13\"],[\"DPoS\"],[\"DPoS\"],[\"SHA-256\"],[\"Leased POS\"],[\"PoS\"],[\"PoS\"],[\"SHA-256\"],[\"Scrypt\"],[\"Scrypt\"]],\"hovertemplate\":\"<b>%{hovertext}</b><br><br>Class=%{marker.color}<br>PC1=%{x}<br>PC2=%{y}<br>PC3=%{z}<br>Algorithm=%{customdata[0]}<extra></extra>\",\"hovertext\":[\"42 Coin\",\"404Coin\",\"EliteCoin\",\"Dash\",\"Bitshares\",\"BitcoinDark\",\"PayCoin\",\"KoboCoin\",\"Aurora Coin\",\"BlueCoin\",\"EnergyCoin\",\"BitBar\",\"CryptoBullion\",\"CasinoCoin\",\"Diamond\",\"Exclusive Coin\",\"FlutterCoin\",\"HoboNickels\",\"HyperStake\",\"IOCoin\",\"MaxCoin\",\"MintCoin\",\"MazaCoin\",\"Nautilus Coin\",\"NavCoin\",\"OpalCoin\",\"Orbitcoin\",\"PotCoin\",\"PhoenixCoin\",\"Reddcoin\",\"SuperCoin\",\"SyncCoin\",\"TeslaCoin\",\"TittieCoin\",\"TorCoin\",\"UnitaryStatus Dollar\",\"UltraCoin\",\"VeriCoin\",\"X11 Coin\",\"Crypti\",\"StealthCoin\",\"ZCC Coin\",\"BurstCoin\",\"StorjCoin\",\"Neutron\",\"FairCoin\",\"RubyCoin\",\"Kore\",\"Dnotes\",\"8BIT Coin\",\"Sativa Coin\",\"Ucoin\",\"Vtorrent\",\"IslaCoin\",\"Nexus\",\"Droidz\",\"Squall Coin\",\"Diggits\",\"Paycon\",\"Emercoin\",\"EverGreenCoin\",\"Decred\",\"EDRCoin\",\"Hitcoin\",\"DubaiCoin\",\"PWR Coin\",\"BillaryCoin\",\"GPU Coin\",\"EuropeCoin\",\"ZeitCoin\",\"SwingCoin\",\"SafeExchangeCoin\",\"Nebuchadnezzar\",\"Ratecoin\",\"Revenu\",\"Clockcoin\",\"VIP Tokens\",\"BitSend\",\"Let it Ride\",\"PutinCoin\",\"iBankCoin\",\"Frankywillcoin\",\"MudraCoin\",\"Lutetium Coin\",\"GoldBlocks\",\"CarterCoin\",\"BitTokens\",\"MustangCoin\",\"ZoneCoin\",\"RootCoin\",\"BitCurrency\",\"Swiscoin\",\"BuzzCoin\",\"Opair\",\"PesoBit\",\"Halloween Coin\",\"CoffeeCoin\",\"RoyalCoin\",\"GanjaCoin V2\",\"TeamUP\",\"LanaCoin\",\"ARK\",\"InsaneCoin\",\"EmberCoin\",\"XenixCoin\",\"FreeCoin\",\"PLNCoin\",\"AquariusCoin\",\"Creatio\",\"Eternity\",\"Eurocoin\",\"BitcoinFast\",\"Stakenet\",\"BitConnect Coin\",\"MoneyCoin\",\"Enigma\",\"Russiacoin\",\"PandaCoin\",\"GameUnits\",\"GAKHcoin\",\"Allsafe\",\"LiteCreed\",\"Klingon Empire Darsek\",\"Internet of People\",\"KushCoin\",\"Printerium\",\"Impeach\",\"Zilbercoin\",\"FirstCoin\",\"FindCoin\",\"OpenChat\",\"RenosCoin\",\"VirtacoinPlus\",\"TajCoin\",\"Impact\",\"Atmos\",\"HappyCoin\",\"MacronCoin\",\"Condensate\",\"Independent Money System\",\"ArgusCoin\",\"LomoCoin\",\"ProCurrency\",\"GoldReserve\",\"GrowthCoin\",\"Phreak\",\"Degas Coin\",\"HTML5 Coin\",\"Ultimate Secure Cash\",\"QTUM\",\"Espers\",\"Denarius\",\"Virta Unique Coin\",\"Bitcoin Planet\",\"BritCoin\",\"Linda\",\"DeepOnion\",\"Signatum\",\"Cream\",\"Monoeci\",\"Draftcoin\",\"Stakecoin\",\"CoinonatX\",\"Ethereum Dark\",\"Obsidian\",\"Cardano\",\"Regalcoin\",\"TrezarCoin\",\"TerraNovaCoin\",\"Rupee\",\"WomenCoin\",\"Theresa May Coin\",\"NamoCoin\",\"LUXCoin\",\"Xios\",\"Bitcloud 2.0\",\"KekCoin\",\"BlackholeCoin\",\"Infinity Economics\",\"Magnet\",\"Lamden Tau\",\"Electra\",\"Bitcoin Diamond\",\"Cash & Back Coin\",\"Bulwark\",\"Kalkulus\",\"GermanCoin\",\"LiteCoin Ultra\",\"PhantomX\",\"Digiwage\",\"Trollcoin\",\"Litecoin Plus\",\"Monkey Project\",\"TokenPay\",\"1717 Masonic Commemorative Token\",\"My Big Coin\",\"Unified Society USDEX\",\"Tokyo Coin\",\"Stipend\",\"Poa Network\",\"Pushi\",\"Ellerium\",\"Velox\",\"Ontology\",\"Bitspace\",\"Briacoin\",\"Ignition\",\"MedicCoin\",\"Bitcoin Green\",\"Deviant Coin\",\"Abjcoin\",\"Semux\",\"Carebit\",\"Zealium\",\"Proton\",\"iDealCash\",\"Bitcoin Incognito\",\"HollyWoodCoin\",\"Swisscoin\",\"Xt3ch\",\"TheVig\",\"EmaratCoin\",\"Dekado\",\"Lynx\",\"Poseidon Quark\",\"BitcoinWSpectrum\",\"Muse\",\"Trivechain\",\"Dystem\",\"Giant\",\"Peony Coin\",\"Absolute Coin\",\"Vitae\",\"TPCash\",\"ARENON\",\"EUNO\",\"MMOCoin\",\"Ketan\",\"XDNA\",\"PAXEX\",\"ThunderStake\",\"Kcash\",\"Bettex coin\",\"BitMoney\",\"Junson Ming Chan Coin\",\"HerbCoin\",\"PirateCash\",\"Oduwa\",\"Galilel\",\"Crypto Sports\",\"Credit\",\"Dash Platinum\",\"Nasdacoin\",\"Beetle Coin\",\"Titan Coin\",\"Award\",\"Insane Coin\",\"ALAX\",\"LiteDoge\",\"TruckCoin\",\"OrangeCoin\",\"BitstarCoin\",\"NeosCoin\",\"HyperCoin\",\"PinkCoin\",\"AudioCoin\",\"IncaKoin\",\"Piggy Coin\",\"Genstake\",\"XiaoMiCoin\",\"CapriCoin\",\" ClubCoin\",\"Radium\",\"Creditbit \",\"OKCash\",\"Lisk\",\"HiCoin\",\"WhiteCoin\",\"FriendshipCoin\",\"Triangles Coin\",\"EOS\",\"Oxycoin\",\"TigerCash\",\"Waves\",\"Particl\",\"Nxt\",\"ZEPHYR\",\"Gapcoin\",\"BitcoinPlus\"],\"legendgroup\":\"0\",\"marker\":{\"color\":[0,0,0,0,0,0,0,0,0,0,0,0,0,0,0,0,0,0,0,0,0,0,0,0,0,0,0,0,0,0,0,0,0,0,0,0,0,0,0,0,0,0,0,0,0,0,0,0,0,0,0,0,0,0,0,0,0,0,0,0,0,0,0,0,0,0,0,0,0,0,0,0,0,0,0,0,0,0,0,0,0,0,0,0,0,0,0,0,0,0,0,0,0,0,0,0,0,0,0,0,0,0,0,0,0,0,0,0,0,0,0,0,0,0,0,0,0,0,0,0,0,0,0,0,0,0,0,0,0,0,0,0,0,0,0,0,0,0,0,0,0,0,0,0,0,0,0,0,0,0,0,0,0,0,0,0,0,0,0,0,0,0,0,0,0,0,0,0,0,0,0,0,0,0,0,0,0,0,0,0,0,0,0,0,0,0,0,0,0,0,0,0,0,0,0,0,0,0,0,0,0,0,0,0,0,0,0,0,0,0,0,0,0,0,0,0,0,0,0,0,0,0,0,0,0,0,0,0,0,0,0,0,0,0,0,0,0,0,0,0,0,0,0,0,0,0,0,0,0,0,0,0,0,0,0,0,0,0,0,0,0,0,0,0,0,0,0,0,0,0,0,0,0,0,0,0,0,0,0,0,0,0,0,0,0,0,0,0,0],\"coloraxis\":\"coloraxis\",\"symbol\":\"circle\"},\"mode\":\"markers\",\"name\":\"0\",\"scene\":\"scene\",\"showlegend\":true,\"type\":\"scatter3d\",\"x\":[-0.3389321805430422,-0.322258346608471,2.3136680883144405,-0.389031058706932,-0.28645173233174165,-0.3063494710286392,-0.2630269031927742,-0.2380616595205335,-0.33859149472079014,-0.33116507667185213,-0.3374279230807685,-0.3389281122178488,-0.3389123823783075,0.673888406906181,-0.3654571703828335,-0.364910090974612,-0.3034968341681227,-0.33698934696864796,-0.3255210801258445,-0.3889256967780717,-0.4255560564414972,-0.035386740275369574,-0.26962477213164826,-0.2953604483490004,-0.27311402017317504,-0.2737365720256525,-0.33404638379534973,-0.3332294062959851,-0.3373326014754577,0.019406683510064394,-0.3454186469941133,-0.38929757257930103,-0.23798060726794132,-0.3037066529469993,-0.38920911850389156,-0.31414340080470465,-0.33760839792384356,-0.30383814012873045,-0.3891735952425547,-0.23844905430306715,-0.27351731467437546,-0.33002588976532343,0.05319228222060456,-0.3390537363639798,-0.3055605440612874,-0.36487843426277194,-0.29534076979374807,-0.2738119462655601,-0.2899896061066307,-0.3389142391985664,-0.2737641143751201,-0.345863646573645,-0.33864838436811756,-0.38927909130132343,-0.44750552544586786,-0.3897241360597913,-0.3556544459176292,-0.2937409760620003,-0.27328530792880046,-0.29889769254424525,-0.24050590877104625,-0.07591002486433951,-0.3063203689526277,-0.06644990375115478,-0.30638415025360194,-0.22601087434560066,-0.33852409723125343,-0.2936094041876591,-0.386445005008808,0.858880825505675,-0.30618397018333915,-0.05745373650119434,-0.3645931001789141,-0.3871205616473477,-0.30492599981410384,-0.3025915890562352,-0.3474359787110951,-0.3880129614341839,-0.3174005935861609,-0.31479868080175644,-0.33856220541160503,-0.3370000979770349,-0.22918212988706577,-0.33334468435864456,-0.38875248240807986,-0.3377657878727786,-0.3063650445403802,-0.38926826344686416,-0.33875157665352557,-0.33890846911936223,-0.2935999705857108,-0.256274315387358,0.0484189954459038,-0.3635493619176848,-0.3385224134558034,-0.3754162975128469,-0.36287778411729865,-0.23061440946508308,-0.4165485919932394,-0.36262541301242884,-0.26633636637518254,3.7048695667337657,-0.38886046068750596,0.8590299585484195,-0.38922314457755475,-0.3640134751656714,-0.33844975540687045,-0.33860415096633256,-0.3645931001789141,-0.3887975637774428,-0.3062276463397837,-0.33845051652983915,-0.3803518333911841,-0.33859801081591057,-0.33418081960282714,-0.3892521492680743,-0.33780775849714434,0.3484111232599328,-0.3387974640173489,-0.3388681175464094,-0.3432885386861013,-0.3357515366690107,-0.33509057422270866,-0.30634144524457185,-0.38916203163563534,-0.33864573179505764,-0.3387727461652254,-0.2952469815626074,-0.3264217193496632,-0.23038208170420305,-0.3196113475797538,-0.2949880619865582,-0.38842696591036896,-0.3958059033373961,-0.3871645968019451,-0.36283828279640545,-0.38832479488579913,-0.35723380884794903,-0.3842617499098069,-0.33871600470293645,-0.33871516109783156,-0.33182873683803826,0.2702667336226221,-0.38880380634785644,-0.27787080523673624,-0.3646273684327431,-0.33792588254078354,0.8948975757253338,-0.2617157516396111,-0.31617797342150067,0.6029231160742025,-0.3489728325255417,-0.3474737422961126,-0.4028315503993533,-0.2734489453333419,0.12649517945303798,-0.27351980644187823,-0.3233080458226945,-0.40233616318979387,-0.38907647740442364,-0.2953213932035895,-0.364493427400397,-0.3383508786802577,-0.33885103385265664,-0.3445635577063166,0.6807661420238225,-0.3890171941003189,-0.3290410941731847,-0.33880657288028543,-0.3137939741658845,0.4308455482215348,-0.30468645043219095,-0.33372595034096497,-0.38259278409759023,-0.3387568606529887,-0.38498781537624166,-0.3467195422612325,-0.33862721645355137,-0.08937474098983639,-0.3878086575829047,3.7097299335804608,0.21096222944998763,-0.270187967641097,-0.33608521427975946,-0.30547703539212084,-0.3431743572185736,0.07597018544168832,-0.33776466686685125,-0.3883905403736774,-0.3423381850853424,-0.3253202147087443,-0.3388731784335157,-0.34583555611130656,-0.31768270347073563,-0.27313041206603184,-0.29902466795438315,-0.3344149565861076,-0.22216978859046832,-0.37006024488286104,-0.3804572900846887,-0.3890936623078015,-0.3047663579704736,-0.29448043509514793,-0.3023204732865176,-0.34857139225203654,-0.33890055270154656,-0.33888224463618083,-0.28885707964043916,-0.33988860514024316,-0.36408754308953717,-0.3385984870408226,3.866414769617426,-0.3836551109462519,-0.3642763518535535,-0.3143564167668186,-0.28541626815725896,-0.27127585796468395,-0.2950153960629996,-0.14185967685199066,-0.295267511484888,-0.33172074193483614,-0.33807198585188963,-0.19658988442931138,2.198521066254166,-0.3388770941180055,-0.2618439977786249,1.011890585658892,-0.3569515582745155,-0.3432879470664115,-0.386673769348083,-0.17585734530967492,-0.356981214852444,-0.3420064197668904,-0.33176879520328245,-0.34541257797234115,-0.3885665965359858,-0.29251050117212163,-0.36337506677106984,-0.35554948113758095,-0.3452736764127025,-0.1982238417956273,-0.36248103919740604,-0.26150036854206254,0.5494513524080864,-0.13567295209428012,-0.38596779009088955,-0.2791152555320452,-0.3386025039764994,-0.3864243173954543,-0.3434050225163181,0.5687464068218896,-0.34588990682925447,-0.3380848548939162,-0.29921693595816545,-0.2863934267125692,-0.3861282250495454,-0.38879404860574973,3.72198062562985,0.09672489714267346,-0.38633248924378466,-0.33746947844472375,-0.3382955903637183,-0.26305951207922107,-0.3388144543716792,-0.38041515871156445,-0.25242220225451095,-0.08588662634087862,-0.3761589100179418,-0.33809231130249384,-0.3311510854014235,-0.385359971788929,-0.336529986004095,-0.36486893185833935,-0.38739514328636143,-0.30486334385978625,3.705261754469652,-0.10239902143199857,-0.33372259125659187,-0.3336717795720004,-0.27391926338339573,3.7151344188623803,3.7163792328281122,-0.24394141106565628,-0.4638947469653379,-0.36480476504840237,-0.42860126025810236,2.4664993672606625,-0.33697533850528494,-0.29566439350154083],\"y\":[0.9188791103025317,0.9188189214605778,1.5366943706639553,1.1006253536971902,1.3576480732960754,0.769166813494528,0.7438437279201762,1.7888086533057854,0.9188737482317267,0.9190246851123164,0.9189073038456916,0.9188788363025192,0.9188787808387691,0.253170585801113,0.7829631885904259,1.8829384187889877,0.40504121709171076,0.9188314566645648,1.0756893872410211,1.1006273284409178,2.0035444589185687,0.8984265911326577,0.7681757432630528,0.8935427043378134,1.7082990363528712,1.7082873681879158,0.4119023640935035,0.918691759311631,0.9188404355414023,0.9255952689277506,1.075316457513985,1.1006357701831886,0.26264826874863484,1.6430246600303102,1.1006304231336688,0.9182228177176215,0.9188338653125454,0.32150154943334386,1.1006342414470693,0.26270954487717596,1.7082914776141942,0.9183454764267752,0.40412128586493845,1.876886441953501,0.7691493741874447,0.7829771039921799,0.89355440822145,1.708277548769351,0.8933044223578595,0.9188794465972265,1.7082798463772921,1.075294105921317,0.9188704181783331,1.1006361172687111,2.433702974150268,1.674700624849534,0.898113598165757,0.8935143363344905,1.7082607980021227,0.7686213307405763,1.7889896146475168,0.7894946842191584,0.7691673589395731,1.0880868718981584,0.769174219958415,1.3791556025604756,0.918857335310186,0.8934319977011774,1.1004202200803443,0.8458319547713284,0.7691573053129298,0.2659813751298591,1.8829303487848434,1.1006240314747822,0.7690528729933945,0.7688848639024134,1.376816744716426,1.1005624698588001,1.7184597320241906,0.917930312197272,0.9188549864289524,0.9188452663614588,1.6828406036984784,1.0750824856678627,1.1006109592311728,0.9188379210334706,0.7691672221681848,1.1006342185299283,0.9188677835392296,0.9188795547428145,0.8935870351138622,0.30619889017126023,1.6895394561466472,1.8829120807940802,0.91888679038294,1.0998451005805423,1.8829484869339372,1.6829521197165882,1.7818552729030406,1.8827703707959704,1.692392955463394,2.169990665059664,1.100622946647992,1.72892274508579,1.1006344663628862,1.8829201955982569,0.9188611525974179,0.9188558349047462,1.8829303487848434,1.1006031086958377,0.7691704979109315,0.9188650194337782,0.6697804921511784,0.9188657578245949,0.9185123364447066,1.10063311942984,0.9187993041668367,0.8828412684657495,0.9188725279752585,0.9188779881226007,1.5994063492003225,0.485255877440724,0.9186008316212818,0.7691676644774883,1.1006317582199805,0.9188704678941274,0.9188667329144562,0.8935176352524276,0.2811239820346584,1.6829480500731953,0.9185406707638609,0.8935369010695878,1.1005820322236557,1.6233251807206137,1.1005986865513038,1.882899984840727,1.1005839471619268,1.8828020673958814,1.1003798747477913,0.9188683016423022,0.9188631418019856,0.9183116866035688,0.7013057392431371,1.1006170028920355,0.8924807189192263,1.8829227009140985,0.9188244120644536,1.7472379253252126,0.7437368881873274,1.7184360597253263,1.6721533634845325,1.3768439850560155,1.3767950201370682,1.7645639817651058,1.7082717422289633,0.8925743791980113,1.7082781916003922,1.7280949904132232,1.7645732665494247,1.1006332543428412,0.8935425775178714,1.8829030736336314,0.9188562019549017,0.9188776888706254,1.3590173054176171,1.6422215417960226,1.1006221107549263,0.41171859279047757,0.9188704423891704,0.8215430114683975,0.915792656362786,0.7691433389529313,1.3762960831757445,1.669257105702171,0.9188676845039813,1.6246369110171575,1.6432585882812771,0.9188744660422298,0.7408021180544421,1.1005627962200595,2.1698190504306627,1.36632876557212,1.7082067602575517,0.9187853519639138,1.3515050797058696,1.599404986444707,0.8916274155642214,0.9187959084515754,1.1006177429221127,1.5993506023960558,0.9185037284294056,0.9188774139382608,1.0752939318463426,1.7184603993445466,0.0627700235374883,0.27914069445341033,0.9188012444162955,1.682551696433961,0.8637680031633035,5.0402736206674374,1.100622078670906,1.539931264924351,0.8934836636022395,1.7454053559874603,1.3768234866469844,0.9188776014364916,0.9188765434552764,0.8933256487112471,1.6523816579159725,1.8828921861066181,0.9188643477792157,2.311616947905549,1.6246618892018065,1.88289425184132,0.8208494868998004,0.9162938976987073,1.3374335534394952,0.8935422919750562,0.9154270268773029,0.8935249566293855,1.69635583659729,0.9188363854835434,1.763626369535443,0.3473670551104741,1.5990441750882467,0.7438044158208231,1.9400610531468498,0.8461665579494652,1.5994021569295098,1.6247418154509439,0.8839683731419206,0.846855322771419,1.599370831697976,0.918312810058393,1.0752780404695328,1.1006144431932072,0.8934253089046067,1.8828200713745826,0.908670012344039,1.0752491186348383,0.9089062557032557,0.8206935910926815,1.5146074692103275,1.6296158392828934,1.0792476117733891,1.6247208256030785,-0.011044166527436798,0.918870577530732,1.6247367635257774,1.5994053079171853,0.8834893786641914,1.0752938239069927,0.9188361442857943,1.5397270285055604,1.69377263947284,1.100400937166649,1.100624191375032,2.169698378831768,0.9025248083915589,1.1006913438955783,0.9187664130207418,0.9188530319501687,0.7438371619898971,0.9188813168122385,1.1004519694021313,0.9131446431170434,0.7731811396491058,1.1001814621173864,0.9188843431653883,0.9187447233945706,1.1005638548300536,0.9188120438328634,1.882932885174007,0.5372485269860993,0.7691365207322376,2.1699735532001876,0.8901588262553207,0.9187665829875681,0.41186987482800497,1.7082838600318155,2.1702706238180296,2.1702939547175064,0.7435096344798273,4.198618737168939,1.8829343441259225,2.3938908819480744,0.9731408664832706,0.9187406464345218,0.8935476421510656],\"z\":[-0.42787304125525033,-0.42814239524742237,-0.4608555406588366,-0.3504685139790202,-0.1568198004863627,-0.31290616640475855,-0.1289224713172554,-0.47711646390162993,-0.4278776265562159,-0.42803709195755,-0.4279048130119005,-0.4278730493535889,-0.42787330375077876,-0.011272169599147272,-0.3971362488374145,-0.15246946972491368,-0.04550368224918446,-0.42789539558959755,-0.16691314750365102,-0.3504707393513102,-0.3951077588710602,-0.24938409135994893,-0.3133086589852507,-0.24389061116267435,-0.4551254678052898,-0.4551123187517634,-0.2682382293696545,-0.4279281084068427,-0.42789157042833575,-0.435441594604351,-0.16649288665187956,-0.3504663095177708,-0.03820609906003459,-0.27296269003433077,-0.3504666212075992,-0.4281475347003118,-0.42788543392663175,-0.07362850856342144,-0.3504680720278064,-0.038211772124709394,-0.4551169497341253,-0.4279054806055328,0.4502785725231943,-0.053974623239692224,-0.3129156685744981,-0.39714915429426373,-0.24389354557663606,-0.4551088586875876,-0.24392873248894664,-0.42787342020484015,-0.4551101803001177,-0.16648037427130966,-0.42787592193538226,-0.3504667000205482,-0.13672752951085926,-0.6579875189602742,-0.07987110805401397,-0.2439117679324173,-0.45511406638086266,-0.3129113094690393,-0.47711522983646415,-0.43808599061424236,-0.312906781076057,-0.35315214438626064,-0.3129072241695044,-0.4476251016881155,-0.4278751222390418,-0.24389570234090005,-0.35046678118654545,-0.2528605474008586,-0.3129068598816167,-0.0017179234257804446,-0.15247305150933602,-0.350500615368849,-0.31290498451498605,-0.3129072342491935,-0.4450464450489858,-0.3504718037667116,-0.2673836646992987,-0.4280714254415991,-0.42787395411237694,-0.4278982819625485,-0.27112202898928095,-0.1666456267061344,-0.35047003902353346,-0.42788366638284814,-0.31290599314558637,-0.35046646170092327,-0.42787358671623676,-0.4278735420759421,-0.24393031337657742,-0.16034761621867885,-0.6369505076318853,-0.1524866902250791,-0.4278816960418551,-0.350525990562337,-0.15250616764271502,-0.2711225227729988,-0.6958415242292444,-0.15247086752415903,-0.6322474615070535,-0.6067633643890028,-0.3504708718380764,-0.47890540631844064,-0.3504672818270081,-0.15248062372470605,-0.42787723105532777,-0.42787343140663414,-0.15247305150933602,-0.3504675301264212,-0.3129090508353306,-0.4278780774043979,0.11262885730463004,-0.42787574050723276,-0.42787210603654197,-0.3504664907072752,-0.4278743736043005,-0.25242869570141313,-0.42787386289815027,-0.4278738781735968,-0.31731251111362047,-0.33499567592693846,-0.42787634448354706,-0.31290649159146283,-0.3504677163039681,-0.4278759779609567,-0.4278729942962032,-0.24388696451813274,-0.19904016776658473,-0.2711255579005407,-0.42812544842364275,-0.24389563595243322,-0.35046913071015134,-0.7526286115975165,-0.35049423675988556,-0.1524960597274892,-0.3504712886866564,-0.15256933320788685,-0.3504948361993087,-0.4278743050177893,-0.4278731727471439,-0.42786740227910164,-0.1285128009533475,-0.35047051172307425,-0.24395118777573693,-0.15247077099839643,-0.4278779499029213,-0.4870899154132555,-0.12892096275884835,-0.2673991357141677,-0.6128784411554828,-0.445026438613587,-0.4450409772650482,-0.5894710471735778,-0.45511372360687824,-0.4299198157325929,-0.4551139551793558,-0.10067997215507825,-0.589481510354932,-0.35046949945349526,-0.24389124521753797,-0.15246868075481182,-0.427877807562216,-0.4278741013548009,-0.15613869054171614,-0.33710832194987367,-0.35046802845456454,-0.26828226512191483,-0.42787324500345003,-0.13197783028897173,-0.4402398754665928,-0.31292914898102636,-0.44516322122226865,-0.4565454243307086,-0.42787347511173124,-0.5013031715871855,-0.19426905235636746,-0.42787718034893907,-0.13119111112791346,-0.3504753405511004,-0.606807644120055,-0.45218433494971766,-0.4551545784022039,-0.42790048146036175,-0.26104216554189447,-0.31731414440347566,-0.4288526663087702,-0.4278743497178234,-0.3504776836802232,-0.3173162381408414,-0.42802043743197715,-0.4278736647687497,-0.16648081190372724,-0.26737902940998776,0.08311036108813308,-0.3276553930084896,-0.42793233454550456,-0.27117673475964943,-0.207332396424275,-1.414040390505617,-0.35046672469760237,-0.3052503076883525,-0.24389241352000302,-0.15092090187533014,-0.4450286906265139,-0.4278732422632283,-0.42787331760713776,-0.2439526528275733,-0.34946308194715286,-0.15247314376996748,-0.4278754191040478,-0.4422304750888938,-0.5013313199282672,-0.15247040127779984,-0.15253259284361517,-0.4282060162538651,-0.034657953630342464,-0.24389637038465597,-0.4304475944703857,-0.24388824329720424,-0.6320193733949198,-0.4278781331427178,-0.29313267374469415,-0.31207311750841993,-0.31730683424377765,-0.12893379357042706,-0.41182219699678957,-0.33652728598631976,-0.3173115895751453,-0.5012978947905334,-0.24378943149892504,-0.31596142587574805,-0.3173263588758734,-0.4278686683194495,-0.16648445285681363,-0.3504739651596011,-0.24391284948231337,-0.15246920010895718,-0.3490008550053323,-0.16648038137043886,-0.42804287017849835,-0.06150969584056217,-0.12126549543214242,0.12870766925972804,-0.1709229712435054,-0.5013052014930115,0.1258005989593616,-0.42787673531277826,-0.5013010020089956,-0.3173103045791824,-0.4354000257036906,-0.16647986632443076,-0.42787786133287303,-0.30529902240004814,-0.632213946911265,-0.35046786775996996,-0.3504722745421472,-0.6069885574764853,-0.43162611661245925,-0.35052893584559813,-0.4278728008385388,-0.42787804064339635,-0.1289204593627274,-0.42787552778194315,-0.3505760808913903,-0.4280656775347859,-0.3175364572979983,-0.3505881418651966,-0.4278884452377812,-0.4279751185233227,-0.3505170967465904,-0.42789887095807894,-0.15246893800428427,0.17141364528685224,-0.31292463441450513,-0.6067662120417646,-0.24641061120976546,-0.42793637242374033,-0.26823736183445906,-0.4551084414070465,-0.6069996296166624,-0.6070259216040701,-0.1291718536985451,2.322831227567785,-0.15247035023977143,0.09716043150606331,-0.3243428073620368,-0.4278754540576655,-0.2438865545773168]},{\"customdata\":[[\"SHA-256\"],[\"Ethash\"],[\"Scrypt\"],[\"CryptoNight-V7\"],[\"Ethash\"],[\"Equihash\"],[\"Multiple\"],[\"Scrypt\"],[\"X11\"],[\"Scrypt\"],[\"Multiple\"],[\"Scrypt\"],[\"SHA-256\"],[\"Scrypt\"],[\"Scrypt\"],[\"Quark\"],[\"Groestl\"],[\"Scrypt\"],[\"Scrypt\"],[\"Scrypt\"],[\"X11\"],[\"Multiple\"],[\"SHA-256\"],[\"Scrypt\"],[\"Scrypt\"],[\"Scrypt\"],[\"Scrypt\"],[\"Scrypt\"],[\"NeoScrypt\"],[\"Scrypt\"],[\"Scrypt\"],[\"Scrypt\"],[\"Scrypt\"],[\"SHA-256\"],[\"Scrypt\"],[\"Scrypt\"],[\"Scrypt\"],[\"Scrypt\"],[\"HybridScryptHash256\"],[\"Scrypt\"],[\"Scrypt\"],[\"SHA-256\"],[\"Scrypt\"],[\"Scrypt\"],[\"Scrypt\"],[\"Scrypt\"],[\"SHA-256\"],[\"SHA-256\"],[\"SHA-256\"],[\"SHA-256\"],[\"SHA-256\"],[\"X11\"],[\"Scrypt\"],[\"Lyra2REv2\"],[\"Scrypt\"],[\"SHA-256\"],[\"CryptoNight\"],[\"CryptoNight\"],[\"Scrypt\"],[\"Scrypt\"],[\"Scrypt\"],[\"Scrypt\"],[\"Scrypt\"],[\"Scrypt\"],[\"Stanford Folding\"],[\"Multiple\"],[\"QuBit\"],[\"Scrypt\"],[\"Scrypt\"],[\"M7 POW\"],[\"Scrypt\"],[\"SHA-256\"],[\"Scrypt\"],[\"X11\"],[\"Lyra2RE\"],[\"SHA-256\"],[\"X11\"],[\"Scrypt\"],[\"Scrypt\"],[\"Ethash\"],[\"Blake2b\"],[\"X11\"],[\"SHA-256\"],[\"Scrypt\"],[\"1GB AES Pattern Search\"],[\"Scrypt\"],[\"SHA-256\"],[\"X11\"],[\"Dagger\"],[\"Scrypt\"],[\"X11GOST\"],[\"Scrypt\"],[\"X11\"],[\"Scrypt\"],[\"X11\"],[\"Equihash\"],[\"CryptoNight\"],[\"SHA-256\"],[\"Multiple\"],[\"Scrypt\"],[\"SHA-256\"],[\"Scrypt\"],[\"Lyra2Z\"],[\"Ethash\"],[\"Equihash\"],[\"Scrypt\"],[\"X11\"],[\"X11\"],[\"CryptoNight\"],[\"Scrypt\"],[\"CryptoNight\"],[\"Lyra2RE\"],[\"X11\"],[\"CryptoNight-V7\"],[\"Scrypt\"],[\"X11\"],[\"Equihash\"],[\"Scrypt\"],[\"Lyra2RE\"],[\"Dagger-Hashimoto\"],[\"Scrypt\"],[\"NIST5\"],[\"Scrypt\"],[\"SHA-256\"],[\"Scrypt\"],[\"CryptoNight-V7\"],[\"Argon2d\"],[\"Blake2b\"],[\"Cloverhash\"],[\"CryptoNight\"],[\"X11\"],[\"Scrypt\"],[\"Scrypt\"],[\"X11\"],[\"X11\"],[\"CryptoNight\"],[\"Time Travel\"],[\"Scrypt\"],[\"Keccak\"],[\"X11\"],[\"SHA-256\"],[\"Scrypt\"],[\"Scrypt\"],[\"Scrypt\"],[\"Scrypt\"],[\"Scrypt\"],[\"Scrypt\"],[\"CryptoNight\"],[\"Equihash\"],[\"X11\"],[\"NeoScrypt\"],[\"Equihash\"],[\"Dagger\"],[\"Scrypt\"],[\"X11\"],[\"NeoScrypt\"],[\"Ethash\"],[\"NeoScrypt\"],[\"Multiple\"],[\"CryptoNight\"],[\"CryptoNight\"],[\"Ethash\"],[\"X11\"],[\"CryptoNight-V7\"],[\"Scrypt\"],[\"BLAKE256\"],[\"X11\"],[\"NeoScrypt\"],[\"NeoScrypt\"],[\"Scrypt\"],[\"X11\"],[\"SHA-256\"],[\"C11\"],[\"CryptoNight\"],[\"SkunkHash\"],[\"CryptoNight\"],[\"Scrypt\"],[\"Dagger\"],[\"Lyra2REv2\"],[\"Scrypt\"],[\"Scrypt\"],[\"X11\"],[\"Ethash\"],[\"CryptoNight\"],[\"Scrypt\"],[\"IMesh\"],[\"Equihash\"],[\"Lyra2Z\"],[\"X11\"],[\"CryptoNight\"],[\"NIST5\"],[\"Lyra2RE\"],[\"Tribus\"],[\"Lyra2Z\"],[\"CryptoNight\"],[\"CryptoNight Heavy\"],[\"CryptoNight\"],[\"Jump Consistent Hash\"],[\"CryptoNight\"],[\"X16R\"],[\"HMQ1725\"],[\"X11\"],[\"Scrypt\"],[\"CryptoNight-V7\"],[\"Cryptonight-GPU\"],[\"XEVAN\"],[\"CryptoNight Heavy\"],[\"SHA-256\"],[\"X11\"],[\"X16R\"],[\"Equihash\"],[\"Lyra2Z\"],[\"SHA-256\"],[\"CryptoNight\"],[\"Blake\"],[\"Blake\"],[\"Exosis\"],[\"Scrypt\"],[\"Equihash\"],[\"Equihash\"],[\"QuBit\"],[\"SHA-256\"],[\"X13\"],[\"SHA-256\"],[\"Scrypt\"],[\"NeoScrypt\"],[\"Blake\"],[\"Scrypt\"],[\"SHA-256\"],[\"Scrypt\"],[\"Groestl\"],[\"Scrypt\"],[\"Scrypt\"],[\"Multiple\"],[\"Equihash+Scrypt\"],[\"Ethash\"],[\"CryptoNight\"],[\"Equihash\"]],\"hovertemplate\":\"<b>%{hovertext}</b><br><br>Class=%{marker.color}<br>PC1=%{x}<br>PC2=%{y}<br>PC3=%{z}<br>Algorithm=%{customdata[0]}<extra></extra>\",\"hovertext\":[\"Bitcoin\",\"Ethereum\",\"Litecoin\",\"Monero\",\"Ethereum Classic\",\"ZCash\",\"DigiByte\",\"ProsperCoin\",\"Spreadcoin\",\"Argentum\",\"MyriadCoin\",\"MoonCoin\",\"ZetaCoin\",\"SexCoin\",\"Quatloo\",\"QuarkCoin\",\"Riecoin\",\"Digitalcoin \",\"Catcoin\",\"CannaCoin\",\"CryptCoin\",\"Verge\",\"DevCoin\",\"EarthCoin\",\"E-Gulden\",\"Einsteinium\",\"Emerald\",\"Franko\",\"FeatherCoin\",\"GrandCoin\",\"GlobalCoin\",\"GoldCoin\",\"Infinite Coin\",\"IXcoin\",\"KrugerCoin\",\"LuckyCoin\",\"Litebar \",\"MegaCoin\",\"MediterraneanCoin\",\"MinCoin\",\"NobleCoin\",\"Namecoin\",\"NyanCoin\",\"RonPaulCoin\",\"StableCoin\",\"SmartCoin\",\"SysCoin\",\"TigerCoin\",\"TerraCoin\",\"UnbreakableCoin\",\"Unobtanium\",\"UroCoin\",\"ViaCoin\",\"Vertcoin\",\"WorldCoin\",\"JouleCoin\",\"ByteCoin\",\"DigitalNote \",\"MonaCoin\",\"Gulden\",\"PesetaCoin\",\"Wild Beast Coin\",\"Flo\",\"ArtByte\",\"Folding Coin\",\"Unitus\",\"CypherPunkCoin\",\"OmniCron\",\"GreenCoin\",\"Cryptonite\",\"MasterCoin\",\"SoonCoin\",\"1Credit\",\"MarsCoin \",\"Crypto\",\"Anarchists Prime\",\"BowsCoin\",\"Song Coin\",\"BitZeny\",\"Expanse\",\"Siacoin\",\"MindCoin\",\"I0coin\",\"Revolution VR\",\"HOdlcoin\",\"Gamecredits\",\"CarpeDiemCoin\",\"Adzcoin\",\"SoilCoin\",\"YoCoin\",\"SibCoin\",\"Francs\",\"BolivarCoin\",\"Omni\",\"PizzaCoin\",\"Komodo\",\"Karbo\",\"ZayedCoin\",\"Circuits of Value\",\"DopeCoin\",\"DollarCoin\",\"Shilling\",\"ZCoin\",\"Elementrem\",\"ZClassic\",\"KiloCoin\",\"ArtexCoin\",\"Kurrent\",\"Cannabis Industry Coin\",\"OsmiumCoin\",\"Bikercoins\",\"HexxCoin\",\"PacCoin\",\"Citadel\",\"BeaverCoin\",\"VaultCoin\",\"Zero\",\"Canada eCoin\",\"Zoin\",\"DubaiCoin\",\"EB3coin\",\"Coinonat\",\"BenjiRolls\",\"ILCoin\",\"EquiTrader\",\"Quantum Resistant Ledger\",\"Dynamic\",\"Nano\",\"ChanCoin\",\"Dinastycoin\",\"DigitalPrice\",\"Unify\",\"SocialCoin\",\"ArcticCoin\",\"DAS\",\"LeviarCoin\",\"Bitcore\",\"gCn Coin\",\"SmartCash\",\"Onix\",\"Bitcoin Cash\",\"Sojourn Coin\",\"NewYorkCoin\",\"FrazCoin\",\"Kronecoin\",\"AdCoin\",\"Linx\",\"Sumokoin\",\"BitcoinZ\",\"Elements\",\"VIVO Coin\",\"Bitcoin Gold\",\"Pirl\",\"eBoost\",\"Pura\",\"Innova\",\"Ellaism\",\"GoByte\",\"SHIELD\",\"UltraNote\",\"BitCoal\",\"DaxxCoin\",\"AC3\",\"Lethean\",\"PopularCoin\",\"Photon\",\"Sucre\",\"SparksPay\",\"GunCoin\",\"IrishCoin\",\"Pioneer Coin\",\"UnitedBitcoin\",\"Interzone\",\"TurtleCoin\",\"MUNcoin\",\"Niobio Cash\",\"ShareChain\",\"Travelflex\",\"KREDS\",\"BitFlip\",\"LottoCoin\",\"Crypto Improvement Fund\",\"Callisto Network\",\"BitTube\",\"Poseidon\",\"Aidos Kuneen\",\"Bitrolium\",\"Alpenschillling\",\"FuturoCoin\",\"Monero Classic\",\"Jumpcoin\",\"Infinex\",\"KEYCO\",\"GINcoin\",\"PlatinCoin\",\"Loki\",\"Newton Coin\",\"MassGrid\",\"PluraCoin\",\"Motion\",\"PlusOneCoin\",\"Axe\",\"HexCoin\",\"Webchain\",\"Ryo\",\"Urals Coin\",\"Qwertycoin\",\"Project Pai\",\"Azart\",\"Xchange\",\"CrypticCoin\",\"Actinium\",\"Bitcoin SV\",\"FREDEnergy\",\"Universal Molecule\",\"Lithium\",\"Exosis\",\"Block-Logic\",\"Beam\",\"Bithereum\",\"SLICE\",\"BLAST\",\"Bitcoin Rhodium\",\"GlobalToken\",\"SolarCoin\",\"UFO Coin\",\"BlakeCoin\",\"Crypto Escudo\",\"Crown Coin\",\"SmileyCoin\",\"Groestlcoin\",\"Bata\",\"Pakcoin\",\"JoinCoin\",\"Vollar\",\"Reality Clash\",\"Beldex\",\"Horizen\"],\"legendgroup\":\"3\",\"marker\":{\"color\":[3,3,3,3,3,3,3,3,3,3,3,3,3,3,3,3,3,3,3,3,3,3,3,3,3,3,3,3,3,3,3,3,3,3,3,3,3,3,3,3,3,3,3,3,3,3,3,3,3,3,3,3,3,3,3,3,3,3,3,3,3,3,3,3,3,3,3,3,3,3,3,3,3,3,3,3,3,3,3,3,3,3,3,3,3,3,3,3,3,3,3,3,3,3,3,3,3,3,3,3,3,3,3,3,3,3,3,3,3,3,3,3,3,3,3,3,3,3,3,3,3,3,3,3,3,3,3,3,3,3,3,3,3,3,3,3,3,3,3,3,3,3,3,3,3,3,3,3,3,3,3,3,3,3,3,3,3,3,3,3,3,3,3,3,3,3,3,3,3,3,3,3,3,3,3,3,3,3,3,3,3,3,3,3,3,3,3,3,3,3,3,3,3,3,3,3,3,3,3,3,3,3,3,3,3,3,3,3,3,3,3,3,3,3,3,3,3,3,3,3,3,3,3,3,3,3,3,3,3,3,3,3,3,3,3,3,3,3],\"coloraxis\":\"coloraxis\",\"symbol\":\"diamond\"},\"mode\":\"markers\",\"name\":\"3\",\"scene\":\"scene\",\"showlegend\":true,\"type\":\"scatter3d\",\"x\":[-0.1411571733887297,-0.15010850098612694,-0.17256942861116265,-0.1616229253085731,-0.14854868686593622,-0.15804901298868018,0.17053340947976273,-0.1737166118863857,-0.224023342086672,-0.17333273796761867,-0.08310346672214217,2.5514396183897943,-0.1382397608984143,-0.17058572177922288,-0.17313649352890972,-0.21686092960100922,-0.19933079943992624,-0.1731855242858093,-0.1736988676821408,-0.1737854079889938,-0.2241127448710447,0.19427646836208362,0.23700090395692383,0.07514849230833022,-0.17353152157070734,-0.1691330571347584,-0.17347073118193257,-0.17384245232624032,-0.16418112073103183,-0.1530465130238405,-0.17263660095903163,-0.17291419851791234,1.5764794621943528,-0.1411185205516629,-0.17020116457685658,-0.17355798288070598,-0.1739130844655391,-0.17317172583100146,-0.13757918940751093,-0.17379424378561228,-0.038554559452677835,-0.141196175830161,-0.16745304514454684,-0.1737736241601317,-0.17186583732783953,-0.17325993630826306,-0.12833697394146495,-0.14065951851891373,-0.14094691140619856,-0.14092971662841164,-0.14152112003983447,-0.22428681997175606,-0.1734899412101883,-0.19129908153754058,-0.17059036951299406,-0.14072686108441093,3.868910208740256,0.46513833794747234,-0.17235651552013476,-0.15693949656619888,-0.17107432082052135,-0.1739152893370086,-0.1709393109494871,-0.1571512521767295,-0.14316696289055614,-0.11713859726936257,-0.17160672264514654,-0.1737882904735413,-0.04660833368311608,-0.10658355389646958,-0.17392419598611003,-0.14122396938228474,0.4790195279231734,-0.22367350509315284,-0.1508314698285497,-0.14096353519493454,-0.2239586219049892,-0.17204595959945646,-0.17123755770905397,-0.15117649982416295,0.3685666102400437,-0.22399406141666384,-0.14111964355078527,-0.16987878972487616,-0.14994758782902448,-0.17248634722643394,0.27770212423665896,-0.2231539954834969,-0.14778648822889925,-0.17273353981914963,-0.14779574328894104,-0.17371389988823455,-0.22395724351641164,-0.1739242545282363,-0.22410730123777026,-0.2933231327370704,0.30990892050694585,-0.14137992900216403,-0.09719420945409472,-0.17108844050205138,-0.14133853074977692,-0.17358732928217918,-0.15227337303802965,-0.15091846632776904,-0.15807064255011213,-0.10056338871135366,-0.21068074631253306,-0.22193329280250867,0.3099033300094679,-0.17390597249889822,0.3100341393587449,-0.1513724749369216,0.49199549999327963,-0.16038609346142207,-0.17387423842017585,-0.21683282708194845,-0.1580830422718371,-0.17200599553870863,-0.1510906432618345,-0.15459929577882278,-0.1447633555974219,-0.1836325767623153,-0.17343621980042292,-0.10767453040801339,-0.1732580199611038,-0.16024410173731723,-0.14129035805218776,-0.031966592897815414,-0.13858854421250713,0.3460550186447551,-0.22316232295380195,-0.17357769982593702,-0.1733406965572018,-0.22355740869360952,-0.22413537708781522,0.3102986924476074,-0.17368811444227109,3.2386345371554386,-0.13032856144461247,-0.2149974303947852,-0.1411563371222242,-0.0994082397610929,1.5741060070334743,-0.17367560079507938,-0.17312664294178368,-0.17282737419089564,-0.17281429755140443,0.31048256310429195,0.05445911081974691,-0.17848801955318283,-0.16887394071574333,-0.15792898670607525,-0.14654430642143867,-0.17200420365685407,-0.21967575982942783,-0.16871918344950484,-0.14928159855140194,-0.16881950501835224,-0.10736183609012023,1.1487069782713781,0.30988605207910247,-0.07408433033278655,-0.21941629926819003,-0.149345907913859,-0.0899930830302128,1.0953713297675174,-0.22410935665712683,-0.1688715245075016,-0.1619032444453677,-0.17292597342106503,-0.22403470675619272,-0.14113572628461046,-0.20503012468980486,8.056629924975358,-0.14001538186001455,0.3137641571292999,0.019272172929993402,-0.1460474834272025,-0.17684427353784862,-0.1735001365909969,0.13383522571683654,-0.21817011424640972,-0.10226542514294006,0.31781814247660706,-0.1737373685871768,-0.17928101701647084,-0.15691927673357547,-0.15005437037340222,-0.2232031190572646,0.31006870274114373,-0.18369219304509654,-0.15121755181501806,-0.13779207761176537,-0.15235784659483417,0.3140017634421225,0.5825869911449956,2.120415165688349,-0.15536147804257808,0.3236858736351829,-0.19273672686490603,-0.15920930832428878,-0.22409150122290752,-0.17376195982776851,-0.14922240657674551,-0.16304656574976373,-0.13853061691442503,3.107420789105022,-0.10095159929152293,-0.22406283257658505,-0.1921637736793778,-0.05258068500945165,-0.15175492529763918,-0.14115637470948955,0.38991072554106054,-0.14150290595489098,-0.14189551010664603,-0.14077620461150514,-0.17265318210968833,-0.1559868982846679,-0.15776166487609763,-0.17081679702389735,-0.140431907156717,-0.10889660985303955,-0.13929873000062287,0.5229913792911457,-0.09397611924292655,-0.09230143859896722,-0.15730192577308919,-0.1409462814914769,0.5425503968135519,-0.19889145196313993,-0.17383891823136238,-0.17179266224281706,-0.11787389726875945,-0.13712518991881248,-0.15095165169408517,0.33166192735341066,-0.15805007055070808],\"y\":[-1.2762232203102635,-1.9572682416718044,-1.126548533847103,-2.1359106961065417,-1.9573861244617217,-2.0310613723127315,-1.766682001551967,-1.1265258996334826,-0.9447674390535957,-1.126548828959163,-1.7581251477807507,-1.3444499956350724,-1.2762727809863428,-1.1266276472024437,-1.1265703710073074,-0.42073174820531256,-1.26246581750209,-1.126534977144824,-1.126525567063109,-1.126521682642389,-0.9447677135636504,-1.763123009140582,-1.2838326460842733,-1.1313043971870071,-1.126522430582148,-1.1266353032640153,-1.1265289973781618,-1.1265214177976748,-1.6336335343216353,-1.1271190010740118,-1.1265399849852054,-1.1265467610988984,-1.157178899311836,-1.2762224958602824,-1.126631242840871,-1.12652222597282,-1.1265158160151636,-1.1265303988754052,-2.157291682386458,-1.126519648489122,-1.1344863140427612,-1.2762239513127003,-1.126629881785614,-1.1265269681848196,-1.1266516397410933,-1.126538497309236,-1.2765903234018328,-1.2762321159653467,-1.2762339912368097,-1.2762602902391895,-1.2762155049553454,-0.9447583660848533,-1.1265230523828629,-1.1985482984944176,-1.1266385375061716,-1.2762319686279142,-2.3233508231629183,-2.26492105763997,-1.1265593391524868,-1.1273736837315198,-1.126578228146517,-1.1265167526554374,-1.1265712239515158,-1.126901271843559,-2.0947542715067256,-1.757361930752446,-1.5600992605858763,-1.1265148931339932,-1.1311344623758224,-2.208147709105014,-1.1265155124982047,-1.2762244722327643,-1.1787288027859502,-0.944769989519466,-2.163865189160251,-1.2762425413919152,-0.9447669265968288,-1.1266271614184533,-1.1266398642235997,-1.9573001025608046,-2.1777496293511596,-0.9447640880217677,-1.2762225169080699,-1.1265863751484535,-2.230331260512034,-1.1265469766960035,-1.283508550958984,-0.9447959811750495,-2.184286708505294,-1.126610702833893,-2.183733078736766,-1.1265251482440424,-0.9447697030018982,-1.1265155114727328,-0.9447725154555734,-1.5561647622485317,-2.260831848597619,-1.2762195041962487,-1.757828795331308,-1.1266020414038904,-1.2762193604041487,-1.126529781595851,-2.1351829811014382,-1.9573017809791748,-2.031061777704332,-1.1321457138558206,-0.9448536344725347,-0.9448739828023984,-2.2608396595359923,-1.1265166384833047,-2.2608400100840127,-2.163836245331615,-1.0013894470311158,-2.1360171183880894,-1.1265164960693215,-0.9453192196525445,-2.031059207866366,-1.1265491826725886,-2.1638386692666876,-2.168672438565492,-1.1287707715696749,-0.6685707740228739,-1.1265308168002968,-1.2773323605038553,-1.1265530330374798,-2.1359584123214295,-2.303087244180464,-2.185495002628123,-2.1332226510198136,-2.2615484952616947,-0.9448073462104393,-1.1265220888723502,-1.1265566842814532,-0.9447867287016947,-0.9447687682513806,-2.26085536793962,-2.0858122972573203,-1.2026672429104708,-1.1388420312861351,-0.9453548757560856,-1.276223204636558,-1.1324743434370481,-1.0937526593336366,-1.1265244304240978,-1.126558977424933,-1.12656457734464,-1.1265643322560002,-2.260876363502632,-2.041775488844418,-0.9451609908044812,-1.6335050164006681,-2.0310591227226644,-2.1843519123674993,-1.1265491490882806,-0.9449171393426966,-1.6335147259435696,-1.9574489002345625,-1.6335073588281441,-1.757641059527989,-2.3046512772341172,-2.260834028608324,-1.9628489589789444,-0.9450523883830229,-2.1363807910101675,-1.1284448007635508,-1.30007512396198,-0.9447689110678925,-1.6335007677557034,-1.6337057330924554,-1.1265412051832346,-0.9447697537352905,-1.276222234071436,-1.1816283344417355,-2.816191960179474,-2.16220172878582,-2.2609879744249,-1.1298996983712142,-2.184303154435551,-1.198989148390636,-1.126535152987398,-1.1336420954939064,-0.9449940037929517,-1.9609251830012664,-2.2613771644451686,-1.1265262886655087,-2.025004841353755,-2.0310745256885503,-2.1353365674711986,-0.9448081108305472,-2.260834738585393,-0.6685527997221614,-2.163844746803692,-2.159997711799305,-2.135176928242687,-2.26116846926272,-2.1580158230952824,-2.355794484379031,-2.1717645365553,-2.2612671886177833,-1.1992001330946398,-2.1788859928146307,-0.9447694170846398,-1.1265275238692225,-2.136904259422116,-2.1188551322899056,-0.5055449967049259,-2.2398213745543676,-1.2769261321604743,-0.9447716820026297,-1.1992439851692949,-2.034394177672358,-2.1352171191535994,-1.2762232053410363,-2.2649859346231986,-2.1504556129392425,-2.150407002744407,-2.20194402900759,-1.1265753237506761,-2.031192118548492,-2.0310629124316937,-1.5601545114088022,-1.2762397510977201,-0.33711144099253926,-1.2762913707754884,-1.1821780765095875,-1.6348845699344554,-2.1543637317257307,-1.1269040958402579,-1.276233979430646,-1.1481145621889386,-1.2624722947985938,-1.1265169829996184,-1.1266026301873047,-1.7573776736648055,-2.0170411685269802,-1.957301199677069,-2.261398077499795,-2.031061392134067],\"z\":[0.12203646617101503,0.3340433880061043,0.0070581020446944835,0.33287234471785826,0.33404313402882146,0.3767621073834305,0.20995079115419404,0.007072524593844056,0.08447786150038344,0.0070711106208308045,0.21235013598591787,0.009288825091561193,0.12199801022660696,0.007042045352785516,0.007072569904438494,-0.06641504881415874,0.03779920527854796,0.007065536372269944,0.0070721498146340475,0.007072754066532861,0.08447943845136656,0.20875734515398994,0.11731515749235058,0.003914498260326548,0.007068615260897081,0.007019114615645043,0.007069043689870146,0.007073662483129756,0.16665757918662227,0.00685382746709146,0.007057341393368433,0.007063554185420642,-0.015793101251935875,0.12203564977601009,0.007036323628639299,0.007069018483632537,0.007073615372045019,0.007064285056278304,0.2740441893146105,0.007072451878088153,0.006549553779162903,0.1220372899500929,0.0069894229019391435,0.007073728762518729,0.007069082952628268,0.007067580354796146,0.12190065588334405,0.12203000443855092,0.12203529430151357,0.12204084667681554,0.12204092296603235,0.0844803130269439,0.007068048377763624,0.11897592012578222,0.007044544111025788,0.12203111358775053,0.2854198832831312,0.33015193221145794,0.007056892861232762,0.006976431937429328,0.007039348770440612,0.00707386089090173,0.007035503073756007,0.006875047264152513,0.33649311951539124,0.21275765467066482,0.09995696398902809,0.007071294237223855,0.005941297465850017,0.2808017367088184,0.007073736338806538,0.12203787698377228,0.00760453081613011,0.08447249625767808,0.32989511885688355,0.12203747612322201,0.0844766502036704,0.007066697821110276,0.0070558129216999515,0.3340685773014596,0.1986523210626721,0.08447662036749366,0.12203567349511966,0.007020887191912271,0.18925577485453934,0.007056347264636309,0.11655299262737381,0.08446946287257782,0.28332255491810454,0.007074699439880343,0.26599067922640096,0.007072311640771963,0.0844772437798936,0.007073737103600309,0.08448041318177107,0.6909209600531364,0.33187539966169544,0.12203941754739159,0.21252321174416414,0.007044879766268114,0.12203868362873488,0.007071195039054386,0.3618982260235077,0.334064574939124,0.3767625642261148,0.007080893956900865,0.08427077235976761,0.0844660969657622,0.33187723013585224,0.0070736775402767986,0.33187508997251086,0.32989786072241306,0.08491879456921309,0.3328750207104625,0.00707310779770222,0.08447854798380332,0.3767622034338742,0.0070486924096959305,0.32989362049029924,0.4495565545723167,0.007080416899049351,-0.010080820641861239,0.007068862796452114,0.12171518376063917,0.007070777864448692,0.3328595678828923,0.1315826526556931,0.20716504281008627,0.4094765768632394,0.3314217380461506,0.08447212951677138,0.007069322347279365,0.007072991111977834,0.08447424731420522,0.08448005657648623,0.331874016787642,0.3098386518455348,-0.033869284319292106,0.08539544136715672,0.08445534940658844,0.12203644850804918,0.007134331987480555,-0.02984688746109894,0.007071502717268107,0.007069871090162304,0.007066040927446077,0.0070657647328897675,0.3318755644511647,0.3755395275207181,0.08379319683038394,0.16670859450008024,0.3767595722821216,0.28331598099316774,0.007048654562968472,0.08443740714801572,0.16670812794070028,0.3340695110821711,0.16670819197919967,0.21265390132675258,0.32738955733860126,0.3318762718516682,0.33399438858070163,0.08446306149833513,0.33276863080806235,0.006079274387567167,-0.010385784949026968,0.08447964709842208,0.16670760943261506,0.1666349979327563,0.007062519258080972,0.08447856855314996,0.12203588335129599,0.22761438687750685,0.3239260254099215,0.305657673552809,0.3318447215594504,0.004549820909563159,0.28329672208391876,0.11882878009689923,0.007070910146869859,0.0034388441254612026,0.08442895693419103,0.33404475434832154,0.33186246290214894,0.007072963000650794,0.3076934669137459,0.376745873923454,0.3618947283055263,0.08447299118017498,0.3318733325141448,-0.01008380385669582,0.3298971229036434,0.24509950287949392,0.3618983133791313,0.3318808006102622,0.28775525863515444,0.3222774610294177,0.2107875145060233,0.33173852927192193,0.0984267338968216,0.40016870651515046,0.08447945677674033,0.007073654456517206,0.3328828572984461,0.46519673807927825,0.12969379261879152,0.2631212237648839,0.12151091831858064,0.08447947394947447,0.09842676308781109,0.37571432868485805,0.36189702086584014,0.12203644930193795,0.33144194008374905,0.23127894184706557,0.23127479727257544,0.18321370665889558,0.007065475225832606,0.37675619458718324,0.37675757721826103,0.09995584703433373,0.12202784157645835,-0.02016176183735986,0.12202009742066304,0.007625393188343317,0.16574514758404296,0.23131308920987817,0.0068782296740604945,0.12203528099694724,-0.00027555795390831167,0.037793194844330906,0.00707261709496909,0.007056951684716076,0.21277362098503377,0.36060725526524695,0.33406500847240805,0.3316323689019737,0.37676212972042644]},{\"customdata\":[[\"VeChainThor Authority\"],[\"Proof-of-BibleHash\"],[\"SHA-256 + Hive\"],[\"ECC 256K1\"]],\"hovertemplate\":\"<b>%{hovertext}</b><br><br>Class=%{marker.color}<br>PC1=%{x}<br>PC2=%{y}<br>PC3=%{z}<br>Algorithm=%{customdata[0]}<extra></extra>\",\"hovertext\":[\"Vechain\",\"BiblePay\",\"LitecoinCash\",\"Acute Angle Cloud\"],\"legendgroup\":\"1\",\"marker\":{\"color\":[1,1,1,1],\"coloraxis\":\"coloraxis\",\"symbol\":\"square\"},\"mode\":\"markers\",\"name\":\"1\",\"scene\":\"scene\",\"showlegend\":true,\"type\":\"scatter3d\",\"x\":[4.430180196382595,-0.17620883628107994,-0.3506276125865373,-0.3678625516766557],\"y\":[2.1492360622705995,3.7707649341976692,0.4312202367844371,4.141870130263026],\"z\":[9.351379388661723,15.684840513068423,11.882759021952161,23.151950898528295]},{\"customdata\":[[\"TRC10\"]],\"hovertemplate\":\"<b>%{hovertext}</b><br><br>Class=%{marker.color}<br>PC1=%{x}<br>PC2=%{y}<br>PC3=%{z}<br>Algorithm=%{customdata[0]}<extra></extra>\",\"hovertext\":[\"BitTorrent\"],\"legendgroup\":\"2\",\"marker\":{\"color\":[2],\"coloraxis\":\"coloraxis\",\"symbol\":\"x\"},\"mode\":\"markers\",\"name\":\"2\",\"scene\":\"scene\",\"showlegend\":true,\"type\":\"scatter3d\",\"x\":[34.07240865672981],\"y\":[1.4542932601337903],\"z\":[-1.04410678505899]}],                        {\"coloraxis\":{\"colorbar\":{\"title\":{\"text\":\"Class\"}},\"colorscale\":[[0.0,\"#0d0887\"],[0.1111111111111111,\"#46039f\"],[0.2222222222222222,\"#7201a8\"],[0.3333333333333333,\"#9c179e\"],[0.4444444444444444,\"#bd3786\"],[0.5555555555555556,\"#d8576b\"],[0.6666666666666666,\"#ed7953\"],[0.7777777777777778,\"#fb9f3a\"],[0.8888888888888888,\"#fdca26\"],[1.0,\"#f0f921\"]]},\"legend\":{\"title\":{\"text\":\"Class\"},\"tracegroupgap\":0,\"x\":0,\"y\":1},\"margin\":{\"t\":60},\"scene\":{\"domain\":{\"x\":[0.0,1.0],\"y\":[0.0,1.0]},\"xaxis\":{\"title\":{\"text\":\"PC1\"}},\"yaxis\":{\"title\":{\"text\":\"PC2\"}},\"zaxis\":{\"title\":{\"text\":\"PC3\"}}},\"template\":{\"data\":{\"bar\":[{\"error_x\":{\"color\":\"#2a3f5f\"},\"error_y\":{\"color\":\"#2a3f5f\"},\"marker\":{\"line\":{\"color\":\"#E5ECF6\",\"width\":0.5},\"pattern\":{\"fillmode\":\"overlay\",\"size\":10,\"solidity\":0.2}},\"type\":\"bar\"}],\"barpolar\":[{\"marker\":{\"line\":{\"color\":\"#E5ECF6\",\"width\":0.5},\"pattern\":{\"fillmode\":\"overlay\",\"size\":10,\"solidity\":0.2}},\"type\":\"barpolar\"}],\"carpet\":[{\"aaxis\":{\"endlinecolor\":\"#2a3f5f\",\"gridcolor\":\"white\",\"linecolor\":\"white\",\"minorgridcolor\":\"white\",\"startlinecolor\":\"#2a3f5f\"},\"baxis\":{\"endlinecolor\":\"#2a3f5f\",\"gridcolor\":\"white\",\"linecolor\":\"white\",\"minorgridcolor\":\"white\",\"startlinecolor\":\"#2a3f5f\"},\"type\":\"carpet\"}],\"choropleth\":[{\"colorbar\":{\"outlinewidth\":0,\"ticks\":\"\"},\"type\":\"choropleth\"}],\"contour\":[{\"colorbar\":{\"outlinewidth\":0,\"ticks\":\"\"},\"colorscale\":[[0.0,\"#0d0887\"],[0.1111111111111111,\"#46039f\"],[0.2222222222222222,\"#7201a8\"],[0.3333333333333333,\"#9c179e\"],[0.4444444444444444,\"#bd3786\"],[0.5555555555555556,\"#d8576b\"],[0.6666666666666666,\"#ed7953\"],[0.7777777777777778,\"#fb9f3a\"],[0.8888888888888888,\"#fdca26\"],[1.0,\"#f0f921\"]],\"type\":\"contour\"}],\"contourcarpet\":[{\"colorbar\":{\"outlinewidth\":0,\"ticks\":\"\"},\"type\":\"contourcarpet\"}],\"heatmap\":[{\"colorbar\":{\"outlinewidth\":0,\"ticks\":\"\"},\"colorscale\":[[0.0,\"#0d0887\"],[0.1111111111111111,\"#46039f\"],[0.2222222222222222,\"#7201a8\"],[0.3333333333333333,\"#9c179e\"],[0.4444444444444444,\"#bd3786\"],[0.5555555555555556,\"#d8576b\"],[0.6666666666666666,\"#ed7953\"],[0.7777777777777778,\"#fb9f3a\"],[0.8888888888888888,\"#fdca26\"],[1.0,\"#f0f921\"]],\"type\":\"heatmap\"}],\"heatmapgl\":[{\"colorbar\":{\"outlinewidth\":0,\"ticks\":\"\"},\"colorscale\":[[0.0,\"#0d0887\"],[0.1111111111111111,\"#46039f\"],[0.2222222222222222,\"#7201a8\"],[0.3333333333333333,\"#9c179e\"],[0.4444444444444444,\"#bd3786\"],[0.5555555555555556,\"#d8576b\"],[0.6666666666666666,\"#ed7953\"],[0.7777777777777778,\"#fb9f3a\"],[0.8888888888888888,\"#fdca26\"],[1.0,\"#f0f921\"]],\"type\":\"heatmapgl\"}],\"histogram\":[{\"marker\":{\"pattern\":{\"fillmode\":\"overlay\",\"size\":10,\"solidity\":0.2}},\"type\":\"histogram\"}],\"histogram2d\":[{\"colorbar\":{\"outlinewidth\":0,\"ticks\":\"\"},\"colorscale\":[[0.0,\"#0d0887\"],[0.1111111111111111,\"#46039f\"],[0.2222222222222222,\"#7201a8\"],[0.3333333333333333,\"#9c179e\"],[0.4444444444444444,\"#bd3786\"],[0.5555555555555556,\"#d8576b\"],[0.6666666666666666,\"#ed7953\"],[0.7777777777777778,\"#fb9f3a\"],[0.8888888888888888,\"#fdca26\"],[1.0,\"#f0f921\"]],\"type\":\"histogram2d\"}],\"histogram2dcontour\":[{\"colorbar\":{\"outlinewidth\":0,\"ticks\":\"\"},\"colorscale\":[[0.0,\"#0d0887\"],[0.1111111111111111,\"#46039f\"],[0.2222222222222222,\"#7201a8\"],[0.3333333333333333,\"#9c179e\"],[0.4444444444444444,\"#bd3786\"],[0.5555555555555556,\"#d8576b\"],[0.6666666666666666,\"#ed7953\"],[0.7777777777777778,\"#fb9f3a\"],[0.8888888888888888,\"#fdca26\"],[1.0,\"#f0f921\"]],\"type\":\"histogram2dcontour\"}],\"mesh3d\":[{\"colorbar\":{\"outlinewidth\":0,\"ticks\":\"\"},\"type\":\"mesh3d\"}],\"parcoords\":[{\"line\":{\"colorbar\":{\"outlinewidth\":0,\"ticks\":\"\"}},\"type\":\"parcoords\"}],\"pie\":[{\"automargin\":true,\"type\":\"pie\"}],\"scatter\":[{\"marker\":{\"colorbar\":{\"outlinewidth\":0,\"ticks\":\"\"}},\"type\":\"scatter\"}],\"scatter3d\":[{\"line\":{\"colorbar\":{\"outlinewidth\":0,\"ticks\":\"\"}},\"marker\":{\"colorbar\":{\"outlinewidth\":0,\"ticks\":\"\"}},\"type\":\"scatter3d\"}],\"scattercarpet\":[{\"marker\":{\"colorbar\":{\"outlinewidth\":0,\"ticks\":\"\"}},\"type\":\"scattercarpet\"}],\"scattergeo\":[{\"marker\":{\"colorbar\":{\"outlinewidth\":0,\"ticks\":\"\"}},\"type\":\"scattergeo\"}],\"scattergl\":[{\"marker\":{\"colorbar\":{\"outlinewidth\":0,\"ticks\":\"\"}},\"type\":\"scattergl\"}],\"scattermapbox\":[{\"marker\":{\"colorbar\":{\"outlinewidth\":0,\"ticks\":\"\"}},\"type\":\"scattermapbox\"}],\"scatterpolar\":[{\"marker\":{\"colorbar\":{\"outlinewidth\":0,\"ticks\":\"\"}},\"type\":\"scatterpolar\"}],\"scatterpolargl\":[{\"marker\":{\"colorbar\":{\"outlinewidth\":0,\"ticks\":\"\"}},\"type\":\"scatterpolargl\"}],\"scatterternary\":[{\"marker\":{\"colorbar\":{\"outlinewidth\":0,\"ticks\":\"\"}},\"type\":\"scatterternary\"}],\"surface\":[{\"colorbar\":{\"outlinewidth\":0,\"ticks\":\"\"},\"colorscale\":[[0.0,\"#0d0887\"],[0.1111111111111111,\"#46039f\"],[0.2222222222222222,\"#7201a8\"],[0.3333333333333333,\"#9c179e\"],[0.4444444444444444,\"#bd3786\"],[0.5555555555555556,\"#d8576b\"],[0.6666666666666666,\"#ed7953\"],[0.7777777777777778,\"#fb9f3a\"],[0.8888888888888888,\"#fdca26\"],[1.0,\"#f0f921\"]],\"type\":\"surface\"}],\"table\":[{\"cells\":{\"fill\":{\"color\":\"#EBF0F8\"},\"line\":{\"color\":\"white\"}},\"header\":{\"fill\":{\"color\":\"#C8D4E3\"},\"line\":{\"color\":\"white\"}},\"type\":\"table\"}]},\"layout\":{\"annotationdefaults\":{\"arrowcolor\":\"#2a3f5f\",\"arrowhead\":0,\"arrowwidth\":1},\"autotypenumbers\":\"strict\",\"coloraxis\":{\"colorbar\":{\"outlinewidth\":0,\"ticks\":\"\"}},\"colorscale\":{\"diverging\":[[0,\"#8e0152\"],[0.1,\"#c51b7d\"],[0.2,\"#de77ae\"],[0.3,\"#f1b6da\"],[0.4,\"#fde0ef\"],[0.5,\"#f7f7f7\"],[0.6,\"#e6f5d0\"],[0.7,\"#b8e186\"],[0.8,\"#7fbc41\"],[0.9,\"#4d9221\"],[1,\"#276419\"]],\"sequential\":[[0.0,\"#0d0887\"],[0.1111111111111111,\"#46039f\"],[0.2222222222222222,\"#7201a8\"],[0.3333333333333333,\"#9c179e\"],[0.4444444444444444,\"#bd3786\"],[0.5555555555555556,\"#d8576b\"],[0.6666666666666666,\"#ed7953\"],[0.7777777777777778,\"#fb9f3a\"],[0.8888888888888888,\"#fdca26\"],[1.0,\"#f0f921\"]],\"sequentialminus\":[[0.0,\"#0d0887\"],[0.1111111111111111,\"#46039f\"],[0.2222222222222222,\"#7201a8\"],[0.3333333333333333,\"#9c179e\"],[0.4444444444444444,\"#bd3786\"],[0.5555555555555556,\"#d8576b\"],[0.6666666666666666,\"#ed7953\"],[0.7777777777777778,\"#fb9f3a\"],[0.8888888888888888,\"#fdca26\"],[1.0,\"#f0f921\"]]},\"colorway\":[\"#636efa\",\"#EF553B\",\"#00cc96\",\"#ab63fa\",\"#FFA15A\",\"#19d3f3\",\"#FF6692\",\"#B6E880\",\"#FF97FF\",\"#FECB52\"],\"font\":{\"color\":\"#2a3f5f\"},\"geo\":{\"bgcolor\":\"white\",\"lakecolor\":\"white\",\"landcolor\":\"#E5ECF6\",\"showlakes\":true,\"showland\":true,\"subunitcolor\":\"white\"},\"hoverlabel\":{\"align\":\"left\"},\"hovermode\":\"closest\",\"mapbox\":{\"style\":\"light\"},\"paper_bgcolor\":\"white\",\"plot_bgcolor\":\"#E5ECF6\",\"polar\":{\"angularaxis\":{\"gridcolor\":\"white\",\"linecolor\":\"white\",\"ticks\":\"\"},\"bgcolor\":\"#E5ECF6\",\"radialaxis\":{\"gridcolor\":\"white\",\"linecolor\":\"white\",\"ticks\":\"\"}},\"scene\":{\"xaxis\":{\"backgroundcolor\":\"#E5ECF6\",\"gridcolor\":\"white\",\"gridwidth\":2,\"linecolor\":\"white\",\"showbackground\":true,\"ticks\":\"\",\"zerolinecolor\":\"white\"},\"yaxis\":{\"backgroundcolor\":\"#E5ECF6\",\"gridcolor\":\"white\",\"gridwidth\":2,\"linecolor\":\"white\",\"showbackground\":true,\"ticks\":\"\",\"zerolinecolor\":\"white\"},\"zaxis\":{\"backgroundcolor\":\"#E5ECF6\",\"gridcolor\":\"white\",\"gridwidth\":2,\"linecolor\":\"white\",\"showbackground\":true,\"ticks\":\"\",\"zerolinecolor\":\"white\"}},\"shapedefaults\":{\"line\":{\"color\":\"#2a3f5f\"}},\"ternary\":{\"aaxis\":{\"gridcolor\":\"white\",\"linecolor\":\"white\",\"ticks\":\"\"},\"baxis\":{\"gridcolor\":\"white\",\"linecolor\":\"white\",\"ticks\":\"\"},\"bgcolor\":\"#E5ECF6\",\"caxis\":{\"gridcolor\":\"white\",\"linecolor\":\"white\",\"ticks\":\"\"}},\"title\":{\"x\":0.05},\"xaxis\":{\"automargin\":true,\"gridcolor\":\"white\",\"linecolor\":\"white\",\"ticks\":\"\",\"title\":{\"standoff\":15},\"zerolinecolor\":\"white\",\"zerolinewidth\":2},\"yaxis\":{\"automargin\":true,\"gridcolor\":\"white\",\"linecolor\":\"white\",\"ticks\":\"\",\"title\":{\"standoff\":15},\"zerolinecolor\":\"white\",\"zerolinewidth\":2}}},\"width\":800},                        {\"responsive\": true}                    ).then(function(){\n",
       "                            \n",
       "var gd = document.getElementById('c9b49b6c-7d11-4e79-abf6-c9f855e19046');\n",
       "var x = new MutationObserver(function (mutations, observer) {{\n",
       "        var display = window.getComputedStyle(gd).display;\n",
       "        if (!display || display === 'none') {{\n",
       "            console.log([gd, 'removed!']);\n",
       "            Plotly.purge(gd);\n",
       "            observer.disconnect();\n",
       "        }}\n",
       "}});\n",
       "\n",
       "// Listen for the removal of the full notebook cells\n",
       "var notebookContainer = gd.closest('#notebook-container');\n",
       "if (notebookContainer) {{\n",
       "    x.observe(notebookContainer, {childList: true});\n",
       "}}\n",
       "\n",
       "// Listen for the clearing of the current output cell\n",
       "var outputEl = gd.closest('.output');\n",
       "if (outputEl) {{\n",
       "    x.observe(outputEl, {childList: true});\n",
       "}}\n",
       "\n",
       "                        })                };                });            </script>        </div>"
      ]
     },
     "metadata": {},
     "output_type": "display_data"
    }
   ],
   "source": [
    "# Creating a 3D-Scatter with the PCA data and the clusters\n",
    "fig = px.scatter_3d(\n",
    "    clustered_df,\n",
    "    hover_name=\"CoinName\",\n",
    "    hover_data=[\"Algorithm\"],\n",
    "    x=\"PC1\",\n",
    "    y=\"PC2\",\n",
    "    z=\"PC3\",\n",
    "    color=\"Class\",\n",
    "    symbol=\"Class\",\n",
    "    width=800,\n",
    ")\n",
    "fig.update_layout(legend=dict(x=0, y=1))\n",
    "fig.show()"
   ]
  },
  {
   "cell_type": "code",
   "execution_count": 52,
   "metadata": {},
   "outputs": [
    {
     "data": {},
     "metadata": {},
     "output_type": "display_data"
    },
    {
     "data": {
      "application/vnd.holoviews_exec.v0+json": "",
      "text/html": [
       "<div id='1669'>\n",
       "\n",
       "\n",
       "\n",
       "\n",
       "\n",
       "  <div class=\"bk-root\" id=\"5183adbb-8c5e-4381-9b96-a9cf26170eac\" data-root-id=\"1669\"></div>\n",
       "</div>\n",
       "<script type=\"application/javascript\">(function(root) {\n",
       "  function embed_document(root) {\n",
       "    var docs_json = {\"1836dda3-25bf-423c-8c88-44ddbe002513\":{\"defs\":[{\"extends\":null,\"module\":null,\"name\":\"ReactiveHTML1\",\"overrides\":[],\"properties\":[]},{\"extends\":null,\"module\":null,\"name\":\"FlexBox1\",\"overrides\":[],\"properties\":[{\"default\":\"flex-start\",\"kind\":null,\"name\":\"align_content\"},{\"default\":\"flex-start\",\"kind\":null,\"name\":\"align_items\"},{\"default\":\"row\",\"kind\":null,\"name\":\"flex_direction\"},{\"default\":\"wrap\",\"kind\":null,\"name\":\"flex_wrap\"},{\"default\":\"flex-start\",\"kind\":null,\"name\":\"justify_content\"}]},{\"extends\":null,\"module\":null,\"name\":\"TemplateActions1\",\"overrides\":[],\"properties\":[{\"default\":0,\"kind\":null,\"name\":\"open_modal\"},{\"default\":0,\"kind\":null,\"name\":\"close_modal\"}]},{\"extends\":null,\"module\":null,\"name\":\"MaterialTemplateActions1\",\"overrides\":[],\"properties\":[{\"default\":0,\"kind\":null,\"name\":\"open_modal\"},{\"default\":0,\"kind\":null,\"name\":\"close_modal\"}]}],\"roots\":{\"references\":[{\"attributes\":{\"editor\":{\"id\":\"1699\"},\"field\":\"PC2\",\"formatter\":{\"id\":\"1698\"},\"title\":\"PC2\"},\"id\":\"1700\",\"type\":\"TableColumn\"},{\"attributes\":{\"editor\":{\"id\":\"1694\"},\"field\":\"PC1\",\"formatter\":{\"id\":\"1693\"},\"title\":\"PC1\"},\"id\":\"1695\",\"type\":\"TableColumn\"},{\"attributes\":{},\"id\":\"1694\",\"type\":\"NumberEditor\"},{\"attributes\":{\"format\":\"0,0.0[00000]\"},\"id\":\"1703\",\"type\":\"NumberFormatter\"},{\"attributes\":{},\"id\":\"1699\",\"type\":\"NumberEditor\"},{\"attributes\":{},\"id\":\"1684\",\"type\":\"NumberEditor\"},{\"attributes\":{},\"id\":\"1704\",\"type\":\"NumberEditor\"},{\"attributes\":{},\"id\":\"1689\",\"type\":\"StringEditor\"},{\"attributes\":{\"margin\":[5,5,5,5],\"name\":\"HSpacer02887\",\"sizing_mode\":\"stretch_width\"},\"id\":\"1725\",\"type\":\"Spacer\"},{\"attributes\":{\"format\":\"0,0.0[00000]\"},\"id\":\"1693\",\"type\":\"NumberFormatter\"},{\"attributes\":{},\"id\":\"1672\",\"type\":\"Selection\"},{\"attributes\":{\"editor\":{\"id\":\"1714\"},\"field\":\"Class\",\"formatter\":{\"id\":\"1713\"},\"title\":\"Class\"},\"id\":\"1715\",\"type\":\"TableColumn\"},{\"attributes\":{\"editor\":{\"id\":\"1704\"},\"field\":\"PC3\",\"formatter\":{\"id\":\"1703\"},\"title\":\"PC3\"},\"id\":\"1705\",\"type\":\"TableColumn\"},{\"attributes\":{\"data\":{\"Algorithm\":[\"Scrypt\",\"Scrypt\",\"X13\",\"SHA-256\",\"Ethash\",\"Scrypt\",\"X11\",\"CryptoNight-V7\",\"Ethash\",\"Equihash\",\"SHA-512\",\"Multiple\",\"SHA-256\",\"SHA-256\",\"Scrypt\",\"X15\",\"X11\",\"Scrypt\",\"Scrypt\",\"Scrypt\",\"Multiple\",\"Scrypt\",\"SHA-256\",\"Scrypt\",\"Scrypt\",\"Scrypt\",\"Quark\",\"Groestl\",\"Scrypt\",\"Scrypt\",\"Scrypt\",\"Scrypt\",\"Scrypt\",\"X11\",\"Scrypt\",\"Groestl\",\"Multiple\",\"SHA-256\",\"Scrypt\",\"Scrypt\",\"Scrypt\",\"Scrypt\",\"PoS\",\"Scrypt\",\"Scrypt\",\"NeoScrypt\",\"Scrypt\",\"Scrypt\",\"Scrypt\",\"Scrypt\",\"X11\",\"Scrypt\",\"X11\",\"SHA-256\",\"Scrypt\",\"Scrypt\",\"Scrypt\",\"SHA3\",\"Scrypt\",\"HybridScryptHash256\",\"Scrypt\",\"Scrypt\",\"SHA-256\",\"Scrypt\",\"X13\",\"Scrypt\",\"SHA-256\",\"Scrypt\",\"X13\",\"NeoScrypt\",\"Scrypt\",\"Scrypt\",\"Scrypt\",\"Scrypt\",\"Scrypt\",\"Scrypt\",\"X11\",\"X11\",\"SHA-256\",\"Multiple\",\"SHA-256\",\"PHI1612\",\"X11\",\"SHA-256\",\"SHA-256\",\"SHA-256\",\"X11\",\"Scrypt\",\"Scrypt\",\"Scrypt\",\"Scrypt\",\"Lyra2REv2\",\"Scrypt\",\"X11\",\"Multiple\",\"SHA-256\",\"X13\",\"Scrypt\",\"CryptoNight\",\"CryptoNight\",\"Shabal256\",\"Counterparty\",\"Scrypt\",\"SHA-256\",\"Groestl\",\"Scrypt\",\"Scrypt\",\"Scrypt\",\"X13\",\"Scrypt\",\"Scrypt\",\"Scrypt\",\"Scrypt\",\"X13\",\"Scrypt\",\"Stanford Folding\",\"X11\",\"Multiple\",\"QuBit\",\"Scrypt\",\"Scrypt\",\"Scrypt\",\"M7 POW\",\"Scrypt\",\"SHA-256\",\"Scrypt\",\"X11\",\"SHA3\",\"X11\",\"Lyra2RE\",\"SHA-256\",\"QUAIT\",\"X11\",\"X11\",\"Scrypt\",\"Scrypt\",\"Scrypt\",\"Ethash\",\"X13\",\"Blake2b\",\"SHA-256\",\"X15\",\"X11\",\"SHA-256\",\"BLAKE256\",\"Scrypt\",\"1GB AES Pattern Search\",\"SHA-256\",\"X11\",\"Scrypt\",\"SHA-256\",\"SHA-256\",\"NIST5\",\"Scrypt\",\"Scrypt\",\"X11\",\"Dagger\",\"Scrypt\",\"X11GOST\",\"X11\",\"Scrypt\",\"SHA-256\",\"Scrypt\",\"PoS\",\"Scrypt\",\"X11\",\"X11\",\"SHA-256\",\"SHA-256\",\"NIST5\",\"X11\",\"Scrypt\",\"POS 3.0\",\"Scrypt\",\"Scrypt\",\"Scrypt\",\"X13\",\"X11\",\"X11\",\"Equihash\",\"X11\",\"Scrypt\",\"CryptoNight\",\"SHA-256\",\"SHA-256\",\"X11\",\"Scrypt\",\"Multiple\",\"Scrypt\",\"Scrypt\",\"Scrypt\",\"SHA-256\",\"Scrypt\",\"Scrypt\",\"SHA-256D\",\"PoS\",\"Scrypt\",\"X11\",\"Lyra2Z\",\"PoS\",\"X13\",\"X14\",\"PoS\",\"SHA-256D\",\"Ethash\",\"Equihash\",\"DPoS\",\"X11\",\"Scrypt\",\"X11\",\"X13\",\"X11\",\"PoS\",\"Scrypt\",\"Scrypt\",\"X11\",\"PoS\",\"X11\",\"SHA-256\",\"Scrypt\",\"X11\",\"Scrypt\",\"Scrypt\",\"X11\",\"CryptoNight\",\"Scrypt\",\"Scrypt\",\"Scrypt\",\"Scrypt\",\"Quark\",\"QuBit\",\"Scrypt\",\"CryptoNight\",\"Lyra2RE\",\"Scrypt\",\"SHA-256\",\"X11\",\"Scrypt\",\"X11\",\"Scrypt\",\"CryptoNight-V7\",\"Scrypt\",\"Scrypt\",\"Scrypt\",\"X13\",\"X11\",\"Equihash\",\"Scrypt\",\"Scrypt\",\"Lyra2RE\",\"Scrypt\",\"Dagger-Hashimoto\",\"X11\",\"Blake2S\",\"X11\",\"Scrypt\",\"PoS\",\"X11\",\"NIST5\",\"PoS\",\"X11\",\"Scrypt\",\"Scrypt\",\"Scrypt\",\"SHA-256\",\"X11\",\"Scrypt\",\"Scrypt\",\"SHA-256\",\"PoS\",\"Scrypt\",\"X15\",\"SHA-256\",\"Scrypt\",\"POS 3.0\",\"CryptoNight-V7\",\"536\",\"Argon2d\",\"Blake2b\",\"Cloverhash\",\"CryptoNight\",\"NIST5\",\"X11\",\"NIST5\",\"Skein\",\"Scrypt\",\"X13\",\"Scrypt\",\"X11\",\"X11\",\"Scrypt\",\"CryptoNight\",\"X13\",\"Time Travel\",\"Scrypt\",\"Keccak\",\"SkunkHash v2 Raptor\",\"X11\",\"Skein\",\"SHA-256\",\"X11\",\"Scrypt\",\"VeChainThor Authority\",\"Scrypt\",\"PoS\",\"Scrypt\",\"Scrypt\",\"Scrypt\",\"Scrypt\",\"Scrypt\",\"Scrypt\",\"Scrypt\",\"CryptoNight\",\"SHA-512\",\"Ouroboros\",\"X11\",\"Equihash\",\"NeoScrypt\",\"X11\",\"Scrypt\",\"NeoScrypt\",\"Lyra2REv2\",\"Equihash\",\"Scrypt\",\"SHA-256\",\"NIST5\",\"PHI1612\",\"Dagger\",\"Scrypt\",\"Quark\",\"Scrypt\",\"POS 2.0\",\"Scrypt\",\"SHA-256\",\"X11\",\"NeoScrypt\",\"Ethash\",\"NeoScrypt\",\"X11\",\"DPoS\",\"NIST5\",\"X13\",\"Multiple\",\"Scrypt\",\"CryptoNight\",\"CryptoNight\",\"Ethash\",\"NIST5\",\"Quark\",\"X11\",\"CryptoNight-V7\",\"Scrypt\",\"Scrypt\",\"Scrypt\",\"X11\",\"BLAKE256\",\"X11\",\"NeoScrypt\",\"Quark\",\"NeoScrypt\",\"Scrypt\",\"Scrypt\",\"Scrypt\",\"X11\",\"X11\",\"SHA-256\",\"C11\",\"POS 3.0\",\"Ethash\",\"Scrypt\",\"CryptoNight\",\"SkunkHash\",\"Scrypt\",\"CryptoNight\",\"Scrypt\",\"Dagger\",\"Lyra2REv2\",\"X13\",\"Proof-of-BibleHash\",\"SHA-256 + Hive\",\"Scrypt\",\"Scrypt\",\"X11\",\"C11\",\"Proof-of-Authority\",\"X11\",\"XEVAN\",\"Scrypt\",\"VBFT\",\"Ethash\",\"CryptoNight\",\"Scrypt\",\"IMesh\",\"NIST5\",\"Scrypt\",\"Scrypt\",\"Equihash\",\"Scrypt\",\"Lyra2Z\",\"Green Protocol\",\"PoS\",\"Scrypt\",\"Semux BFT consensus\",\"X11\",\"Quark\",\"PoS\",\"CryptoNight\",\"X16R\",\"Scrypt\",\"NIST5\",\"Lyra2RE\",\"XEVAN\",\"Tribus\",\"Scrypt\",\"Lyra2Z\",\"CryptoNight\",\"CryptoNight Heavy\",\"CryptoNight\",\"Scrypt\",\"Scrypt\",\"Jump Consistent Hash\",\"SHA-256D\",\"CryptoNight\",\"Scrypt\",\"X15\",\"Scrypt\",\"Quark\",\"SHA-256\",\"DPoS\",\"X16R\",\"HMQ1725\",\"X11\",\"X16R\",\"Quark\",\"Quark\",\"Scrypt\",\"Lyra2REv2\",\"Quark\",\"Scrypt\",\"Scrypt\",\"CryptoNight-V7\",\"Cryptonight-GPU\",\"XEVAN\",\"CryptoNight Heavy\",\"X11\",\"X11\",\"Scrypt\",\"PoS\",\"SHA-256\",\"Keccak\",\"X11\",\"X11\",\"Scrypt\",\"SHA-512\",\"X16R\",\"ECC 256K1\",\"Equihash\",\"XEVAN\",\"Lyra2Z\",\"SHA-256\",\"XEVAN\",\"X11\",\"CryptoNight\",\"Quark\",\"Blake\",\"Blake\",\"Equihash\",\"Exosis\",\"Scrypt\",\"Scrypt\",\"Equihash\",\"Quark\",\"Equihash\",\"Quark\",\"Scrypt\",\"QuBit\",\"X11\",\"Scrypt\",\"XEVAN\",\"SHA-256D\",\"X11\",\"SHA-256\",\"X13\",\"SHA-256\",\"X11\",\"DPoS\",\"Scrypt\",\"Scrypt\",\"X11\",\"NeoScrypt\",\"Scrypt\",\"Blake\",\"Scrypt\",\"SHA-256\",\"Scrypt\",\"X11\",\"Scrypt\",\"Scrypt\",\"SHA-256\",\"X11\",\"SHA-256\",\"Scrypt\",\"Scrypt\",\"Scrypt\",\"Groestl\",\"X11\",\"Scrypt\",\"PoS\",\"Scrypt\",\"Scrypt\",\"X11\",\"SHA-256\",\"DPoS\",\"Scrypt\",\"Scrypt\",\"NeoScrypt\",\"Multiple\",\"X13\",\"Equihash+Scrypt\",\"DPoS\",\"Ethash\",\"DPoS\",\"SHA-256\",\"Leased POS\",\"PoS\",\"TRC10\",\"PoS\",\"SHA-256\",\"Scrypt\",\"CryptoNight\",\"Equihash\",\"Scrypt\"],\"Class\":{\"__ndarray__\":\"AAAAAAAAAAAAAAAAAwAAAAMAAAADAAAAAAAAAAMAAAADAAAAAwAAAAAAAAADAAAAAAAAAAAAAAADAAAAAAAAAAMAAAADAAAAAAAAAAAAAAADAAAAAwAAAAMAAAADAAAAAwAAAAAAAAADAAAAAwAAAAMAAAAAAAAAAwAAAAAAAAADAAAAAwAAAAAAAAAAAAAAAwAAAAMAAAADAAAAAwAAAAMAAAADAAAAAAAAAAAAAAADAAAAAwAAAAMAAAADAAAAAwAAAAAAAAAAAAAAAwAAAAAAAAADAAAAAwAAAAMAAAADAAAAAAAAAAMAAAADAAAAAAAAAAMAAAAAAAAAAAAAAAAAAAADAAAAAwAAAAMAAAAAAAAAAAAAAAAAAAAAAAAAAAAAAAMAAAADAAAAAwAAAAAAAAAAAAAAAwAAAAAAAAADAAAAAAAAAAAAAAADAAAAAwAAAAMAAAADAAAAAAAAAAAAAAADAAAAAAAAAAMAAAADAAAAAAAAAAAAAAADAAAAAAAAAAAAAAADAAAAAwAAAAAAAAAAAAAAAwAAAAAAAAAAAAAAAwAAAAAAAAADAAAAAAAAAAMAAAAAAAAAAwAAAAAAAAAAAAAAAwAAAAMAAAAAAAAAAwAAAAMAAAADAAAAAAAAAAMAAAADAAAAAwAAAAMAAAADAAAAAAAAAAAAAAADAAAAAwAAAAMAAAAAAAAAAwAAAAAAAAADAAAAAwAAAAAAAAADAAAAAAAAAAMAAAAAAAAAAAAAAAMAAAADAAAAAAAAAAMAAAADAAAAAAAAAAAAAAADAAAAAAAAAAMAAAAAAAAAAAAAAAAAAAADAAAAAwAAAAMAAAADAAAAAAAAAAAAAAAAAAAAAAAAAAAAAAADAAAAAwAAAAAAAAAAAAAAAAAAAAAAAAAAAAAAAwAAAAAAAAAAAAAAAAAAAAAAAAAAAAAAAwAAAAAAAAADAAAAAAAAAAAAAAADAAAAAAAAAAMAAAAAAAAAAAAAAAMAAAAAAAAAAwAAAAAAAAADAAAAAAAAAAMAAAAAAAAAAAAAAAAAAAAAAAAAAwAAAAAAAAAAAAAAAAAAAAAAAAAAAAAAAwAAAAMAAAAAAAAAAAAAAAMAAAADAAAAAAAAAAAAAAAAAAAAAAAAAAAAAAADAAAAAAAAAAAAAAAAAAAAAAAAAAAAAAAAAAAAAAAAAAAAAAADAAAAAAAAAAAAAAAAAAAAAAAAAAAAAAAAAAAAAwAAAAMAAAADAAAAAAAAAAAAAAAAAAAAAAAAAAMAAAAAAAAAAwAAAAAAAAAAAAAAAwAAAAAAAAADAAAAAwAAAAAAAAADAAAAAwAAAAAAAAADAAAAAAAAAAAAAAAAAAAAAwAAAAAAAAAAAAAAAwAAAAAAAAAAAAAAAAAAAAAAAAAAAAAAAAAAAAAAAAADAAAAAAAAAAMAAAAAAAAAAAAAAAAAAAAAAAAAAwAAAAAAAAADAAAAAAAAAAMAAAADAAAAAwAAAAMAAAAAAAAAAwAAAAAAAAAAAAAAAwAAAAAAAAADAAAAAwAAAAMAAAAAAAAAAwAAAAAAAAADAAAAAwAAAAMAAAAAAAAAAwAAAAAAAAADAAAAAAAAAAAAAAABAAAAAwAAAAAAAAADAAAAAwAAAAMAAAADAAAAAwAAAAAAAAAAAAAAAwAAAAAAAAAAAAAAAAAAAAMAAAAAAAAAAwAAAAAAAAADAAAAAAAAAAMAAAAAAAAAAAAAAAAAAAAAAAAAAwAAAAAAAAAAAAAAAwAAAAAAAAAAAAAAAAAAAAMAAAADAAAAAwAAAAMAAAAAAAAAAAAAAAAAAAAAAAAAAwAAAAAAAAADAAAAAwAAAAMAAAAAAAAAAAAAAAMAAAADAAAAAAAAAAAAAAADAAAAAAAAAAMAAAADAAAAAwAAAAAAAAADAAAAAwAAAAAAAAAAAAAAAAAAAAMAAAADAAAAAwAAAAAAAAAAAAAAAAAAAAMAAAADAAAAAAAAAAMAAAADAAAAAwAAAAMAAAAAAAAAAQAAAAEAAAADAAAAAwAAAAMAAAAAAAAAAAAAAAAAAAAAAAAAAAAAAAAAAAADAAAAAwAAAAMAAAADAAAAAAAAAAAAAAAAAAAAAwAAAAAAAAADAAAAAAAAAAAAAAAAAAAAAAAAAAMAAAAAAAAAAAAAAAMAAAAAAAAAAAAAAAMAAAADAAAAAAAAAAMAAAAAAAAAAwAAAAMAAAADAAAAAwAAAAAAAAAAAAAAAwAAAAAAAAADAAAAAAAAAAAAAAAAAAAAAAAAAAAAAAAAAAAAAwAAAAMAAAADAAAAAAAAAAAAAAAAAAAAAAAAAAAAAAAAAAAAAwAAAAAAAAADAAAAAwAAAAMAAAADAAAAAAAAAAAAAAAAAAAAAAAAAAMAAAAAAAAAAAAAAAMAAAAAAAAAAAAAAAMAAAABAAAAAwAAAAAAAAADAAAAAwAAAAAAAAAAAAAAAwAAAAAAAAADAAAAAwAAAAAAAAADAAAAAwAAAAAAAAADAAAAAAAAAAMAAAAAAAAAAAAAAAMAAAAAAAAAAAAAAAAAAAAAAAAAAAAAAAMAAAADAAAAAwAAAAAAAAAAAAAAAAAAAAMAAAAAAAAAAwAAAAAAAAADAAAAAAAAAAAAAAAAAAAAAAAAAAMAAAAAAAAAAAAAAAAAAAADAAAAAAAAAAMAAAAAAAAAAwAAAAAAAAAAAAAAAAAAAAMAAAADAAAAAAAAAAAAAAAAAAAAAAAAAAAAAAAAAAAAAwAAAAAAAAADAAAAAAAAAAMAAAAAAAAAAAAAAAAAAAAAAAAAAgAAAAAAAAAAAAAAAAAAAAMAAAADAAAAAAAAAA==\",\"dtype\":\"int32\",\"order\":\"little\",\"shape\":[532]},\"CoinName\":[\"42 Coin\",\"404Coin\",\"EliteCoin\",\"Bitcoin\",\"Ethereum\",\"Litecoin\",\"Dash\",\"Monero\",\"Ethereum Classic\",\"ZCash\",\"Bitshares\",\"DigiByte\",\"BitcoinDark\",\"PayCoin\",\"ProsperCoin\",\"KoboCoin\",\"Spreadcoin\",\"Argentum\",\"Aurora Coin\",\"BlueCoin\",\"MyriadCoin\",\"MoonCoin\",\"ZetaCoin\",\"SexCoin\",\"Quatloo\",\"EnergyCoin\",\"QuarkCoin\",\"Riecoin\",\"Digitalcoin \",\"BitBar\",\"Catcoin\",\"CryptoBullion\",\"CannaCoin\",\"CryptCoin\",\"CasinoCoin\",\"Diamond\",\"Verge\",\"DevCoin\",\"EarthCoin\",\"E-Gulden\",\"Einsteinium\",\"Emerald\",\"Exclusive Coin\",\"FlutterCoin\",\"Franko\",\"FeatherCoin\",\"GrandCoin\",\"GlobalCoin\",\"GoldCoin\",\"HoboNickels\",\"HyperStake\",\"Infinite Coin\",\"IOCoin\",\"IXcoin\",\"KrugerCoin\",\"LuckyCoin\",\"Litebar \",\"MaxCoin\",\"MegaCoin\",\"MediterraneanCoin\",\"MintCoin\",\"MinCoin\",\"MazaCoin\",\"Nautilus Coin\",\"NavCoin\",\"NobleCoin\",\"Namecoin\",\"NyanCoin\",\"OpalCoin\",\"Orbitcoin\",\"PotCoin\",\"PhoenixCoin\",\"Reddcoin\",\"RonPaulCoin\",\"StableCoin\",\"SmartCoin\",\"SuperCoin\",\"SyncCoin\",\"SysCoin\",\"TeslaCoin\",\"TigerCoin\",\"TittieCoin\",\"TorCoin\",\"TerraCoin\",\"UnbreakableCoin\",\"Unobtanium\",\"UroCoin\",\"UnitaryStatus Dollar\",\"UltraCoin\",\"ViaCoin\",\"VeriCoin\",\"Vertcoin\",\"WorldCoin\",\"X11 Coin\",\"Crypti\",\"JouleCoin\",\"StealthCoin\",\"ZCC Coin\",\"ByteCoin\",\"DigitalNote \",\"BurstCoin\",\"StorjCoin\",\"MonaCoin\",\"Neutron\",\"FairCoin\",\"Gulden\",\"RubyCoin\",\"PesetaCoin\",\"Kore\",\"Wild Beast Coin\",\"Dnotes\",\"Flo\",\"8BIT Coin\",\"Sativa Coin\",\"ArtByte\",\"Folding Coin\",\"Ucoin\",\"Unitus\",\"CypherPunkCoin\",\"OmniCron\",\"Vtorrent\",\"GreenCoin\",\"Cryptonite\",\"MasterCoin\",\"SoonCoin\",\"1Credit\",\"IslaCoin\",\"Nexus\",\"MarsCoin \",\"Crypto\",\"Anarchists Prime\",\"Droidz\",\"BowsCoin\",\"Squall Coin\",\"Song Coin\",\"BitZeny\",\"Diggits\",\"Expanse\",\"Paycon\",\"Siacoin\",\"Emercoin\",\"EverGreenCoin\",\"MindCoin\",\"I0coin\",\"Decred\",\"Revolution VR\",\"HOdlcoin\",\"EDRCoin\",\"Hitcoin\",\"Gamecredits\",\"DubaiCoin\",\"CarpeDiemCoin\",\"PWR Coin\",\"BillaryCoin\",\"GPU Coin\",\"Adzcoin\",\"SoilCoin\",\"YoCoin\",\"SibCoin\",\"EuropeCoin\",\"ZeitCoin\",\"SwingCoin\",\"SafeExchangeCoin\",\"Nebuchadnezzar\",\"Francs\",\"BolivarCoin\",\"Ratecoin\",\"Revenu\",\"Clockcoin\",\"VIP Tokens\",\"BitSend\",\"Omni\",\"Let it Ride\",\"PutinCoin\",\"iBankCoin\",\"Frankywillcoin\",\"MudraCoin\",\"PizzaCoin\",\"Lutetium Coin\",\"Komodo\",\"GoldBlocks\",\"CarterCoin\",\"Karbo\",\"BitTokens\",\"ZayedCoin\",\"MustangCoin\",\"ZoneCoin\",\"Circuits of Value\",\"RootCoin\",\"DopeCoin\",\"BitCurrency\",\"DollarCoin\",\"Swiscoin\",\"Shilling\",\"BuzzCoin\",\"Opair\",\"PesoBit\",\"Halloween Coin\",\"ZCoin\",\"CoffeeCoin\",\"RoyalCoin\",\"GanjaCoin V2\",\"TeamUP\",\"LanaCoin\",\"Elementrem\",\"ZClassic\",\"ARK\",\"InsaneCoin\",\"KiloCoin\",\"ArtexCoin\",\"EmberCoin\",\"XenixCoin\",\"FreeCoin\",\"PLNCoin\",\"AquariusCoin\",\"Kurrent\",\"Creatio\",\"Eternity\",\"Eurocoin\",\"BitcoinFast\",\"Stakenet\",\"BitConnect Coin\",\"MoneyCoin\",\"Enigma\",\"Cannabis Industry Coin\",\"Russiacoin\",\"PandaCoin\",\"GameUnits\",\"GAKHcoin\",\"Allsafe\",\"LiteCreed\",\"OsmiumCoin\",\"Bikercoins\",\"HexxCoin\",\"Klingon Empire Darsek\",\"Internet of People\",\"KushCoin\",\"Printerium\",\"PacCoin\",\"Impeach\",\"Citadel\",\"Zilbercoin\",\"FirstCoin\",\"BeaverCoin\",\"FindCoin\",\"VaultCoin\",\"Zero\",\"OpenChat\",\"Canada eCoin\",\"Zoin\",\"RenosCoin\",\"DubaiCoin\",\"VirtacoinPlus\",\"TajCoin\",\"Impact\",\"EB3coin\",\"Atmos\",\"HappyCoin\",\"Coinonat\",\"MacronCoin\",\"Condensate\",\"Independent Money System\",\"ArgusCoin\",\"LomoCoin\",\"ProCurrency\",\"GoldReserve\",\"BenjiRolls\",\"GrowthCoin\",\"ILCoin\",\"Phreak\",\"Degas Coin\",\"HTML5 Coin\",\"Ultimate Secure Cash\",\"EquiTrader\",\"QTUM\",\"Quantum Resistant Ledger\",\"Espers\",\"Dynamic\",\"Nano\",\"ChanCoin\",\"Dinastycoin\",\"Denarius\",\"DigitalPrice\",\"Virta Unique Coin\",\"Bitcoin Planet\",\"Unify\",\"BritCoin\",\"SocialCoin\",\"ArcticCoin\",\"DAS\",\"Linda\",\"LeviarCoin\",\"DeepOnion\",\"Bitcore\",\"gCn Coin\",\"SmartCash\",\"Signatum\",\"Onix\",\"Cream\",\"Bitcoin Cash\",\"Monoeci\",\"Draftcoin\",\"Vechain\",\"Sojourn Coin\",\"Stakecoin\",\"NewYorkCoin\",\"FrazCoin\",\"Kronecoin\",\"AdCoin\",\"Linx\",\"CoinonatX\",\"Ethereum Dark\",\"Sumokoin\",\"Obsidian\",\"Cardano\",\"Regalcoin\",\"BitcoinZ\",\"TrezarCoin\",\"Elements\",\"TerraNovaCoin\",\"VIVO Coin\",\"Rupee\",\"Bitcoin Gold\",\"WomenCoin\",\"Theresa May Coin\",\"NamoCoin\",\"LUXCoin\",\"Pirl\",\"Xios\",\"Bitcloud 2.0\",\"eBoost\",\"KekCoin\",\"BlackholeCoin\",\"Infinity Economics\",\"Pura\",\"Innova\",\"Ellaism\",\"GoByte\",\"Magnet\",\"Lamden Tau\",\"Electra\",\"Bitcoin Diamond\",\"SHIELD\",\"Cash & Back Coin\",\"UltraNote\",\"BitCoal\",\"DaxxCoin\",\"Bulwark\",\"Kalkulus\",\"AC3\",\"Lethean\",\"GermanCoin\",\"LiteCoin Ultra\",\"PopularCoin\",\"PhantomX\",\"Photon\",\"Sucre\",\"SparksPay\",\"Digiwage\",\"GunCoin\",\"IrishCoin\",\"Trollcoin\",\"Litecoin Plus\",\"Monkey Project\",\"Pioneer Coin\",\"UnitedBitcoin\",\"Interzone\",\"TokenPay\",\"1717 Masonic Commemorative Token\",\"My Big Coin\",\"TurtleCoin\",\"MUNcoin\",\"Unified Society USDEX\",\"Niobio Cash\",\"ShareChain\",\"Travelflex\",\"KREDS\",\"Tokyo Coin\",\"BiblePay\",\"LitecoinCash\",\"BitFlip\",\"LottoCoin\",\"Crypto Improvement Fund\",\"Stipend\",\"Poa Network\",\"Pushi\",\"Ellerium\",\"Velox\",\"Ontology\",\"Callisto Network\",\"BitTube\",\"Poseidon\",\"Aidos Kuneen\",\"Bitspace\",\"Briacoin\",\"Ignition\",\"Bitrolium\",\"MedicCoin\",\"Alpenschillling\",\"Bitcoin Green\",\"Deviant Coin\",\"Abjcoin\",\"Semux\",\"FuturoCoin\",\"Carebit\",\"Zealium\",\"Monero Classic\",\"Proton\",\"iDealCash\",\"Jumpcoin\",\"Infinex\",\"Bitcoin Incognito\",\"KEYCO\",\"HollyWoodCoin\",\"GINcoin\",\"PlatinCoin\",\"Loki\",\"Newton Coin\",\"Swisscoin\",\"Xt3ch\",\"MassGrid\",\"TheVig\",\"PluraCoin\",\"EmaratCoin\",\"Dekado\",\"Lynx\",\"Poseidon Quark\",\"BitcoinWSpectrum\",\"Muse\",\"Motion\",\"PlusOneCoin\",\"Axe\",\"Trivechain\",\"Dystem\",\"Giant\",\"Peony Coin\",\"Absolute Coin\",\"Vitae\",\"HexCoin\",\"TPCash\",\"Webchain\",\"Ryo\",\"Urals Coin\",\"Qwertycoin\",\"ARENON\",\"EUNO\",\"MMOCoin\",\"Ketan\",\"Project Pai\",\"XDNA\",\"PAXEX\",\"Azart\",\"ThunderStake\",\"Kcash\",\"Xchange\",\"Acute Angle Cloud\",\"CrypticCoin\",\"Bettex coin\",\"Actinium\",\"Bitcoin SV\",\"BitMoney\",\"Junson Ming Chan Coin\",\"FREDEnergy\",\"HerbCoin\",\"Universal Molecule\",\"Lithium\",\"PirateCash\",\"Exosis\",\"Block-Logic\",\"Oduwa\",\"Beam\",\"Galilel\",\"Bithereum\",\"Crypto Sports\",\"Credit\",\"SLICE\",\"Dash Platinum\",\"Nasdacoin\",\"Beetle Coin\",\"Titan Coin\",\"Award\",\"BLAST\",\"Bitcoin Rhodium\",\"GlobalToken\",\"Insane Coin\",\"ALAX\",\"LiteDoge\",\"SolarCoin\",\"TruckCoin\",\"UFO Coin\",\"OrangeCoin\",\"BlakeCoin\",\"BitstarCoin\",\"NeosCoin\",\"HyperCoin\",\"PinkCoin\",\"Crypto Escudo\",\"AudioCoin\",\"IncaKoin\",\"Piggy Coin\",\"Crown Coin\",\"Genstake\",\"SmileyCoin\",\"XiaoMiCoin\",\"Groestlcoin\",\"CapriCoin\",\" ClubCoin\",\"Radium\",\"Bata\",\"Pakcoin\",\"Creditbit \",\"OKCash\",\"Lisk\",\"HiCoin\",\"WhiteCoin\",\"FriendshipCoin\",\"JoinCoin\",\"Triangles Coin\",\"Vollar\",\"EOS\",\"Reality Clash\",\"Oxycoin\",\"TigerCash\",\"Waves\",\"Particl\",\"BitTorrent\",\"Nxt\",\"ZEPHYR\",\"Gapcoin\",\"Beldex\",\"Horizen\",\"BitcoinPlus\"],\"PC1\":{\"__ndarray__\":\"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\",\"dtype\":\"float64\",\"order\":\"little\",\"shape\":[532]},\"PC2\":{\"__ndarray__\":\"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\",\"dtype\":\"float64\",\"order\":\"little\",\"shape\":[532]},\"PC3\":{\"__ndarray__\":\"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\",\"dtype\":\"float64\",\"order\":\"little\",\"shape\":[532]},\"ProofType\":[\"PoW/PoS\",\"PoW/PoS\",\"PoW/PoS\",\"PoW\",\"PoW\",\"PoW\",\"PoW/PoS\",\"PoW\",\"PoW\",\"PoW\",\"PoS\",\"PoW\",\"PoW/PoS\",\"PoS\",\"PoW\",\"PoW/PoS\",\"PoW\",\"PoW\",\"PoW/PoS\",\"PoW/PoS\",\"PoW\",\"PoW\",\"PoW\",\"PoW\",\"PoW\",\"PoW/PoS\",\"PoW\",\"PoW\",\"PoW\",\"PoW/PoS\",\"PoW\",\"PoW/PoS\",\"PoW\",\"PoW\",\"PoC\",\"PoW/PoS\",\"PoW\",\"PoW\",\"PoW\",\"PoW\",\"PoW\",\"PoW\",\"PoS\",\"PoS/PoW/PoT\",\"PoW\",\"PoW\",\"PoW\",\"PoW\",\"PoW\",\"PoW/PoS\",\"PoS\",\"PoW\",\"PoW/PoS\",\"PoW\",\"PoW\",\"PoW\",\"PoW\",\"PoW/PoS\",\"PoW\",\"PoW\",\"PoS\",\"PoW\",\"PoW/PoS\",\"PoS\",\"PoW/PoS\",\"PoW\",\"PoW\",\"PoW\",\"PoW/PoS\",\"PoW/PoS\",\"PoW/PoS\",\"PoW/PoS\",\"PoW/PoS\",\"PoW\",\"PoW\",\"PoW\",\"PoS\",\"PoW/PoS\",\"PoW\",\"PoS\",\"PoW\",\"PoS\",\"PoW/PoS\",\"PoW\",\"PoW\",\"PoW\",\"PoW\",\"PoW/PoS\",\"PoW/PoS\",\"PoW\",\"PoST\",\"PoW\",\"PoW\",\"PoW/PoS\",\"PoS\",\"PoW\",\"PoW/PoS\",\"PoW/PoS\",\"PoW\",\"PoW\",\"PoC\",\"PoS\",\"PoW\",\"PoW/PoS\",\"PoW/PoS\",\"PoW\",\"PoS\",\"PoW\",\"PoW/PoS\",\"PoW\",\"PoS\",\"PoW\",\"PoW/PoS\",\"PoW/PoS\",\"PoW\",\"PoW\",\"PoS\",\"PoW\",\"PoW\",\"PoW\",\"PoW/PoS\",\"PoW\",\"PoW\",\"PoW\",\"PoW\",\"PoW\",\"PoW/PoS\",\"PoW/nPoS\",\"PoW\",\"PoW\",\"PoW\",\"PoW/PoS\",\"PoW\",\"PoS/PoW\",\"PoW\",\"PoW\",\"PoS\",\"PoW\",\"PoW/PoS\",\"PoW\",\"PoW/PoS\",\"PoW/PoS\",\"PoW\",\"PoW\",\"PoW/PoS\",\"PoW\",\"PoW\",\"PoW/PoS\",\"PoW/PoS\",\"PoW\",\"PoW/PoS\",\"PoW\",\"PoW/PoS\",\"PoW/PoS\",\"PoS\",\"PoW\",\"PoW\",\"PoW\",\"PoW\",\"PoW/PoS\",\"PoS\",\"PoW/PoS\",\"PoC\",\"PoS\",\"PoW\",\"PoW\",\"PoW/PoS\",\"PoW/PoS\",\"PoW/PoS\",\"PoW/PoS\",\"PoW/PoS\",\"PoW\",\"PoS\",\"PoW/PoS\",\"PoW/PoS\",\"PoW/PoS\",\"PoS\",\"PoW\",\"PoS\",\"dPoW/PoW\",\"PoW/PoS\",\"PoW/PoS\",\"PoW\",\"PoW/PoS\",\"PoW\",\"PoW/PoS\",\"PoW/PoS\",\"PoW\",\"PoW/PoS\",\"PoW\",\"PoS\",\"PoW\",\"PoW/PoW\",\"PoW\",\"PoW/PoS\",\"PoS\",\"PoW/PoS\",\"PoW/PoS\",\"PoW\",\"PoS\",\"PoS\",\"PoW/PoS\",\"PoS\",\"PoW/PoS\",\"PoW\",\"PoW\",\"DPoS\",\"PoW/PoS\",\"PoW\",\"PoW\",\"PoW/PoS\",\"PoW/PoS\",\"PoS\",\"PoW/PoS\",\"PoW/PoS\",\"PoW\",\"PoS\",\"PoW/PoS\",\"PoW/PoS\",\"PoW/PoS\",\"TPoS\",\"PoW/PoS\",\"PoW/PoS\",\"PoW/PoS\",\"PoW\",\"PoW/PoS\",\"PoS\",\"PoW/PoS\",\"PoW/PoS\",\"PoS\",\"PoW/PoS\",\"PoW\",\"PoW\",\"PoW\",\"PoW/PoS\",\"PoW/PoS\",\"PoW/PoS\",\"PoW/PoS\",\"PoW\",\"PoW/PoS\",\"PoW\",\"PoS\",\"PoW/PoS \",\"PoW\",\"PoS\",\"PoW\",\"PoW\",\"PoW/PoS\",\"PoW\",\"PoW\",\"PoS\",\"PoW\",\"PoW/PoS\",\"PoW/PoS\",\"PoW/PoS\",\"PoW\",\"PoS\",\"PoW/PoS\",\"PoW\",\"PoS\",\"PoW/PoS\",\"PoW/PoS\",\"PoW/PoS\",\"PoW/PoS\",\"PoS\",\"PoW/PoS\",\"PoW\",\"PoS\",\"PoW\",\"PoS\",\"PoW/PoS\",\"PoW/PoS\",\"PoS\",\"PoW\",\"PoS\",\"PoW\",\"PoW/PoS\",\"PoW\",\"PoW\",\"PoW\",\"PoW\",\"PoW/PoS\",\"PoW\",\"PoW/PoS\",\"PoW/PoS\",\"PoW\",\"PoW/PoS\",\"PoW\",\"PoW\",\"PoW\",\"PoW/PoS\",\"PoW\",\"PoW/PoS\",\"PoW\",\"PoW\",\"PoW\",\"PoS\",\"PoW\",\"PoW/PoS\",\"PoW\",\"PoW/PoS\",\"PoS\",\"Proof of Authority\",\"PoW\",\"PoS\",\"PoW\",\"PoW\",\"PoW\",\"PoW\",\"PoW\",\"PoW/PoS\",\"PoW/PoS\",\"PoW\",\"PoS\",\"PoS\",\"PoW/PoS\",\"PoW\",\"PoW/PoS\",\"PoW\",\"PoW/PoS\",\"PoW\",\"PoS\",\"PoW\",\"PoW/PoS\",\"PoW/PoS\",\"PoW/PoS\",\"PoW/PoS\",\"PoW\",\"PoW/PoS\",\"PoW/PoS\",\"PoW\",\"PoS\",\"PoW/PoS\",\"PoS\",\"PoW\",\"PoW\",\"PoW\",\"PoW\",\"PoW/PoS\",\"DPoS\",\"PoW/PoS\",\"PoW/PoS\",\"PoW\",\"PoW/PoS\",\"PoW\",\"PoW\",\"PoW\",\"PoS\",\"PoS\",\"PoW\",\"PoW\",\"PoW/PoS\",\"PoW/PoS\",\"PoW\",\"PoW/PoS\",\"PoW\",\"PoW\",\"PoW\",\"PoS\",\"PoW\",\"PoW\",\"PoW/PoS\",\"PoW/PoS\",\"PoS\",\"PoW\",\"PoW\",\"PoW\",\"PoS\",\"PoS\",\"PoW and PoS\",\"PoW\",\"PoW\",\"PoW/PoS\",\"PoW\",\"PoW\",\"PoW\",\"PoW\",\"PoS\",\"POBh\",\"PoW + Hive\",\"PoW\",\"PoW\",\"PoW\",\"PoW/PoS\",\"PoA\",\"PoW/PoS\",\"PoW/PoS\",\"PoS\",\"PoS\",\"PoW\",\"PoW\",\"PoW\",\"PoW\",\"PoW/PoS\",\"PoW/PoS\",\"PoW/PoS\",\"PoW\",\"PoS\",\"PoW\",\"PoS\",\"PoS\",\"PoW/PoS\",\"DPoS\",\"PoW\",\"PoW/PoS\",\"PoS\",\"PoW\",\"PoS\",\"PoW/PoS\",\"PoW\",\"PoW\",\"PoS/PoW\",\"PoW\",\"PoS\",\"PoW\",\"PoW\",\"PoW\",\"PoW\",\"PoW/PoS\",\"PoS\",\"PoW\",\"PoW/PoS\",\"PoW\",\"PoW/PoS\",\"PoS\",\"HPoW\",\"PoS\",\"PoS\",\"PoS\",\"PoW\",\"PoW\",\"PoW\",\"PoW/PoS\",\"PoS\",\"PoW/PoS\",\"PoS\",\"PoW/PoS\",\"PoS\",\"PoW\",\"PoW/PoS\",\"PoW\",\"PoW\",\"PoW\",\"PoW\",\"PoS\",\"PoW/PoS\",\"PoS\",\"PoS\",\"PoW\",\"PoW/PoS\",\"PoS\",\"PoW\",\"PoW/PoS\",\"Zero-Knowledge Proof\",\"PoW\",\"DPOS\",\"PoW\",\"PoS\",\"PoW\",\"PoW\",\"Pos\",\"PoS\",\"PoW\",\"PoW/PoS\",\"PoW\",\"PoW\",\"PoS\",\"PoW\",\"PoW\",\"PoW/PoS\",\"PoW\",\"PoW/PoS\",\"PoW\",\"PoS\",\"PoW/PoS\",\"PoW\",\"PoS\",\"PoW/PoS\",\"PoW/PoS\",\"PoW/PoS\",\"PoW/PoS\",\"PoW\",\"PoW\",\"PoW\",\"PoW/PoS\",\"DPoS\",\"PoW/PoS\",\"PoW\",\"PoW/PoS\",\"PoW\",\"PoW/PoS\",\"PoW\",\"PoW/PoS\",\"PoS\",\"PoW/PoS\",\"PoW/PoS\",\"PoW\",\"PoW/PoS\",\"PoW/PoS\",\"PoW/PoS\",\"PoW\",\"PoW/PoS\",\"PoW\",\"PoW/PoS\",\"PoW\",\"PoW/PoS\",\"PoW/PoS\",\"PoS\",\"PoW\",\"PoW\",\"Proof of Trust\",\"PoW/PoS\",\"DPoS\",\"PoS\",\"PoW/PoS\",\"PoW/PoS\",\"PoW\",\"PoW/PoS\",\"PoW\",\"DPoS\",\"PoW\",\"DPoS\",\"PoS\",\"LPoS\",\"PoS\",\"DPoS\",\"PoS/LPoS\",\"DPoS\",\"PoW/PoS\",\"PoW\",\"PoW\",\"PoS\"],\"TotalCoinSupply\":[\"42\",\"532000000\",\"314159265359\",\"21000000\",\"0\",\"84000000\",\"22000000\",\"0\",\"210000000\",\"21000000\",\"3600570502\",\"21000000000\",\"22000000\",\"12500000\",\"21000000\",\"350000000\",\"20000000\",\"64000000\",\"16768584\",\"0\",\"2000000000\",\"384000000000\",\"169795588\",\"250000000\",\"100000000\",\"0\",\"247000000\",\"84000000\",\"48166000\",\"500000\",\"21000000 \",\"1000000\",\"13140000\",\"18000000\",\"40000000000\",\"4380000\",\"16555000000\",\"21000000000\",\"13500000000\",\"21000000 \",\"299792458\",\"32000000\",\"0\",\"0\",\"11235813\",\"336000000\",\"1420609614\",\"70000000\",\"72245700\",\"120000000\",\"0\",\"90600000000\",\"22000000\",\"21000000\",\"265420800\",\"20000000\",\"1350000\",\"100000000\",\"42000000\",\"200000000\",\"0\",\"10000000\",\"2419200000\",\"16180000\",\"0\",\"15000000000\",\"21000000\",\"337000000\",\"0\",\"3770000\",\"420000000\",\"98000000\",\"0\",\"21000000\",\"250000000\",\"51200000\",\"0\",\"1000\",\"888000000\",\"100000000\",\"47011968\",\"2300000000\",\"10000000\",\"42000000\",\"80000000\",\"250000\",\"0\",\"1600000000\",\"100000000\",\"23000000\",\"0\",\"84000000\",\"265420800\",\"5500000\",\"0\",\"45000000\",\"0\",\"1000000000\",\"184467440735\",\"10000000000\",\"2158812800\",\"500000000\",\"105120000\",\"68000000\",\"0\",\"1680000000\",\"0\",\"166386000\",\"12000000\",\"2628000\",\"500000000\",\"160000000\",\"0\",\"10000000\",\"1000000000\",\"1000000000\",\"20000000\",\"0\",\"0\",\"3371337\",\"20000000\",\"10000000000\",\"1840000000\",\"619478\",\"21000000\",\"92000000000\",\"0\",\"78000000\",\"33000000\",\"65789100\",\"53760000\",\"5060000\",\"21000000\",\"0\",\"210240000\",\"250000000\",\"100000000\",\"16906397\",\"50000000\",\"0\",\"1000000000\",\"26298000\",\"16000000\",\"21000000\",\"21000000\",\"210000000\",\"81962100\",\"22000000\",\"26550000000\",\"84000000\",\"10500000\",\"21626280000 \",\"0\",\"42000000\",\"221052632\",\"84000000\",\"30000000\",\"168351300\",\"24000000\",\"384000000\",\" 99000000000\",\"40000000\",\"2147483647\",\"20000000\",\"20000000\",\"25000000\",\"75000000\",\"222725000\",\"525000000\",\"90000000\",\"139000000\",\"616448\",\"33500000\",\"2000000000\",\"44333333\",\"100000000\",\"200000000\",\"25000000\",\"657000000\",\"200000000\",\"50000000\",\"90000000\",\"10000000\",\"21000000\",\"9736000\",\"3000000\",\"21000000\",\"1200000000\",\"0\",\"200000000\",\"0\",\"10638298\",\"3100000000\",\"30000000\",\"20000000000\",\"74000000\",\"0\",\"1500000000\",\"21400000\",\"39999898\",\"2500124\",\"100000000\",\"301000000\",\"7506000000\",\"26205539\",\"21000000\",\"125000000\",\"30000000\",\"10000000000\",\"500000000\",\"850000000\",\"3853326.77707314\",\"50000000\",\"38540000 \",\"42000000\",\"228000000\",\"20000000\",\"60000000\",\"20000000\",\"33000000\",\"76500000\",\"28000000\",\"650659833\",\"5000000\",\"21000000\",\"144000000\",\"32514916898\",\"13000000\",\"3315789\",\"15000000\",\"78835200\",\"2714286\",\"25000000\",\"9999999\",\"500000000\",\"21000000\",\"9354000\",\"20000000\",\"100000000000\",\"21933333\",\"185000000\",\"55000000\",\"110000000\",\"3360000\",\"14524851.4827\",\"1000000000\",\"17000000\",\"1000000000\",\"100000000 \",\"21000000\",\"34426423\",\"2232901\",\"100000000\",\"36900000\",\"110000000\",\"4000000000\",\"110290030\",\"100000000\",\"48252000\",\"400000000\",\"500000000\",\"21212121\",\"28600000\",\"1000000000\",\"75000000000\",\"40000000\",\"35520400\",\"2000000000\",\"2500000000\",\"30000000\",\"105000000\",\"90000000000\",\"200084200\",\"72000000\",\"100000000\",\"105000000\",\"50000000000\",\"0\",\"340282367\",\"30000000\",\"2000000000\",\"10000000\",\"100000000\",\"120000000\",\"100000000\",\"19276800\",\"30000000\",\" 75000000\",\"60000000\",\"18900000\",\"50000000000\",\"54000000\",\"18898187.6216583\",\"21000000\",\"200000000000\",\"5000000000\",\"137500000\",\"1100000000\",\"100000000\",\"21000000\",\"9507271\",\"17405891.19707116\",\"86712634466\",\"10500000000\",\"61599965\",\"0\",\"20000000\",\"84000000\",\"100000000\",\"100000000\",\"48252000\",\"4200000\",\"88888888\",\"91388946\",\"45000000000\",\"27000000\",\"21000000000\",\"400000000\",\"1800000000\",\"15733333\",\"27000000\",\"24000000\",\"21000000\",\"25000000000\",\"100000000\",\"1200000000\",\"60000000\",\"156306732.71\",\"21000000\",\"200000000\",\"100000000\",\"21000000\",\"14788275.991\",\"9000000000\",\"350000000\",\"45000000\",\"280000000\",\"31800000\",\"144000000\",\"500000000\",\"30000000000\",\"210000000\",\"660000000\",\"210000000\",\"85000000000\",\"12500000\",\"10000000000\",\"27716121\",\"20000000\",\"550000000\",\"999481516\",\"50000000000\",\"150000000\",\"4999999999\",\"50000000\",\" 90000000000\",\"19800000\",\"21000000\",\"120000000\",\"500000000\",\"64000000\",\"900000000\",\"4000000\",\"21000000\",\"23000000\",\"20166000\",\"23000000\",\"25000000\",\"1618033\",\"30000000\",\"1000000000000\",\"16600000\",\"232000000\",\"336000000\",\"10000000000\",\"100000000\",\"1100000000\",\"800000000\",\"5200000000\",\"840000000\",\"40000000\",\"18406979840\",\"500000000\",\"19340594\",\"252460800\",\"25000000\",\"60000000\",\"124000000\",\"1000000000\",\"6500000000\",\"1000000000\",\"21000000\",\"25000000\",\"50000000\",\"3000000\",\"5000000\",\"70000000\",\"500000000\",\"300000000\",\"21000000\",\"88000000\",\"30000000\",\"100000000\",\"100000000\",\"200000000\",\"80000000\",\"18400000\",\"45000000\",\"5121951220\",\"21000000\",\"26280000\",\"21000000\",\"18000000\",\"26000000\",\"10500000\",\"600000518\",\"150000000\",\"184000000000\",\"10200000000\",\"44000000\",\"168000000\",\"100000000\",\"1000000000\",\"84000000\",\"90000000\",\"92000000000\",\"650000000 \",\"100262205\",\"18081806 \",\"22075700\",\"21000000\",\"21000000\",\"82546564\",\"21000000\",\"5151000\",\"16880000000\",\"52500000\",\"100000000\",\"22105263\",\"1000000000\",\"1750000000\",\"88188888\",\"210000000\",\"184470000000\",\"55000000\",\"50000000\",\"260000000\",\"210000000\",\"2100000000\",\"366000000\",\"100000000\",\"25000000\",\"18000000000\",\"1000000000\",\"100000000\",\"1000000000\",\"7600000000\",\"50000000\",\"84000000\",\"21000000\",\"70000000000\",\"0\",\"8080000000\",\"54000000\",\"105120001.44\",\"25228800\",\"105000000\",\"21000000\",\"120000000\",\"21000000\",\"262800000\",\"19035999\",\"30886000\",\"13370000\",\"74800000000\",\"100000000\",\"19700000\",\"84000000\",\"500000000\",\"5000000000\",\"420000000\",\"64000000\",\"2100000\",\"168000000\",\"30000000\",\"1000000000\",\"35000000000\",\"98100000000\",\"0\",\"4000000000\",\"200000000\",\"7000000000\",\"54256119\",\"21000000\",\"0\",\"500000000\",\"1000000000\",\"10500000000\",\"190000000\",\"1000000000\",\"42000000\",\"15000000\",\"50000000000\",\"400000000\",\"105000000\",\"208000000\",\"160000000\",\"9000000\",\"5000000\",\"182000000\",\"16504333\",\"105000000\",\"159918400\",\"10008835635\",\"300000000\",\"60168145\",\"2800000\",\"120000\",\"2100000000\",\"0\",\"24487944\",\"0\",\"1000000000\",\"100000000\",\"8634140\",\"990000000000\",\"1000000000\",\"2000000000\",\"250000000\",\"1400222610\",\"21000000\",\"1000000\"],\"TotalCoinsMined\":{\"__ndarray__\":\"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\",\"dtype\":\"float64\",\"order\":\"little\",\"shape\":[532]}},\"selected\":{\"id\":\"1672\"},\"selection_policy\":{\"id\":\"1721\"}},\"id\":\"1671\",\"type\":\"ColumnDataSource\"},{\"attributes\":{},\"id\":\"1714\",\"type\":\"IntEditor\"},{\"attributes\":{\"source\":{\"id\":\"1671\"}},\"id\":\"1720\",\"type\":\"CDSView\"},{\"attributes\":{\"format\":\"0,0.0[00000]\"},\"id\":\"1683\",\"type\":\"NumberFormatter\"},{\"attributes\":{\"columns\":[{\"id\":\"1675\"},{\"id\":\"1680\"},{\"id\":\"1685\"},{\"id\":\"1690\"},{\"id\":\"1695\"},{\"id\":\"1700\"},{\"id\":\"1705\"},{\"id\":\"1710\"},{\"id\":\"1715\"}],\"height\":300,\"reorderable\":false,\"source\":{\"id\":\"1671\"},\"view\":{\"id\":\"1720\"},\"width\":700},\"id\":\"1718\",\"type\":\"DataTable\"},{\"attributes\":{},\"id\":\"1673\",\"type\":\"StringFormatter\"},{\"attributes\":{},\"id\":\"1674\",\"type\":\"StringEditor\"},{\"attributes\":{\"format\":\"0,0.0[00000]\"},\"id\":\"1698\",\"type\":\"NumberFormatter\"},{\"attributes\":{},\"id\":\"1713\",\"type\":\"NumberFormatter\"},{\"attributes\":{},\"id\":\"1721\",\"type\":\"UnionRenderers\"},{\"attributes\":{\"editor\":{\"id\":\"1709\"},\"field\":\"CoinName\",\"formatter\":{\"id\":\"1708\"},\"title\":\"CoinName\"},\"id\":\"1710\",\"type\":\"TableColumn\"},{\"attributes\":{\"editor\":{\"id\":\"1674\"},\"field\":\"Algorithm\",\"formatter\":{\"id\":\"1673\"},\"title\":\"Algorithm\"},\"id\":\"1675\",\"type\":\"TableColumn\"},{\"attributes\":{},\"id\":\"1678\",\"type\":\"StringFormatter\"},{\"attributes\":{\"children\":[{\"id\":\"1670\"},{\"id\":\"1718\"},{\"id\":\"1725\"}],\"margin\":[0,0,0,0],\"name\":\"Row02882\",\"tags\":[\"embedded\"]},\"id\":\"1669\",\"type\":\"Row\"},{\"attributes\":{},\"id\":\"1679\",\"type\":\"StringEditor\"},{\"attributes\":{\"margin\":[5,5,5,5],\"name\":\"HSpacer02886\",\"sizing_mode\":\"stretch_width\"},\"id\":\"1670\",\"type\":\"Spacer\"},{\"attributes\":{},\"id\":\"1708\",\"type\":\"StringFormatter\"},{\"attributes\":{\"editor\":{\"id\":\"1684\"},\"field\":\"TotalCoinsMined\",\"formatter\":{\"id\":\"1683\"},\"title\":\"TotalCoinsMined\"},\"id\":\"1685\",\"type\":\"TableColumn\"},{\"attributes\":{},\"id\":\"1688\",\"type\":\"StringFormatter\"},{\"attributes\":{},\"id\":\"1709\",\"type\":\"StringEditor\"},{\"attributes\":{\"editor\":{\"id\":\"1679\"},\"field\":\"ProofType\",\"formatter\":{\"id\":\"1678\"},\"title\":\"ProofType\"},\"id\":\"1680\",\"type\":\"TableColumn\"},{\"attributes\":{\"editor\":{\"id\":\"1689\"},\"field\":\"TotalCoinSupply\",\"formatter\":{\"id\":\"1688\"},\"title\":\"TotalCoinSupply\"},\"id\":\"1690\",\"type\":\"TableColumn\"}],\"root_ids\":[\"1669\"]},\"title\":\"Bokeh Application\",\"version\":\"2.3.2\"}};\n",
       "    var render_items = [{\"docid\":\"1836dda3-25bf-423c-8c88-44ddbe002513\",\"root_ids\":[\"1669\"],\"roots\":{\"1669\":\"5183adbb-8c5e-4381-9b96-a9cf26170eac\"}}];\n",
       "    root.Bokeh.embed.embed_items_notebook(docs_json, render_items);\n",
       "  }\n",
       "  if (root.Bokeh !== undefined && root.Bokeh.Panel !== undefined) {\n",
       "    embed_document(root);\n",
       "  } else {\n",
       "    var attempts = 0;\n",
       "    var timer = setInterval(function(root) {\n",
       "      if (root.Bokeh !== undefined && root.Bokeh.Panel !== undefined) {\n",
       "        clearInterval(timer);\n",
       "        embed_document(root);\n",
       "      } else if (document.readyState == \"complete\") {\n",
       "        attempts++;\n",
       "        if (attempts > 200) {\n",
       "          clearInterval(timer);\n",
       "          console.log(\"Bokeh: ERROR: Unable to run BokehJS code because BokehJS library is missing\");\n",
       "        }\n",
       "      }\n",
       "    }, 25, root)\n",
       "  }\n",
       "})(window);</script>"
      ],
      "text/plain": [
       ":Table   [Algorithm,ProofType,TotalCoinsMined,TotalCoinSupply,PC1,PC2,PC3,CoinName,Class]"
      ]
     },
     "execution_count": 52,
     "metadata": {
      "application/vnd.holoviews_exec.v0+json": {
       "id": "1669"
      }
     },
     "output_type": "execute_result"
    }
   ],
   "source": [
    "# Create a table with tradable cryptocurrencies.\n",
    "clustered_df.hvplot.table(sortable=True, selectable=True)"
   ]
  },
  {
   "cell_type": "code",
   "execution_count": 53,
   "metadata": {},
   "outputs": [
    {
     "name": "stdout",
     "output_type": "stream",
     "text": [
      "There are 532 tradable cryptocurrencies\n"
     ]
    }
   ],
   "source": [
    "# Print the total number of tradable cryptocurrencies.\n",
    "count= clustered_df['CoinName'].count()\n",
    "print(f'There are {count} tradable cryptocurrencies')"
   ]
  },
  {
   "cell_type": "code",
   "execution_count": 54,
   "metadata": {},
   "outputs": [
    {
     "name": "stdout",
     "output_type": "stream",
     "text": [
      "[[4.20000000e-11 0.00000000e+00]\n",
      " [5.32000000e-04 1.06585544e-03]\n",
      " [3.14159265e-01 2.95755135e-02]\n",
      " ...\n",
      " [1.40022261e-03 9.90135079e-04]\n",
      " [2.10000000e-05 7.37028150e-06]\n",
      " [1.00000000e-06 1.29582282e-07]]\n"
     ]
    }
   ],
   "source": [
    "# Scaling data to create the scatter plot with tradable cryptocurrencies.\n",
    "scaled =MinMaxScaler().fit_transform(clustered_df[[\"TotalCoinSupply\",\"TotalCoinsMined\"]])\n",
    "print(scaled)"
   ]
  },
  {
   "cell_type": "code",
   "execution_count": 55,
   "metadata": {},
   "outputs": [
    {
     "data": {
      "text/html": [
       "<div>\n",
       "<style scoped>\n",
       "    .dataframe tbody tr th:only-of-type {\n",
       "        vertical-align: middle;\n",
       "    }\n",
       "\n",
       "    .dataframe tbody tr th {\n",
       "        vertical-align: top;\n",
       "    }\n",
       "\n",
       "    .dataframe thead th {\n",
       "        text-align: right;\n",
       "    }\n",
       "</style>\n",
       "<table border=\"1\" class=\"dataframe\">\n",
       "  <thead>\n",
       "    <tr style=\"text-align: right;\">\n",
       "      <th></th>\n",
       "      <th>TotalCoinSupply</th>\n",
       "      <th>TotalCoinsMined</th>\n",
       "      <th>CoinName</th>\n",
       "      <th>Class</th>\n",
       "    </tr>\n",
       "  </thead>\n",
       "  <tbody>\n",
       "    <tr>\n",
       "      <th>42</th>\n",
       "      <td>4.200000e-11</td>\n",
       "      <td>0.000000</td>\n",
       "      <td>42 Coin</td>\n",
       "      <td>0</td>\n",
       "    </tr>\n",
       "    <tr>\n",
       "      <th>404</th>\n",
       "      <td>5.320000e-04</td>\n",
       "      <td>0.001066</td>\n",
       "      <td>404Coin</td>\n",
       "      <td>0</td>\n",
       "    </tr>\n",
       "    <tr>\n",
       "      <th>1337</th>\n",
       "      <td>3.141593e-01</td>\n",
       "      <td>0.029576</td>\n",
       "      <td>EliteCoin</td>\n",
       "      <td>0</td>\n",
       "    </tr>\n",
       "    <tr>\n",
       "      <th>BTC</th>\n",
       "      <td>2.100000e-05</td>\n",
       "      <td>0.000018</td>\n",
       "      <td>Bitcoin</td>\n",
       "      <td>3</td>\n",
       "    </tr>\n",
       "    <tr>\n",
       "      <th>ETH</th>\n",
       "      <td>0.000000e+00</td>\n",
       "      <td>0.000109</td>\n",
       "      <td>Ethereum</td>\n",
       "      <td>3</td>\n",
       "    </tr>\n",
       "    <tr>\n",
       "      <th>LTC</th>\n",
       "      <td>8.400000e-05</td>\n",
       "      <td>0.000064</td>\n",
       "      <td>Litecoin</td>\n",
       "      <td>3</td>\n",
       "    </tr>\n",
       "    <tr>\n",
       "      <th>DASH</th>\n",
       "      <td>2.200000e-05</td>\n",
       "      <td>0.000009</td>\n",
       "      <td>Dash</td>\n",
       "      <td>0</td>\n",
       "    </tr>\n",
       "    <tr>\n",
       "      <th>XMR</th>\n",
       "      <td>0.000000e+00</td>\n",
       "      <td>0.000017</td>\n",
       "      <td>Monero</td>\n",
       "      <td>3</td>\n",
       "    </tr>\n",
       "    <tr>\n",
       "      <th>ETC</th>\n",
       "      <td>2.100000e-04</td>\n",
       "      <td>0.000115</td>\n",
       "      <td>Ethereum Classic</td>\n",
       "      <td>3</td>\n",
       "    </tr>\n",
       "    <tr>\n",
       "      <th>ZEC</th>\n",
       "      <td>2.100000e-05</td>\n",
       "      <td>0.000007</td>\n",
       "      <td>ZCash</td>\n",
       "      <td>3</td>\n",
       "    </tr>\n",
       "  </tbody>\n",
       "</table>\n",
       "</div>"
      ],
      "text/plain": [
       "      TotalCoinSupply  TotalCoinsMined          CoinName  Class\n",
       "42       4.200000e-11         0.000000           42 Coin      0\n",
       "404      5.320000e-04         0.001066           404Coin      0\n",
       "1337     3.141593e-01         0.029576         EliteCoin      0\n",
       "BTC      2.100000e-05         0.000018           Bitcoin      3\n",
       "ETH      0.000000e+00         0.000109          Ethereum      3\n",
       "LTC      8.400000e-05         0.000064          Litecoin      3\n",
       "DASH     2.200000e-05         0.000009              Dash      0\n",
       "XMR      0.000000e+00         0.000017            Monero      3\n",
       "ETC      2.100000e-04         0.000115  Ethereum Classic      3\n",
       "ZEC      2.100000e-05         0.000007             ZCash      3"
      ]
     },
     "execution_count": 55,
     "metadata": {},
     "output_type": "execute_result"
    }
   ],
   "source": [
    "# Create a new DataFrame that has the scaled data with the clustered_df DataFrame index.\n",
    "new_df = pd.DataFrame(\n",
    "    data = scaled,columns = [\"TotalCoinSupply\",\"TotalCoinsMined\"], index = clustered_df.index\n",
    ")\n",
    "\n",
    "# Add the \"CoinName\" column from the clustered_df DataFrame to the new DataFrame.\n",
    "new_df = pd.concat([new_df,clustered_df['CoinName']],axis =1)\n",
    "\n",
    "# Add the \"Class\" column from the clustered_df DataFrame to the new DataFrame. \n",
    "plot_df = pd.concat([new_df,clustered_df[\"Class\"]],axis =1)\n",
    "\n",
    "plot_df.head(10)"
   ]
  },
  {
   "cell_type": "code",
   "execution_count": 56,
   "metadata": {},
   "outputs": [
    {
     "data": {},
     "metadata": {},
     "output_type": "display_data"
    },
    {
     "data": {
      "application/vnd.holoviews_exec.v0+json": "",
      "text/html": [
       "<div id='1737'>\n",
       "\n",
       "\n",
       "\n",
       "\n",
       "\n",
       "  <div class=\"bk-root\" id=\"b6f12683-a620-406f-9435-df5983c7be39\" data-root-id=\"1737\"></div>\n",
       "</div>\n",
       "<script type=\"application/javascript\">(function(root) {\n",
       "  function embed_document(root) {\n",
       "    var docs_json = {\"9de87b89-f029-419e-bfa5-9de959b01ed0\":{\"defs\":[{\"extends\":null,\"module\":null,\"name\":\"ReactiveHTML1\",\"overrides\":[],\"properties\":[]},{\"extends\":null,\"module\":null,\"name\":\"FlexBox1\",\"overrides\":[],\"properties\":[{\"default\":\"flex-start\",\"kind\":null,\"name\":\"align_content\"},{\"default\":\"flex-start\",\"kind\":null,\"name\":\"align_items\"},{\"default\":\"row\",\"kind\":null,\"name\":\"flex_direction\"},{\"default\":\"wrap\",\"kind\":null,\"name\":\"flex_wrap\"},{\"default\":\"flex-start\",\"kind\":null,\"name\":\"justify_content\"}]},{\"extends\":null,\"module\":null,\"name\":\"TemplateActions1\",\"overrides\":[],\"properties\":[{\"default\":0,\"kind\":null,\"name\":\"open_modal\"},{\"default\":0,\"kind\":null,\"name\":\"close_modal\"}]},{\"extends\":null,\"module\":null,\"name\":\"MaterialTemplateActions1\",\"overrides\":[],\"properties\":[{\"default\":0,\"kind\":null,\"name\":\"open_modal\"},{\"default\":0,\"kind\":null,\"name\":\"close_modal\"}]}],\"roots\":{\"references\":[{\"attributes\":{},\"id\":\"1764\",\"type\":\"WheelZoomTool\"},{\"attributes\":{\"fill_alpha\":{\"value\":0.1},\"fill_color\":{\"value\":\"#6d904f\"},\"line_alpha\":{\"value\":0.1},\"line_color\":{\"value\":\"#6d904f\"},\"size\":{\"value\":5.477225575051661},\"x\":{\"field\":\"TotalCoinsMined\"},\"y\":{\"field\":\"TotalCoinSupply\"}},\"id\":\"1852\",\"type\":\"Scatter\"},{\"attributes\":{\"click_policy\":\"mute\",\"items\":[{\"id\":\"1800\"},{\"id\":\"1822\"},{\"id\":\"1846\"},{\"id\":\"1872\"}],\"location\":[0,0],\"title\":\"Class\"},\"id\":\"1799\",\"type\":\"Legend\"},{\"attributes\":{\"overlay\":{\"id\":\"1767\"}},\"id\":\"1765\",\"type\":\"BoxZoomTool\"},{\"attributes\":{\"angle\":{\"value\":0.0},\"fill_alpha\":{\"value\":1.0},\"fill_color\":{\"value\":\"#30a2da\"},\"hatch_alpha\":{\"value\":1.0},\"hatch_color\":{\"value\":\"black\"},\"hatch_scale\":{\"value\":12.0},\"hatch_weight\":{\"value\":1.0},\"line_alpha\":{\"value\":1.0},\"line_cap\":{\"value\":\"butt\"},\"line_color\":{\"value\":\"#30a2da\"},\"line_dash\":{\"value\":[]},\"line_dash_offset\":{\"value\":0},\"line_join\":{\"value\":\"bevel\"},\"line_width\":{\"value\":1},\"marker\":{\"value\":\"circle\"},\"size\":{\"value\":5.477225575051661},\"x\":{\"field\":\"TotalCoinsMined\"},\"y\":{\"field\":\"TotalCoinSupply\"}},\"id\":\"1801\",\"type\":\"Scatter\"},{\"attributes\":{},\"id\":\"1766\",\"type\":\"ResetTool\"},{\"attributes\":{\"label\":{\"value\":\"1\"},\"renderers\":[{\"id\":\"1808\"}]},\"id\":\"1822\",\"type\":\"LegendItem\"},{\"attributes\":{\"source\":{\"id\":\"1802\"}},\"id\":\"1809\",\"type\":\"CDSView\"},{\"attributes\":{},\"id\":\"1797\",\"type\":\"UnionRenderers\"},{\"attributes\":{\"source\":{\"id\":\"1781\"}},\"id\":\"1788\",\"type\":\"CDSView\"},{\"attributes\":{\"fill_color\":{\"value\":\"#6d904f\"},\"line_color\":{\"value\":\"#6d904f\"},\"size\":{\"value\":5.477225575051661},\"x\":{\"field\":\"TotalCoinsMined\"},\"y\":{\"field\":\"TotalCoinSupply\"}},\"id\":\"1851\",\"type\":\"Scatter\"},{\"attributes\":{},\"id\":\"1780\",\"type\":\"BasicTickFormatter\"},{\"attributes\":{\"label\":{\"value\":\"0\"},\"renderers\":[{\"id\":\"1787\"}]},\"id\":\"1800\",\"type\":\"LegendItem\"},{\"attributes\":{\"below\":[{\"id\":\"1754\"}],\"center\":[{\"id\":\"1757\"},{\"id\":\"1761\"}],\"height\":300,\"left\":[{\"id\":\"1758\"}],\"margin\":[5,5,5,5],\"min_border_bottom\":10,\"min_border_left\":10,\"min_border_right\":10,\"min_border_top\":10,\"renderers\":[{\"id\":\"1787\"},{\"id\":\"1808\"},{\"id\":\"1830\"},{\"id\":\"1854\"}],\"right\":[{\"id\":\"1799\"}],\"sizing_mode\":\"fixed\",\"title\":{\"id\":\"1746\"},\"toolbar\":{\"id\":\"1768\"},\"width\":700,\"x_range\":{\"id\":\"1739\"},\"x_scale\":{\"id\":\"1750\"},\"y_range\":{\"id\":\"1740\"},\"y_scale\":{\"id\":\"1752\"}},\"id\":\"1745\",\"subtype\":\"Figure\",\"type\":\"Plot\"},{\"attributes\":{\"active_multi\":null,\"tools\":[{\"id\":\"1741\"},{\"id\":\"1762\"},{\"id\":\"1763\"},{\"id\":\"1764\"},{\"id\":\"1765\"},{\"id\":\"1766\"}]},\"id\":\"1768\",\"type\":\"Toolbar\"},{\"attributes\":{\"data_source\":{\"id\":\"1802\"},\"glyph\":{\"id\":\"1805\"},\"hover_glyph\":null,\"muted_glyph\":{\"id\":\"1807\"},\"nonselection_glyph\":{\"id\":\"1806\"},\"selection_glyph\":{\"id\":\"1823\"},\"view\":{\"id\":\"1809\"}},\"id\":\"1808\",\"type\":\"GlyphRenderer\"},{\"attributes\":{\"fill_color\":{\"value\":\"#30a2da\"},\"line_color\":{\"value\":\"#30a2da\"},\"size\":{\"value\":5.477225575051661},\"x\":{\"field\":\"TotalCoinsMined\"},\"y\":{\"field\":\"TotalCoinSupply\"}},\"id\":\"1784\",\"type\":\"Scatter\"},{\"attributes\":{\"fill_alpha\":{\"value\":0.2},\"fill_color\":{\"value\":\"#fc4f30\"},\"line_alpha\":{\"value\":0.2},\"line_color\":{\"value\":\"#fc4f30\"},\"size\":{\"value\":5.477225575051661},\"x\":{\"field\":\"TotalCoinsMined\"},\"y\":{\"field\":\"TotalCoinSupply\"}},\"id\":\"1807\",\"type\":\"Scatter\"},{\"attributes\":{\"bottom_units\":\"screen\",\"fill_alpha\":0.5,\"fill_color\":\"lightgrey\",\"left_units\":\"screen\",\"level\":\"overlay\",\"line_alpha\":1.0,\"line_color\":\"black\",\"line_dash\":[4,4],\"line_width\":2,\"right_units\":\"screen\",\"syncable\":false,\"top_units\":\"screen\"},\"id\":\"1767\",\"type\":\"BoxAnnotation\"},{\"attributes\":{\"end\":1.042857142857143,\"reset_end\":1.042857142857143,\"reset_start\":-0.04285714285714286,\"start\":-0.04285714285714286,\"tags\":[[[\"TotalCoinsMined\",\"TotalCoinsMined\",null]]]},\"id\":\"1739\",\"type\":\"Range1d\"},{\"attributes\":{},\"id\":\"1776\",\"type\":\"AllLabels\"},{\"attributes\":{},\"id\":\"1779\",\"type\":\"AllLabels\"},{\"attributes\":{\"margin\":[5,5,5,5],\"name\":\"HSpacer03081\",\"sizing_mode\":\"stretch_width\"},\"id\":\"2018\",\"type\":\"Spacer\"},{\"attributes\":{\"end\":1.1,\"reset_end\":1.1,\"reset_start\":-0.1,\"start\":-0.1,\"tags\":[[[\"TotalCoinSupply\",\"TotalCoinSupply\",null]]]},\"id\":\"1740\",\"type\":\"Range1d\"},{\"attributes\":{\"data_source\":{\"id\":\"1824\"},\"glyph\":{\"id\":\"1827\"},\"hover_glyph\":null,\"muted_glyph\":{\"id\":\"1829\"},\"nonselection_glyph\":{\"id\":\"1828\"},\"selection_glyph\":{\"id\":\"1847\"},\"view\":{\"id\":\"1831\"}},\"id\":\"1830\",\"type\":\"GlyphRenderer\"},{\"attributes\":{\"fill_alpha\":{\"value\":0.1},\"fill_color\":{\"value\":\"#fc4f30\"},\"line_alpha\":{\"value\":0.1},\"line_color\":{\"value\":\"#fc4f30\"},\"size\":{\"value\":5.477225575051661},\"x\":{\"field\":\"TotalCoinsMined\"},\"y\":{\"field\":\"TotalCoinSupply\"}},\"id\":\"1806\",\"type\":\"Scatter\"},{\"attributes\":{},\"id\":\"1844\",\"type\":\"UnionRenderers\"},{\"attributes\":{\"children\":[{\"id\":\"1738\"},{\"id\":\"1745\"},{\"id\":\"2018\"}],\"margin\":[0,0,0,0],\"name\":\"Row03076\",\"tags\":[\"embedded\"]},\"id\":\"1737\",\"type\":\"Row\"},{\"attributes\":{},\"id\":\"1820\",\"type\":\"UnionRenderers\"},{\"attributes\":{\"fill_alpha\":{\"value\":0.2},\"fill_color\":{\"value\":\"#e5ae38\"},\"line_alpha\":{\"value\":0.2},\"line_color\":{\"value\":\"#e5ae38\"},\"size\":{\"value\":5.477225575051661},\"x\":{\"field\":\"TotalCoinsMined\"},\"y\":{\"field\":\"TotalCoinSupply\"}},\"id\":\"1829\",\"type\":\"Scatter\"},{\"attributes\":{\"callback\":null,\"renderers\":[{\"id\":\"1787\"},{\"id\":\"1808\"},{\"id\":\"1830\"},{\"id\":\"1854\"}],\"tags\":[\"hv_created\"],\"tooltips\":[[\"Class\",\"@{Class}\"],[\"TotalCoinsMined\",\"@{TotalCoinsMined}\"],[\"TotalCoinSupply\",\"@{TotalCoinSupply}\"],[\"CoinName\",\"@{CoinName}\"]]},\"id\":\"1741\",\"type\":\"HoverTool\"},{\"attributes\":{\"angle\":{\"value\":0.0},\"fill_alpha\":{\"value\":1.0},\"fill_color\":{\"value\":\"#e5ae38\"},\"hatch_alpha\":{\"value\":1.0},\"hatch_color\":{\"value\":\"black\"},\"hatch_scale\":{\"value\":12.0},\"hatch_weight\":{\"value\":1.0},\"line_alpha\":{\"value\":1.0},\"line_cap\":{\"value\":\"butt\"},\"line_color\":{\"value\":\"#e5ae38\"},\"line_dash\":{\"value\":[]},\"line_dash_offset\":{\"value\":0},\"line_join\":{\"value\":\"bevel\"},\"line_width\":{\"value\":1},\"marker\":{\"value\":\"circle\"},\"size\":{\"value\":5.477225575051661},\"x\":{\"field\":\"TotalCoinsMined\"},\"y\":{\"field\":\"TotalCoinSupply\"}},\"id\":\"1847\",\"type\":\"Scatter\"},{\"attributes\":{\"angle\":{\"value\":0.0},\"fill_alpha\":{\"value\":1.0},\"fill_color\":{\"value\":\"#fc4f30\"},\"hatch_alpha\":{\"value\":1.0},\"hatch_color\":{\"value\":\"black\"},\"hatch_scale\":{\"value\":12.0},\"hatch_weight\":{\"value\":1.0},\"line_alpha\":{\"value\":1.0},\"line_cap\":{\"value\":\"butt\"},\"line_color\":{\"value\":\"#fc4f30\"},\"line_dash\":{\"value\":[]},\"line_dash_offset\":{\"value\":0},\"line_join\":{\"value\":\"bevel\"},\"line_width\":{\"value\":1},\"marker\":{\"value\":\"circle\"},\"size\":{\"value\":5.477225575051661},\"x\":{\"field\":\"TotalCoinsMined\"},\"y\":{\"field\":\"TotalCoinSupply\"}},\"id\":\"1823\",\"type\":\"Scatter\"},{\"attributes\":{\"margin\":[5,5,5,5],\"name\":\"HSpacer03080\",\"sizing_mode\":\"stretch_width\"},\"id\":\"1738\",\"type\":\"Spacer\"},{\"attributes\":{\"data_source\":{\"id\":\"1848\"},\"glyph\":{\"id\":\"1851\"},\"hover_glyph\":null,\"muted_glyph\":{\"id\":\"1853\"},\"nonselection_glyph\":{\"id\":\"1852\"},\"selection_glyph\":{\"id\":\"1873\"},\"view\":{\"id\":\"1855\"}},\"id\":\"1854\",\"type\":\"GlyphRenderer\"},{\"attributes\":{},\"id\":\"1782\",\"type\":\"Selection\"},{\"attributes\":{},\"id\":\"1755\",\"type\":\"BasicTicker\"},{\"attributes\":{},\"id\":\"1750\",\"type\":\"LinearScale\"},{\"attributes\":{\"angle\":{\"value\":0.0},\"fill_alpha\":{\"value\":1.0},\"fill_color\":{\"value\":\"#6d904f\"},\"hatch_alpha\":{\"value\":1.0},\"hatch_color\":{\"value\":\"black\"},\"hatch_scale\":{\"value\":12.0},\"hatch_weight\":{\"value\":1.0},\"line_alpha\":{\"value\":1.0},\"line_cap\":{\"value\":\"butt\"},\"line_color\":{\"value\":\"#6d904f\"},\"line_dash\":{\"value\":[]},\"line_dash_offset\":{\"value\":0},\"line_join\":{\"value\":\"bevel\"},\"line_width\":{\"value\":1},\"marker\":{\"value\":\"circle\"},\"size\":{\"value\":5.477225575051661},\"x\":{\"field\":\"TotalCoinsMined\"},\"y\":{\"field\":\"TotalCoinSupply\"}},\"id\":\"1873\",\"type\":\"Scatter\"},{\"attributes\":{\"source\":{\"id\":\"1824\"}},\"id\":\"1831\",\"type\":\"CDSView\"},{\"attributes\":{},\"id\":\"1870\",\"type\":\"UnionRenderers\"},{\"attributes\":{\"axis\":{\"id\":\"1754\"},\"grid_line_color\":null,\"ticker\":null},\"id\":\"1757\",\"type\":\"Grid\"},{\"attributes\":{\"label\":{\"value\":\"3\"},\"renderers\":[{\"id\":\"1854\"}]},\"id\":\"1872\",\"type\":\"LegendItem\"},{\"attributes\":{},\"id\":\"1752\",\"type\":\"LinearScale\"},{\"attributes\":{\"axis_label\":\"TotalCoinSupply\",\"formatter\":{\"id\":\"1780\"},\"major_label_policy\":{\"id\":\"1779\"},\"ticker\":{\"id\":\"1759\"}},\"id\":\"1758\",\"type\":\"LinearAxis\"},{\"attributes\":{\"fill_alpha\":{\"value\":0.2},\"fill_color\":{\"value\":\"#6d904f\"},\"line_alpha\":{\"value\":0.2},\"line_color\":{\"value\":\"#6d904f\"},\"size\":{\"value\":5.477225575051661},\"x\":{\"field\":\"TotalCoinsMined\"},\"y\":{\"field\":\"TotalCoinSupply\"}},\"id\":\"1853\",\"type\":\"Scatter\"},{\"attributes\":{\"axis_label\":\"TotalCoinsMined\",\"formatter\":{\"id\":\"1777\"},\"major_label_policy\":{\"id\":\"1776\"},\"ticker\":{\"id\":\"1755\"}},\"id\":\"1754\",\"type\":\"LinearAxis\"},{\"attributes\":{\"fill_alpha\":{\"value\":0.2},\"fill_color\":{\"value\":\"#30a2da\"},\"line_alpha\":{\"value\":0.2},\"line_color\":{\"value\":\"#30a2da\"},\"size\":{\"value\":5.477225575051661},\"x\":{\"field\":\"TotalCoinsMined\"},\"y\":{\"field\":\"TotalCoinSupply\"}},\"id\":\"1786\",\"type\":\"Scatter\"},{\"attributes\":{\"fill_color\":{\"value\":\"#fc4f30\"},\"line_color\":{\"value\":\"#fc4f30\"},\"size\":{\"value\":5.477225575051661},\"x\":{\"field\":\"TotalCoinsMined\"},\"y\":{\"field\":\"TotalCoinSupply\"}},\"id\":\"1805\",\"type\":\"Scatter\"},{\"attributes\":{\"fill_alpha\":{\"value\":0.1},\"fill_color\":{\"value\":\"#30a2da\"},\"line_alpha\":{\"value\":0.1},\"line_color\":{\"value\":\"#30a2da\"},\"size\":{\"value\":5.477225575051661},\"x\":{\"field\":\"TotalCoinsMined\"},\"y\":{\"field\":\"TotalCoinSupply\"}},\"id\":\"1785\",\"type\":\"Scatter\"},{\"attributes\":{\"fill_color\":{\"value\":\"#e5ae38\"},\"line_color\":{\"value\":\"#e5ae38\"},\"size\":{\"value\":5.477225575051661},\"x\":{\"field\":\"TotalCoinsMined\"},\"y\":{\"field\":\"TotalCoinSupply\"}},\"id\":\"1827\",\"type\":\"Scatter\"},{\"attributes\":{\"data\":{\"Class\":[2],\"CoinName\":[\"BitTorrent\"],\"TotalCoinSupply\":{\"__ndarray__\":\"rkfhehSu7z8=\",\"dtype\":\"float64\",\"order\":\"little\",\"shape\":[1]},\"TotalCoinsMined\":{\"__ndarray__\":\"AAAAAAAA8D8=\",\"dtype\":\"float64\",\"order\":\"little\",\"shape\":[1]}},\"selected\":{\"id\":\"1825\"},\"selection_policy\":{\"id\":\"1844\"}},\"id\":\"1824\",\"type\":\"ColumnDataSource\"},{\"attributes\":{},\"id\":\"1759\",\"type\":\"BasicTicker\"},{\"attributes\":{\"axis\":{\"id\":\"1758\"},\"dimension\":1,\"grid_line_color\":null,\"ticker\":null},\"id\":\"1761\",\"type\":\"Grid\"},{\"attributes\":{},\"id\":\"1777\",\"type\":\"BasicTickFormatter\"},{\"attributes\":{\"data\":{\"Class\":[0,0,0,0,0,0,0,0,0,0,0,0,0,0,0,0,0,0,0,0,0,0,0,0,0,0,0,0,0,0,0,0,0,0,0,0,0,0,0,0,0,0,0,0,0,0,0,0,0,0,0,0,0,0,0,0,0,0,0,0,0,0,0,0,0,0,0,0,0,0,0,0,0,0,0,0,0,0,0,0,0,0,0,0,0,0,0,0,0,0,0,0,0,0,0,0,0,0,0,0,0,0,0,0,0,0,0,0,0,0,0,0,0,0,0,0,0,0,0,0,0,0,0,0,0,0,0,0,0,0,0,0,0,0,0,0,0,0,0,0,0,0,0,0,0,0,0,0,0,0,0,0,0,0,0,0,0,0,0,0,0,0,0,0,0,0,0,0,0,0,0,0,0,0,0,0,0,0,0,0,0,0,0,0,0,0,0,0,0,0,0,0,0,0,0,0,0,0,0,0,0,0,0,0,0,0,0,0,0,0,0,0,0,0,0,0,0,0,0,0,0,0,0,0,0,0,0,0,0,0,0,0,0,0,0,0,0,0,0,0,0,0,0,0,0,0,0,0,0,0,0,0,0,0,0,0,0,0,0,0,0,0,0,0,0,0,0,0,0,0,0,0,0,0,0,0,0,0,0,0,0,0,0,0,0,0,0,0,0],\"CoinName\":[\"42 Coin\",\"404Coin\",\"EliteCoin\",\"Dash\",\"Bitshares\",\"BitcoinDark\",\"PayCoin\",\"KoboCoin\",\"Aurora Coin\",\"BlueCoin\",\"EnergyCoin\",\"BitBar\",\"CryptoBullion\",\"CasinoCoin\",\"Diamond\",\"Exclusive Coin\",\"FlutterCoin\",\"HoboNickels\",\"HyperStake\",\"IOCoin\",\"MaxCoin\",\"MintCoin\",\"MazaCoin\",\"Nautilus Coin\",\"NavCoin\",\"OpalCoin\",\"Orbitcoin\",\"PotCoin\",\"PhoenixCoin\",\"Reddcoin\",\"SuperCoin\",\"SyncCoin\",\"TeslaCoin\",\"TittieCoin\",\"TorCoin\",\"UnitaryStatus Dollar\",\"UltraCoin\",\"VeriCoin\",\"X11 Coin\",\"Crypti\",\"StealthCoin\",\"ZCC Coin\",\"BurstCoin\",\"StorjCoin\",\"Neutron\",\"FairCoin\",\"RubyCoin\",\"Kore\",\"Dnotes\",\"8BIT Coin\",\"Sativa Coin\",\"Ucoin\",\"Vtorrent\",\"IslaCoin\",\"Nexus\",\"Droidz\",\"Squall Coin\",\"Diggits\",\"Paycon\",\"Emercoin\",\"EverGreenCoin\",\"Decred\",\"EDRCoin\",\"Hitcoin\",\"DubaiCoin\",\"PWR Coin\",\"BillaryCoin\",\"GPU Coin\",\"EuropeCoin\",\"ZeitCoin\",\"SwingCoin\",\"SafeExchangeCoin\",\"Nebuchadnezzar\",\"Ratecoin\",\"Revenu\",\"Clockcoin\",\"VIP Tokens\",\"BitSend\",\"Let it Ride\",\"PutinCoin\",\"iBankCoin\",\"Frankywillcoin\",\"MudraCoin\",\"Lutetium Coin\",\"GoldBlocks\",\"CarterCoin\",\"BitTokens\",\"MustangCoin\",\"ZoneCoin\",\"RootCoin\",\"BitCurrency\",\"Swiscoin\",\"BuzzCoin\",\"Opair\",\"PesoBit\",\"Halloween Coin\",\"CoffeeCoin\",\"RoyalCoin\",\"GanjaCoin V2\",\"TeamUP\",\"LanaCoin\",\"ARK\",\"InsaneCoin\",\"EmberCoin\",\"XenixCoin\",\"FreeCoin\",\"PLNCoin\",\"AquariusCoin\",\"Creatio\",\"Eternity\",\"Eurocoin\",\"BitcoinFast\",\"Stakenet\",\"BitConnect Coin\",\"MoneyCoin\",\"Enigma\",\"Russiacoin\",\"PandaCoin\",\"GameUnits\",\"GAKHcoin\",\"Allsafe\",\"LiteCreed\",\"Klingon Empire Darsek\",\"Internet of People\",\"KushCoin\",\"Printerium\",\"Impeach\",\"Zilbercoin\",\"FirstCoin\",\"FindCoin\",\"OpenChat\",\"RenosCoin\",\"VirtacoinPlus\",\"TajCoin\",\"Impact\",\"Atmos\",\"HappyCoin\",\"MacronCoin\",\"Condensate\",\"Independent Money System\",\"ArgusCoin\",\"LomoCoin\",\"ProCurrency\",\"GoldReserve\",\"GrowthCoin\",\"Phreak\",\"Degas Coin\",\"HTML5 Coin\",\"Ultimate Secure Cash\",\"QTUM\",\"Espers\",\"Denarius\",\"Virta Unique Coin\",\"Bitcoin Planet\",\"BritCoin\",\"Linda\",\"DeepOnion\",\"Signatum\",\"Cream\",\"Monoeci\",\"Draftcoin\",\"Stakecoin\",\"CoinonatX\",\"Ethereum Dark\",\"Obsidian\",\"Cardano\",\"Regalcoin\",\"TrezarCoin\",\"TerraNovaCoin\",\"Rupee\",\"WomenCoin\",\"Theresa May Coin\",\"NamoCoin\",\"LUXCoin\",\"Xios\",\"Bitcloud 2.0\",\"KekCoin\",\"BlackholeCoin\",\"Infinity Economics\",\"Magnet\",\"Lamden Tau\",\"Electra\",\"Bitcoin Diamond\",\"Cash & Back Coin\",\"Bulwark\",\"Kalkulus\",\"GermanCoin\",\"LiteCoin Ultra\",\"PhantomX\",\"Digiwage\",\"Trollcoin\",\"Litecoin Plus\",\"Monkey Project\",\"TokenPay\",\"1717 Masonic Commemorative Token\",\"My Big Coin\",\"Unified Society USDEX\",\"Tokyo Coin\",\"Stipend\",\"Poa Network\",\"Pushi\",\"Ellerium\",\"Velox\",\"Ontology\",\"Bitspace\",\"Briacoin\",\"Ignition\",\"MedicCoin\",\"Bitcoin Green\",\"Deviant Coin\",\"Abjcoin\",\"Semux\",\"Carebit\",\"Zealium\",\"Proton\",\"iDealCash\",\"Bitcoin Incognito\",\"HollyWoodCoin\",\"Swisscoin\",\"Xt3ch\",\"TheVig\",\"EmaratCoin\",\"Dekado\",\"Lynx\",\"Poseidon Quark\",\"BitcoinWSpectrum\",\"Muse\",\"Trivechain\",\"Dystem\",\"Giant\",\"Peony Coin\",\"Absolute Coin\",\"Vitae\",\"TPCash\",\"ARENON\",\"EUNO\",\"MMOCoin\",\"Ketan\",\"XDNA\",\"PAXEX\",\"ThunderStake\",\"Kcash\",\"Bettex coin\",\"BitMoney\",\"Junson Ming Chan Coin\",\"HerbCoin\",\"PirateCash\",\"Oduwa\",\"Galilel\",\"Crypto Sports\",\"Credit\",\"Dash Platinum\",\"Nasdacoin\",\"Beetle Coin\",\"Titan Coin\",\"Award\",\"Insane Coin\",\"ALAX\",\"LiteDoge\",\"TruckCoin\",\"OrangeCoin\",\"BitstarCoin\",\"NeosCoin\",\"HyperCoin\",\"PinkCoin\",\"AudioCoin\",\"IncaKoin\",\"Piggy Coin\",\"Genstake\",\"XiaoMiCoin\",\"CapriCoin\",\" ClubCoin\",\"Radium\",\"Creditbit \",\"OKCash\",\"Lisk\",\"HiCoin\",\"WhiteCoin\",\"FriendshipCoin\",\"Triangles Coin\",\"EOS\",\"Oxycoin\",\"TigerCash\",\"Waves\",\"Particl\",\"Nxt\",\"ZEPHYR\",\"Gapcoin\",\"BitcoinPlus\"],\"TotalCoinSupply\":{\"__ndarray__\":\"NkOMefkWxz3VCP1MvW5BP1XynHYvG9Q/oib6fJQR9z7McLKR8X5tP6Im+nyUEfc+LEMc6+I26j7HuriNBvA2P03ubVFIlfE+AAAAAAAAAAAAAAAAAAAAAI3ttaD3xqA+je21oPfGsD57FK5H4XqkP/WHfzv9XtI+AAAAAAAAAAAAAAAAAAAAAGkdVU0QdR8/AAAAAAAAAACiJvp8lBH3PixDHOviNho/AAAAAAAAAABoTT0cbtFjP8naMiJJ9/A+AAAAAAAAAAAAAAAAAAAAAIF+GWsDoM8+vHmqQ26GOz/AkxYuq7AZPwAAAAAAAAAAAAAAAAAAAACV1iboCy4RPixDHOviNho/SFD8GHPXYj/waOOItfjkPixDHOviNlo/LEMc6+I2Gj8AAAAAAAAAAKIm+nyUEdc+AAAAAAAAAAAAAAAAAAAAAPyp8dJNYlA/UFX5y1uvYT/8qfHSTWJAP2ZMwRpn0xE/AAAAAAAAAAAAAAAAAAAAAFTkEHFzKuk+/Knx0k1iQD8AAAAAAAAAAPBo44i1+OQ+8GjjiLX49D7waOOItfj0PgAAAAAAAAAAhLndy31yFD+V+ok1IjnVPgAAAAAAAAAALEMc6+I2Gj8sQxzr4jYKP/yp8dJNYlA/3JaYzFCT+z7Jx+4CJQX2PqIm+nyUEfc+q8/VVuwvmz/Jx+4CJQXmPgAAAAAAAAAAycfuAiUFBj/1DnimS/ksP1TkEHFzKjk/8tJNYhBYuT/waOOItfgEP966CoGZl2E/8GjjiLX49D5hMlUwKqkTPwDDly5pMS0/FYxK6gQ0QT8O1v85zJcXP/ePhegQOCI/sHQ+PEuQAT/8qfHSTWJgPzFyDblRPgc/LEMc6+I2Gj8sQxzr4jYqP1RzucFQh0U/LEMc6+I2Cj8O1v85zJcXP8nH7gIlBfY+VOQQcXMqyT7Jx+4CJQX2PgAAAAAAAAAAAAAAAAAAAAATYcPTK2VpP3sUrkfhepQ/q1rSUQ5mEz8AAAAAAAAAAPp+arx0k1g/NNSvB7L4BD+CPVa0+fjEPixDHOviNho/T+j1J/G5Mz/xYmGInL5+P/yp8dJNYiA/aR1VTRB1/z5fB84ZUdpLPxF0NWZ6KdA+LEMc6+I2Cj/xbRNRwDQEP8nH7gIlBQY/8GjjiLX49D5pHVVNEHUPP/Bo44i1+PQ++py7XS9NAT/zdRn+0w0UP7dfPlkxXP0+/h0OWiFSRT/waOOItfjUPj+rzJTW3yI/7gprkculoD8FoidlUkPrPqm2xkea0Ms+aR1VTRB17z5t609siqoUP/yp8dJNYkA/ycfuAiUF9j7l2IT4453jPvBo44i1+PQ+Asu1Kq//9j5LsDic+dUMP0uwOJz51Rw/8zIaY/h17j78qfHSTWJQP+I/IeOiDAI/LEMc6+I2Gj9U/IRYolgDP0uwOJz51Rw/kqumSXDpHD8sQxzr4jYaPyxDHOviNjo//Knx0k1iQD9/VgfbFT72PtPL3ghB/f0+/Knx0k1iUD8zMzMzMzOzP/Bo44i1+AQ//Knx0k1iYD9pHVVNEHX/Prx5qkNuhhs/CtejcD0Ktz8pV94wtjkqPyxDHOviNho/mZmZmZmZqT/waOOItfjkPmkdVU0QdR8/LEMc6+I2Gj9pHVVNEHX/PpmZmZmZmak/x+CKkPHQ8z4vbqMBvAUiPyxDHOviNho/FtJpYC3w4z5bLjW8W0DyPkcCJ1fnJRA/yvCBGEZMCT8H04s1t53RPnnYGyMC9Rc/CtejcD0Kpz/eADPfwU/8PixDHOviNjo/jxg8aWJ/8D5U5BBxcyr5PpmZmZmZmZk/LEMc6+I2Gj9hMlUwKqlTP2kdVU0QdQ8/ycfuAiUF9j4sQxzr4jYqP8nH7gIlBfY+EAoFLWUD7z4730+Nl26CPz+rzJTW3yI//Knx0k1iQD+4HoXrUbieP7x5qkNuhis/vHmqQ26GKz9twQ9V/Q/9PvBo44i1+PQ+mZmZmZmZqT9hMlUwKqkjPyxDHOviNgo/aR1VTRB1Hz+Sy39Iv31NP43ttaD3xtA+ycfuAiUF9j4sQxzr4jb6Pn34/RhmJbs+aR1VTRB1/z6QvknToGguPyxDHOviNko/KIbbf7NH9D6EWijhloswPyxDHOviNvo+aR1VTRB1Dz8hPrDjv0AgP/yp8dJNYlA/LEMc6+I2Cj9U5BBxcyrJPvBo44i1+NQ+/Knx0k1iQD/Jx+4CJQX2PqIm+nyUERc/aR1VTRB1/z4sQxzr4jYaPyxDHOviNio/8GjjiLX4FD8O1v85zJcHP9uptE/B+nQ/ycfuAiUF9j4FoidlUkP7PoeFWtO844Q/oib6fJQRBz8sQxzr4jYaP8nH7gIlBRY/Dtb/OcyXFz9aZDvfT423P5T2Bl+YTEU/CVblkHtIGj8dySs/zPXyPlnHzSuboxU/ycfuAiUF9j56V0IZ2JrVPn5v05/9SJE/vHmqQ26GCz8sQxzr4jYaP/yp8dJNYlA/S7A4nPnVDD8sQxzr4jYKP0PFOH8TCjE/vHmqQ26GKz+gGcQHdvw3PyxDHOviNho/O99PjZdukj/8qfHSTWJQPyxDHOviNgo/61G4HoXrsT8AAAAAAAAAAN4AM9/BTww/vHmqQ26GGz/Jx+4CJQX2Pm8G8+Pv9fM+FuPTzvYJ7D4Spb3BFyazP+MyE7EtqPQ+ycfuAiUFFj/8qfHSTWJAP3sUrkfhenQ/vHmqQ26GOz9pHVVNEHX/Pvyp8dJNYlA/61G4HoXroT8AAAAAAAAAACxDHOviNio/EXy/DSJyDD/Jx+4CJQX2PgAAAAAAAAAA/Knx0k1iQD8bL90kBoGFP50MjpJX5yg//Knx0k1iUD9pHVVNEHXvPixDHOviNjo/BaInZVJDKz/waOOItfgkPz+rzJTW3+I+cMysIFlO8T68eapDboYbP/M1l5j49SQ/RXPJLYN/hD9hMlUwKqkzP3jJZLihiw8/K2mkKSsbgD4AAAAAAAAAAAAAAAAAAAAA/Knx0k1iUD8sQxzr4jYaP1NUbSprG+I+/Knx0k1iUD/8qfHSTWJgP/yp8dJNYjA/je21oPfGsD4=\",\"dtype\":\"float64\",\"order\":\"little\",\"shape\":[289]},\"TotalCoinsMined\":{\"__ndarray__\":\"AAAAAAAAAADVQ6eRhXZRP0gFXx0LSZ4/fb2YAaYh4z6ruJV6oa9mP4fxacJq17U+W7PlNwxp6T7W0pn52A37PoFADD9SNfM+Y2BMhDkIRT+TanQDD0sgP35ukl9tEWc+7S9W9+ubsT49x1z95a+kP28YHhABAMw+ye+KsSkQ2D76DhvNkpI+P1ecpQYuoxc/Ypyz9GrHWz/7kyPDCLLyPpO8/kFBRRA/0/9nDoYGlj/8i/ixXrVaP7x4IiUyI/E+j6uxX+B/ET9yUL0Vow3wPvxfgvURSss+cvkNgl17LT+LzHsEg5UTPwaytCCdUp4/8TiBm6/aCj9doxA1Q7ITPkOS6FanQBU/dL+NX1fZWj+VBQyzwkO4PlcDUAL0L1I/fTIxK6KaCj/j5byfQfUAPxuOVInTct0++0V+YL96Gj9FarAorYYBPzHwJWnxlyM/L/f3qVABXj+Tp6kxyxkLP8ZkQxXrtwQ/ibYLlr8rDD876RpKEMv8PqXMCj0KI8E+Y9QbIWkfJz/NWTdK5t+4PhEtw1ouEd4+SuSuQabKxj5dOKHlN5XoPj9ykiLfprk+IXp/RSnbED9yRrm5bCbiPvbV3K8TUJY++0V+YL96Gj+usZO2/Wf4PjQmLIvTzQY/1efNMZmp7D5+56xI8fTlPuaDOXY0GM8+uMNU6Ym/hj8I144k4rrVPosWSaGt1IQ/AkyV+P4P4z7jP4drq28FPzwUggjXC+Y+7L0e6OUeoz9rTh5jVovSPvn/Em4kxWE/kQBSK/0u9T7vjyYFktAhP3lc7dd7QrQ+QPXFzhym8T4+Nd5F5BgWP9J6jnO41Pk+ObDN1M5vBD+HQ9Dqr+lKP3YCdaw0LdM++0V+YL96Gj/CsEps9C7VPlS9UGUMv0U/pqRxDiJ88D7oqXRGKNwGP54PeOINLqQ+9FiPodBJpj5CAX3zt+DFPsR5KJfqb8A+T/4f/1R0Jj9wy+L1hwRGP4Iw9VQZQJQ/QVxHa5CaEz9q4x6W3sABP+anRel4hTE//jSGyJGwIz9a3dieLS/FPvtFfmC/eho/0CaSSobf8j7om9ie0ehRP4yfDBK/phw/2bdahaRt8z5pi0xWDNe3PzoFWd5FU9A+qVTopb56Cj8Kl7V81RnyPnWw/lSIwcQ+kQBSK/0u9T4WN5ZE6rbZPjz585B5Teo+mJbD7Cdx9T4t+OpgFAQUP+s1WKcNeec+4Jew0N0e5z5bwhuTX5yrPv5ylEtMv+E+qgjVT8Z8oT9eSCgLgW3NPrZMGtKEGMw+gWG4BsRH5j7bwMkrHwIAP/7gqRozYvk+ycQ2iXpnxT4Swqe2z/nXPmWo1pTmCuk+NMilXEnjlD75z9m7pMPIPrZ+M2OfIB0/oIVe/s3E7j56Q0MFuIxQP8DjwNiFFwM/Yojc8CLi6z6/xleSd8/pPjaSA+NaSx0/RxRsP55tHT8TzIbUfsv2PvWgsIfWkjo/vX+hfbIbID9qIh3CGb/WPtzbifm0dbM+ClzCLAnyoD4HdZcEvp8aP4T+AFYCMPI+MqZkmp+JMz9Xk1ir5SDoPkAjePZqn/Y+EiXgvSYHpT8A2wc5DOnlPvtFfmC/eho/PAT7udKVlz/kKuRSPKzRPvzVMe6uqhA/LSuoRvfT3D741RgF1Yb2PjQa6ZQatoI/cEzD1ck29z5MptGTM5ccP79RNfoAEQk/A/IJ6Umg6j460UXAisTzPpjvW85a8tA+hFHN8SWy9D6gfFhURsvRPgdyvDC9evo+e/z7ZVvRmj/C5iuVwcTePgYf7plMLig/MA/ITshUsz68wUDJlmv5Pq6e2lfpD6k/QlKjIeRfGD++L0e45Y1CPzHGVg8zmOE+o0LUKwM3wj4fcKeItkMAP8Q04FD5Huo+ELOcZbFU8T5IMTwRT56CP34izOTEOgQ/uooRAzwSMz+5S1yC81+dP2K6gsKnTCg/4boxdtliHT9rpYs67A/sPseJT2eL9fE+cKEqXilSdD+HGerC0dXhPn4cKx997Ac/cvaEG0zq/D53OzGI/o9DPwhHMQikOMU+4aYHbQ+s0j673Mph4qf1Pm5x4hl+a7s+RIhXsT3p4z4SYLbW0RcvP+7nRXixfS4/5zpHmZTV5z6cGSV4jxIrP7vl+hZcXsI+vca2dTVrnD7QEgJQTBX7PhibEdXsikU/2hcymSE17T7w5ZzyEKmsPnSoVAx5CLQ+uGecINyxMT/aDqH1hMTkPudS3lPTK/c+kN9ciizu5D6aEdS4Bt20PlUpjj1MgCI/om+TfxZ25z7Dc6nzUKjSPkY1wU0FPVc/khOeM70Z5z6hJAmaq38EPy7wHhTRGYU/9Mfa+rkp4D4qKRjnQpoBP7ykOGGm4PY+cjI/RMYJAD98JpgkCCO0PyvK//sHBMc+Nkl3o7idDj/AqyC6i0XzPoY/nsDYjQM/NenvfYQB3j6sMcXCOxTZPkaEeyF8qLE+Oa21oUE+7D6HoWrpn30RP30oAUPr5NY+Vm0Mo+po9D6Kjxo7yksAP5v6hHEKiRw/xGg1vBTC4z7uib9lw8vTPoubEauvFdM+621cOLqKUT96Q0MFuIxQP4+k9xWTwdw+5euiMmKbKz+rIOPFGc2RP8i3xbVxswI/mEbyFfiL7D4iaVq+103vPuP3bPWLWPM+B9lw/alkwD6KKu/wfeKfP+LWzRFFQag+QFZaGS7D9T6ibFc7wlYqPyMwTKxCq00/KMFsei9V8D4Lko001y75PnpDQwW4jFA/YPWlPLqwjz/MI0ph3w4wP60dyfSx+M0+Y6xly1DL9T5/YchLzJvSPmRjNDD6ZuQ+Ixhnf9TiPD+c0yyFFjtQP5xDyy5ZjpI/icG10+pbQD8fxlKrfsYPPzi4r4Xmwzo/YwABvf2oKj8YJJT4Q3AbP0v2HFN6MNA+w+lGFrPm8T6YkizpGcYTPzLjHxJSxx8/8bDGPwewhD9bofnStK4wP6T0YBN//LI+q0k3U4sUgz5Fb5ScwuNQPxHCato3k1I/ekNDBbiMUD/7RX5gv3oaP7NFSRg5quM+ekNDBbiMUD8HHHEKuIxgPznCFIQVoe8+Qg7lzWlkgT4=\",\"dtype\":\"float64\",\"order\":\"little\",\"shape\":[289]}},\"selected\":{\"id\":\"1782\"},\"selection_policy\":{\"id\":\"1797\"}},\"id\":\"1781\",\"type\":\"ColumnDataSource\"},{\"attributes\":{},\"id\":\"1849\",\"type\":\"Selection\"},{\"attributes\":{},\"id\":\"1803\",\"type\":\"Selection\"},{\"attributes\":{\"text_color\":\"black\",\"text_font_size\":\"12pt\"},\"id\":\"1746\",\"type\":\"Title\"},{\"attributes\":{\"source\":{\"id\":\"1848\"}},\"id\":\"1855\",\"type\":\"CDSView\"},{\"attributes\":{},\"id\":\"1825\",\"type\":\"Selection\"},{\"attributes\":{\"data\":{\"Class\":[1,1,1,1],\"CoinName\":[\"Vechain\",\"BiblePay\",\"LitecoinCash\",\"Acute Angle Cloud\"],\"TotalCoinSupply\":{\"__ndarray__\":\"+nQumcwytj+U9gZfmEx1P7x5qkNuhks//Knx0k1iUD8=\",\"dtype\":\"float64\",\"order\":\"little\",\"shape\":[4]},\"TotalCoinsMined\":{\"__ndarray__\":\"zaDgBxGurD+PWA2R2lNdP5CkxfJKIUU/ekNDBbiMUD8=\",\"dtype\":\"float64\",\"order\":\"little\",\"shape\":[4]}},\"selected\":{\"id\":\"1803\"},\"selection_policy\":{\"id\":\"1820\"}},\"id\":\"1802\",\"type\":\"ColumnDataSource\"},{\"attributes\":{\"fill_alpha\":{\"value\":0.1},\"fill_color\":{\"value\":\"#e5ae38\"},\"line_alpha\":{\"value\":0.1},\"line_color\":{\"value\":\"#e5ae38\"},\"size\":{\"value\":5.477225575051661},\"x\":{\"field\":\"TotalCoinsMined\"},\"y\":{\"field\":\"TotalCoinSupply\"}},\"id\":\"1828\",\"type\":\"Scatter\"},{\"attributes\":{\"data\":{\"Class\":[3,3,3,3,3,3,3,3,3,3,3,3,3,3,3,3,3,3,3,3,3,3,3,3,3,3,3,3,3,3,3,3,3,3,3,3,3,3,3,3,3,3,3,3,3,3,3,3,3,3,3,3,3,3,3,3,3,3,3,3,3,3,3,3,3,3,3,3,3,3,3,3,3,3,3,3,3,3,3,3,3,3,3,3,3,3,3,3,3,3,3,3,3,3,3,3,3,3,3,3,3,3,3,3,3,3,3,3,3,3,3,3,3,3,3,3,3,3,3,3,3,3,3,3,3,3,3,3,3,3,3,3,3,3,3,3,3,3,3,3,3,3,3,3,3,3,3,3,3,3,3,3,3,3,3,3,3,3,3,3,3,3,3,3,3,3,3,3,3,3,3,3,3,3,3,3,3,3,3,3,3,3,3,3,3,3,3,3,3,3,3,3,3,3,3,3,3,3,3,3,3,3,3,3,3,3,3,3,3,3,3,3,3,3,3,3,3,3,3,3,3,3,3,3,3,3,3,3,3,3,3,3,3,3,3,3,3,3],\"CoinName\":[\"Bitcoin\",\"Ethereum\",\"Litecoin\",\"Monero\",\"Ethereum Classic\",\"ZCash\",\"DigiByte\",\"ProsperCoin\",\"Spreadcoin\",\"Argentum\",\"MyriadCoin\",\"MoonCoin\",\"ZetaCoin\",\"SexCoin\",\"Quatloo\",\"QuarkCoin\",\"Riecoin\",\"Digitalcoin \",\"Catcoin\",\"CannaCoin\",\"CryptCoin\",\"Verge\",\"DevCoin\",\"EarthCoin\",\"E-Gulden\",\"Einsteinium\",\"Emerald\",\"Franko\",\"FeatherCoin\",\"GrandCoin\",\"GlobalCoin\",\"GoldCoin\",\"Infinite Coin\",\"IXcoin\",\"KrugerCoin\",\"LuckyCoin\",\"Litebar \",\"MegaCoin\",\"MediterraneanCoin\",\"MinCoin\",\"NobleCoin\",\"Namecoin\",\"NyanCoin\",\"RonPaulCoin\",\"StableCoin\",\"SmartCoin\",\"SysCoin\",\"TigerCoin\",\"TerraCoin\",\"UnbreakableCoin\",\"Unobtanium\",\"UroCoin\",\"ViaCoin\",\"Vertcoin\",\"WorldCoin\",\"JouleCoin\",\"ByteCoin\",\"DigitalNote \",\"MonaCoin\",\"Gulden\",\"PesetaCoin\",\"Wild Beast Coin\",\"Flo\",\"ArtByte\",\"Folding Coin\",\"Unitus\",\"CypherPunkCoin\",\"OmniCron\",\"GreenCoin\",\"Cryptonite\",\"MasterCoin\",\"SoonCoin\",\"1Credit\",\"MarsCoin \",\"Crypto\",\"Anarchists Prime\",\"BowsCoin\",\"Song Coin\",\"BitZeny\",\"Expanse\",\"Siacoin\",\"MindCoin\",\"I0coin\",\"Revolution VR\",\"HOdlcoin\",\"Gamecredits\",\"CarpeDiemCoin\",\"Adzcoin\",\"SoilCoin\",\"YoCoin\",\"SibCoin\",\"Francs\",\"BolivarCoin\",\"Omni\",\"PizzaCoin\",\"Komodo\",\"Karbo\",\"ZayedCoin\",\"Circuits of Value\",\"DopeCoin\",\"DollarCoin\",\"Shilling\",\"ZCoin\",\"Elementrem\",\"ZClassic\",\"KiloCoin\",\"ArtexCoin\",\"Kurrent\",\"Cannabis Industry Coin\",\"OsmiumCoin\",\"Bikercoins\",\"HexxCoin\",\"PacCoin\",\"Citadel\",\"BeaverCoin\",\"VaultCoin\",\"Zero\",\"Canada eCoin\",\"Zoin\",\"DubaiCoin\",\"EB3coin\",\"Coinonat\",\"BenjiRolls\",\"ILCoin\",\"EquiTrader\",\"Quantum Resistant Ledger\",\"Dynamic\",\"Nano\",\"ChanCoin\",\"Dinastycoin\",\"DigitalPrice\",\"Unify\",\"SocialCoin\",\"ArcticCoin\",\"DAS\",\"LeviarCoin\",\"Bitcore\",\"gCn Coin\",\"SmartCash\",\"Onix\",\"Bitcoin Cash\",\"Sojourn Coin\",\"NewYorkCoin\",\"FrazCoin\",\"Kronecoin\",\"AdCoin\",\"Linx\",\"Sumokoin\",\"BitcoinZ\",\"Elements\",\"VIVO Coin\",\"Bitcoin Gold\",\"Pirl\",\"eBoost\",\"Pura\",\"Innova\",\"Ellaism\",\"GoByte\",\"SHIELD\",\"UltraNote\",\"BitCoal\",\"DaxxCoin\",\"AC3\",\"Lethean\",\"PopularCoin\",\"Photon\",\"Sucre\",\"SparksPay\",\"GunCoin\",\"IrishCoin\",\"Pioneer Coin\",\"UnitedBitcoin\",\"Interzone\",\"TurtleCoin\",\"MUNcoin\",\"Niobio Cash\",\"ShareChain\",\"Travelflex\",\"KREDS\",\"BitFlip\",\"LottoCoin\",\"Crypto Improvement Fund\",\"Callisto Network\",\"BitTube\",\"Poseidon\",\"Aidos Kuneen\",\"Bitrolium\",\"Alpenschillling\",\"FuturoCoin\",\"Monero Classic\",\"Jumpcoin\",\"Infinex\",\"KEYCO\",\"GINcoin\",\"PlatinCoin\",\"Loki\",\"Newton Coin\",\"MassGrid\",\"PluraCoin\",\"Motion\",\"PlusOneCoin\",\"Axe\",\"HexCoin\",\"Webchain\",\"Ryo\",\"Urals Coin\",\"Qwertycoin\",\"Project Pai\",\"Azart\",\"Xchange\",\"CrypticCoin\",\"Actinium\",\"Bitcoin SV\",\"FREDEnergy\",\"Universal Molecule\",\"Lithium\",\"Exosis\",\"Block-Logic\",\"Beam\",\"Bithereum\",\"SLICE\",\"BLAST\",\"Bitcoin Rhodium\",\"GlobalToken\",\"SolarCoin\",\"UFO Coin\",\"BlakeCoin\",\"Crypto Escudo\",\"Crown Coin\",\"SmileyCoin\",\"Groestlcoin\",\"Bata\",\"Pakcoin\",\"JoinCoin\",\"Vollar\",\"Reality Clash\",\"Beldex\",\"Horizen\"],\"TotalCoinSupply\":{\"__ndarray__\":\"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\",\"dtype\":\"float64\",\"order\":\"little\",\"shape\":[238]},\"TotalCoinsMined\":{\"__ndarray__\":\"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\",\"dtype\":\"float64\",\"order\":\"little\",\"shape\":[238]}},\"selected\":{\"id\":\"1849\"},\"selection_policy\":{\"id\":\"1870\"}},\"id\":\"1848\",\"type\":\"ColumnDataSource\"},{\"attributes\":{},\"id\":\"1762\",\"type\":\"SaveTool\"},{\"attributes\":{\"data_source\":{\"id\":\"1781\"},\"glyph\":{\"id\":\"1784\"},\"hover_glyph\":null,\"muted_glyph\":{\"id\":\"1786\"},\"nonselection_glyph\":{\"id\":\"1785\"},\"selection_glyph\":{\"id\":\"1801\"},\"view\":{\"id\":\"1788\"}},\"id\":\"1787\",\"type\":\"GlyphRenderer\"},{\"attributes\":{\"label\":{\"value\":\"2\"},\"renderers\":[{\"id\":\"1830\"}]},\"id\":\"1846\",\"type\":\"LegendItem\"},{\"attributes\":{},\"id\":\"1763\",\"type\":\"PanTool\"}],\"root_ids\":[\"1737\"]},\"title\":\"Bokeh Application\",\"version\":\"2.3.2\"}};\n",
       "    var render_items = [{\"docid\":\"9de87b89-f029-419e-bfa5-9de959b01ed0\",\"root_ids\":[\"1737\"],\"roots\":{\"1737\":\"b6f12683-a620-406f-9435-df5983c7be39\"}}];\n",
       "    root.Bokeh.embed.embed_items_notebook(docs_json, render_items);\n",
       "  }\n",
       "  if (root.Bokeh !== undefined && root.Bokeh.Panel !== undefined) {\n",
       "    embed_document(root);\n",
       "  } else {\n",
       "    var attempts = 0;\n",
       "    var timer = setInterval(function(root) {\n",
       "      if (root.Bokeh !== undefined && root.Bokeh.Panel !== undefined) {\n",
       "        clearInterval(timer);\n",
       "        embed_document(root);\n",
       "      } else if (document.readyState == \"complete\") {\n",
       "        attempts++;\n",
       "        if (attempts > 200) {\n",
       "          clearInterval(timer);\n",
       "          console.log(\"Bokeh: ERROR: Unable to run BokehJS code because BokehJS library is missing\");\n",
       "        }\n",
       "      }\n",
       "    }, 25, root)\n",
       "  }\n",
       "})(window);</script>"
      ],
      "text/plain": [
       ":NdOverlay   [Class]\n",
       "   :Scatter   [TotalCoinsMined]   (TotalCoinSupply,CoinName)"
      ]
     },
     "execution_count": 56,
     "metadata": {
      "application/vnd.holoviews_exec.v0+json": {
       "id": "1737"
      }
     },
     "output_type": "execute_result"
    }
   ],
   "source": [
    "# Create a hvplot.scatter plot using x=\"TotalCoinsMined\" and y=\"TotalCoinSupply\".\n",
    "plot_df.hvplot.scatter(x=\"TotalCoinsMined\", y=\"TotalCoinSupply\", by=\"Class\",hover_cols = [\"CoinName\"])\n"
   ]
  },
  {
   "cell_type": "code",
   "execution_count": null,
   "metadata": {},
   "outputs": [],
   "source": []
  }
 ],
 "metadata": {
  "file_extension": ".py",
  "kernelspec": {
   "display_name": "mlenv",
   "language": "python",
   "name": "mlenv"
  },
  "language_info": {
   "codemirror_mode": {
    "name": "ipython",
    "version": 3
   },
   "file_extension": ".py",
   "mimetype": "text/x-python",
   "name": "python",
   "nbconvert_exporter": "python",
   "pygments_lexer": "ipython3",
   "version": "3.7.10"
  },
  "latex_envs": {
   "LaTeX_envs_menu_present": true,
   "autoclose": false,
   "autocomplete": true,
   "bibliofile": "biblio.bib",
   "cite_by": "apalike",
   "current_citInitial": 1,
   "eqLabelWithNumbers": true,
   "eqNumInitial": 1,
   "hotkeys": {
    "equation": "Ctrl-E",
    "itemize": "Ctrl-I"
   },
   "labels_anchors": false,
   "latex_user_defs": false,
   "report_style_numbering": false,
   "user_envs_cfg": false
  },
  "mimetype": "text/x-python",
  "name": "python",
  "npconvert_exporter": "python",
  "pygments_lexer": "ipython3",
  "version": 3
 },
 "nbformat": 4,
 "nbformat_minor": 2
}
